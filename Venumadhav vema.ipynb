{
 "cells": [
  {
   "cell_type": "code",
   "execution_count": 16,
   "id": "6281d86c",
   "metadata": {},
   "outputs": [],
   "source": [
    "import pandas as pd\n",
    "import numpy as np\n",
    "import pandas as pd\n",
    "from sklearn.model_selection import train_test_split\n",
    "from sklearn.preprocessing import StandardScaler\n",
    "from sklearn.svm import SVR\n",
    "import pandas as pd\n",
    "from sklearn.ensemble import GradientBoostingRegressor, RandomForestRegressor\n",
    "from sklearn.metrics import mean_squared_error, mean_absolute_error, r2_score\n",
    "import matplotlib.pyplot as plt\n",
    "from sklearn.impute import SimpleImputer\n",
    "\n",
    "from sklearn.metrics import mean_squared_error, r2_score\n",
    "\n",
    "from sklearn.ensemble import GradientBoostingRegressor\n",
    "\n",
    "from sklearn.ensemble import RandomForestRegressor\n",
    "\n",
    "import itertools\n",
    "\n",
    "from sklearn.decomposition import PCA\n",
    "\n",
    "from sklearn.model_selection import GridSearchCV\n",
    "\n",
    "import matplotlib.pyplot as plt\n",
    "import numpy as np"
   ]
  },
  {
   "cell_type": "code",
   "execution_count": 17,
   "id": "ef8232cb",
   "metadata": {},
   "outputs": [],
   "source": [
    "#loading the file\n",
    "df = pd.read_excel('Core_Swi_23.xlsx')"
   ]
  },
  {
   "cell_type": "code",
   "execution_count": 18,
   "id": "2a75caad",
   "metadata": {},
   "outputs": [
    {
     "data": {
      "text/html": [
       "<div>\n",
       "<style scoped>\n",
       "    .dataframe tbody tr th:only-of-type {\n",
       "        vertical-align: middle;\n",
       "    }\n",
       "\n",
       "    .dataframe tbody tr th {\n",
       "        vertical-align: top;\n",
       "    }\n",
       "\n",
       "    .dataframe thead th {\n",
       "        text-align: right;\n",
       "    }\n",
       "</style>\n",
       "<table border=\"1\" class=\"dataframe\">\n",
       "  <thead>\n",
       "    <tr style=\"text-align: right;\">\n",
       "      <th></th>\n",
       "      <th>Depth</th>\n",
       "      <th>TOC</th>\n",
       "      <th>Calcite</th>\n",
       "      <th>Porosity</th>\n",
       "      <th>Swirr</th>\n",
       "      <th>Quartz</th>\n",
       "      <th>TOC1</th>\n",
       "      <th>Mineral</th>\n",
       "      <th>Wat_Per</th>\n",
       "      <th>TOC_Per</th>\n",
       "      <th>QC</th>\n",
       "      <th>PS</th>\n",
       "      <th>S2</th>\n",
       "      <th>TOC3</th>\n",
       "      <th>PS2</th>\n",
       "      <th>PS3</th>\n",
       "      <th>PS4</th>\n",
       "    </tr>\n",
       "  </thead>\n",
       "  <tbody>\n",
       "    <tr>\n",
       "      <th>0</th>\n",
       "      <td>2773.88</td>\n",
       "      <td>4.389823</td>\n",
       "      <td>0.000000</td>\n",
       "      <td>7.059657</td>\n",
       "      <td>7.113304</td>\n",
       "      <td>40.625792</td>\n",
       "      <td>19.270550</td>\n",
       "      <td>40.625792</td>\n",
       "      <td>1.007599</td>\n",
       "      <td>0.621818</td>\n",
       "      <td>-40.625792</td>\n",
       "      <td>-0.053647</td>\n",
       "      <td>0.005060</td>\n",
       "      <td>0.092058</td>\n",
       "      <td>50.217483</td>\n",
       "      <td>0.084014</td>\n",
       "      <td>0.035721</td>\n",
       "    </tr>\n",
       "    <tr>\n",
       "      <th>1</th>\n",
       "      <td>2776.00</td>\n",
       "      <td>4.386618</td>\n",
       "      <td>6.364645</td>\n",
       "      <td>6.336578</td>\n",
       "      <td>9.364680</td>\n",
       "      <td>51.606889</td>\n",
       "      <td>19.242421</td>\n",
       "      <td>57.971534</td>\n",
       "      <td>1.477877</td>\n",
       "      <td>0.692269</td>\n",
       "      <td>-45.242245</td>\n",
       "      <td>-3.028102</td>\n",
       "      <td>0.008770</td>\n",
       "      <td>0.068213</td>\n",
       "      <td>59.340029</td>\n",
       "      <td>0.013945</td>\n",
       "      <td>0.055570</td>\n",
       "    </tr>\n",
       "    <tr>\n",
       "      <th>2</th>\n",
       "      <td>2778.13</td>\n",
       "      <td>3.445457</td>\n",
       "      <td>2.639268</td>\n",
       "      <td>4.697208</td>\n",
       "      <td>5.931133</td>\n",
       "      <td>41.462293</td>\n",
       "      <td>11.871172</td>\n",
       "      <td>44.101561</td>\n",
       "      <td>1.262693</td>\n",
       "      <td>0.733512</td>\n",
       "      <td>-38.823025</td>\n",
       "      <td>-1.233925</td>\n",
       "      <td>0.003518</td>\n",
       "      <td>0.070605</td>\n",
       "      <td>27.859765</td>\n",
       "      <td>0.011315</td>\n",
       "      <td>0.016524</td>\n",
       "    </tr>\n",
       "    <tr>\n",
       "      <th>3</th>\n",
       "      <td>2780.25</td>\n",
       "      <td>-0.310000</td>\n",
       "      <td>67.332860</td>\n",
       "      <td>6.321279</td>\n",
       "      <td>11.776418</td>\n",
       "      <td>4.069170</td>\n",
       "      <td>0.096100</td>\n",
       "      <td>71.402031</td>\n",
       "      <td>1.862980</td>\n",
       "      <td>-0.049041</td>\n",
       "      <td>63.263690</td>\n",
       "      <td>-5.455139</td>\n",
       "      <td>0.013868</td>\n",
       "      <td>-0.003989</td>\n",
       "      <td>74.442022</td>\n",
       "      <td>0.004510</td>\n",
       "      <td>0.087666</td>\n",
       "    </tr>\n",
       "    <tr>\n",
       "      <th>4</th>\n",
       "      <td>2782.48</td>\n",
       "      <td>4.059924</td>\n",
       "      <td>0.618621</td>\n",
       "      <td>5.686218</td>\n",
       "      <td>7.382626</td>\n",
       "      <td>38.091079</td>\n",
       "      <td>16.482983</td>\n",
       "      <td>38.709700</td>\n",
       "      <td>1.298337</td>\n",
       "      <td>0.713994</td>\n",
       "      <td>-37.472458</td>\n",
       "      <td>-1.696408</td>\n",
       "      <td>0.005450</td>\n",
       "      <td>0.091448</td>\n",
       "      <td>41.979219</td>\n",
       "      <td>0.015487</td>\n",
       "      <td>0.030992</td>\n",
       "    </tr>\n",
       "  </tbody>\n",
       "</table>\n",
       "</div>"
      ],
      "text/plain": [
       "     Depth       TOC    Calcite  Porosity      Swirr     Quartz       TOC1  \\\n",
       "0  2773.88  4.389823   0.000000  7.059657   7.113304  40.625792  19.270550   \n",
       "1  2776.00  4.386618   6.364645  6.336578   9.364680  51.606889  19.242421   \n",
       "2  2778.13  3.445457   2.639268  4.697208   5.931133  41.462293  11.871172   \n",
       "3  2780.25 -0.310000  67.332860  6.321279  11.776418   4.069170   0.096100   \n",
       "4  2782.48  4.059924   0.618621  5.686218   7.382626  38.091079  16.482983   \n",
       "\n",
       "     Mineral   Wat_Per   TOC_Per         QC        PS        S2      TOC3  \\\n",
       "0  40.625792  1.007599  0.621818 -40.625792 -0.053647  0.005060  0.092058   \n",
       "1  57.971534  1.477877  0.692269 -45.242245 -3.028102  0.008770  0.068213   \n",
       "2  44.101561  1.262693  0.733512 -38.823025 -1.233925  0.003518  0.070605   \n",
       "3  71.402031  1.862980 -0.049041  63.263690 -5.455139  0.013868 -0.003989   \n",
       "4  38.709700  1.298337  0.713994 -37.472458 -1.696408  0.005450  0.091448   \n",
       "\n",
       "         PS2       PS3       PS4  \n",
       "0  50.217483  0.084014  0.035721  \n",
       "1  59.340029  0.013945  0.055570  \n",
       "2  27.859765  0.011315  0.016524  \n",
       "3  74.442022  0.004510  0.087666  \n",
       "4  41.979219  0.015487  0.030992  "
      ]
     },
     "execution_count": 18,
     "metadata": {},
     "output_type": "execute_result"
    }
   ],
   "source": [
    "#top head list\n",
    "df.head()"
   ]
  },
  {
   "cell_type": "code",
   "execution_count": 19,
   "id": "bb49385c",
   "metadata": {},
   "outputs": [
    {
     "data": {
      "text/plain": [
       "Index(['Depth', 'TOC', 'Calcite', 'Porosity', 'Swirr', 'Quartz', 'TOC1',\n",
       "       'Mineral', 'Wat_Per', 'TOC_Per', 'QC', 'PS', 'S2', 'TOC3', 'PS2', 'PS3',\n",
       "       'PS4'],\n",
       "      dtype='object')"
      ]
     },
     "execution_count": 19,
     "metadata": {},
     "output_type": "execute_result"
    }
   ],
   "source": [
    "#columns\n",
    "df.columns"
   ]
  },
  {
   "cell_type": "code",
   "execution_count": 20,
   "id": "d7eab084",
   "metadata": {},
   "outputs": [
    {
     "data": {
      "text/plain": [
       "(192, 17)"
      ]
     },
     "execution_count": 20,
     "metadata": {},
     "output_type": "execute_result"
    }
   ],
   "source": [
    "#shape of the data\n",
    "df.shape"
   ]
  },
  {
   "cell_type": "code",
   "execution_count": 21,
   "id": "dea63bd9",
   "metadata": {},
   "outputs": [
    {
     "name": "stdout",
     "output_type": "stream",
     "text": [
      "<class 'pandas.core.frame.DataFrame'>\n",
      "RangeIndex: 192 entries, 0 to 191\n",
      "Data columns (total 17 columns):\n",
      " #   Column    Non-Null Count  Dtype  \n",
      "---  ------    --------------  -----  \n",
      " 0   Depth     192 non-null    float64\n",
      " 1   TOC       192 non-null    float64\n",
      " 2   Calcite   192 non-null    float64\n",
      " 3   Porosity  190 non-null    float64\n",
      " 4   Swirr     192 non-null    float64\n",
      " 5   Quartz    192 non-null    float64\n",
      " 6   TOC1      192 non-null    float64\n",
      " 7   Mineral   192 non-null    float64\n",
      " 8   Wat_Per   190 non-null    float64\n",
      " 9   TOC_Per   190 non-null    float64\n",
      " 10  QC        192 non-null    float64\n",
      " 11  PS        190 non-null    float64\n",
      " 12  S2        192 non-null    float64\n",
      " 13  TOC3      190 non-null    float64\n",
      " 14  PS2       190 non-null    float64\n",
      " 15  PS3       190 non-null    float64\n",
      " 16  PS4       190 non-null    float64\n",
      "dtypes: float64(17)\n",
      "memory usage: 25.6 KB\n"
     ]
    }
   ],
   "source": [
    "#information\n",
    "df.info()"
   ]
  },
  {
   "cell_type": "code",
   "execution_count": 22,
   "id": "2fc06070",
   "metadata": {},
   "outputs": [
    {
     "data": {
      "text/html": [
       "<div>\n",
       "<style scoped>\n",
       "    .dataframe tbody tr th:only-of-type {\n",
       "        vertical-align: middle;\n",
       "    }\n",
       "\n",
       "    .dataframe tbody tr th {\n",
       "        vertical-align: top;\n",
       "    }\n",
       "\n",
       "    .dataframe thead th {\n",
       "        text-align: right;\n",
       "    }\n",
       "</style>\n",
       "<table border=\"1\" class=\"dataframe\">\n",
       "  <thead>\n",
       "    <tr style=\"text-align: right;\">\n",
       "      <th></th>\n",
       "      <th>Depth</th>\n",
       "      <th>TOC</th>\n",
       "      <th>Calcite</th>\n",
       "      <th>Porosity</th>\n",
       "      <th>Swirr</th>\n",
       "      <th>Quartz</th>\n",
       "      <th>TOC1</th>\n",
       "      <th>Mineral</th>\n",
       "      <th>Wat_Per</th>\n",
       "      <th>TOC_Per</th>\n",
       "      <th>QC</th>\n",
       "      <th>PS</th>\n",
       "      <th>S2</th>\n",
       "      <th>TOC3</th>\n",
       "      <th>PS2</th>\n",
       "      <th>PS3</th>\n",
       "      <th>PS4</th>\n",
       "    </tr>\n",
       "  </thead>\n",
       "  <tbody>\n",
       "    <tr>\n",
       "      <th>count</th>\n",
       "      <td>192.000000</td>\n",
       "      <td>192.000000</td>\n",
       "      <td>192.000000</td>\n",
       "      <td>190.000000</td>\n",
       "      <td>192.000000</td>\n",
       "      <td>192.000000</td>\n",
       "      <td>192.000000</td>\n",
       "      <td>192.000000</td>\n",
       "      <td>190.000000</td>\n",
       "      <td>190.000000</td>\n",
       "      <td>192.000000</td>\n",
       "      <td>190.000000</td>\n",
       "      <td>192.000000</td>\n",
       "      <td>190.000000</td>\n",
       "      <td>190.000000</td>\n",
       "      <td>1.900000e+02</td>\n",
       "      <td>190.000000</td>\n",
       "    </tr>\n",
       "    <tr>\n",
       "      <th>mean</th>\n",
       "      <td>2980.248872</td>\n",
       "      <td>3.869396</td>\n",
       "      <td>13.177719</td>\n",
       "      <td>4.343813</td>\n",
       "      <td>10.772870</td>\n",
       "      <td>29.441638</td>\n",
       "      <td>17.847483</td>\n",
       "      <td>42.619357</td>\n",
       "      <td>2.997601</td>\n",
       "      <td>0.937791</td>\n",
       "      <td>-16.263920</td>\n",
       "      <td>-6.382774</td>\n",
       "      <td>0.014011</td>\n",
       "      <td>0.099013</td>\n",
       "      <td>44.520906</td>\n",
       "      <td>1.807559e-02</td>\n",
       "      <td>0.055359</td>\n",
       "    </tr>\n",
       "    <tr>\n",
       "      <th>std</th>\n",
       "      <td>123.986170</td>\n",
       "      <td>1.700091</td>\n",
       "      <td>20.524541</td>\n",
       "      <td>1.423776</td>\n",
       "      <td>4.917624</td>\n",
       "      <td>14.812371</td>\n",
       "      <td>13.209178</td>\n",
       "      <td>15.835459</td>\n",
       "      <td>2.184789</td>\n",
       "      <td>0.550717</td>\n",
       "      <td>32.102406</td>\n",
       "      <td>5.453302</td>\n",
       "      <td>0.013155</td>\n",
       "      <td>0.066123</td>\n",
       "      <td>21.566029</td>\n",
       "      <td>5.909128e-02</td>\n",
       "      <td>0.049780</td>\n",
       "    </tr>\n",
       "    <tr>\n",
       "      <th>min</th>\n",
       "      <td>2773.880000</td>\n",
       "      <td>-0.310000</td>\n",
       "      <td>0.000000</td>\n",
       "      <td>0.695030</td>\n",
       "      <td>2.532676</td>\n",
       "      <td>0.000000</td>\n",
       "      <td>0.096100</td>\n",
       "      <td>2.364779</td>\n",
       "      <td>0.388097</td>\n",
       "      <td>-0.049041</td>\n",
       "      <td>-62.110587</td>\n",
       "      <td>-24.171977</td>\n",
       "      <td>0.000641</td>\n",
       "      <td>-0.003989</td>\n",
       "      <td>5.991988</td>\n",
       "      <td>2.463177e-16</td>\n",
       "      <td>0.002564</td>\n",
       "    </tr>\n",
       "    <tr>\n",
       "      <th>25%</th>\n",
       "      <td>2874.485000</td>\n",
       "      <td>2.629111</td>\n",
       "      <td>0.000000</td>\n",
       "      <td>3.475589</td>\n",
       "      <td>7.109355</td>\n",
       "      <td>17.419381</td>\n",
       "      <td>6.912222</td>\n",
       "      <td>31.768091</td>\n",
       "      <td>1.413643</td>\n",
       "      <td>0.640180</td>\n",
       "      <td>-38.408120</td>\n",
       "      <td>-9.771144</td>\n",
       "      <td>0.005054</td>\n",
       "      <td>0.057373</td>\n",
       "      <td>28.066220</td>\n",
       "      <td>2.399025e-06</td>\n",
       "      <td>0.022464</td>\n",
       "    </tr>\n",
       "    <tr>\n",
       "      <th>50%</th>\n",
       "      <td>2972.865000</td>\n",
       "      <td>4.020012</td>\n",
       "      <td>2.843514</td>\n",
       "      <td>4.434661</td>\n",
       "      <td>10.223862</td>\n",
       "      <td>30.459449</td>\n",
       "      <td>16.160499</td>\n",
       "      <td>41.635001</td>\n",
       "      <td>2.328337</td>\n",
       "      <td>0.805213</td>\n",
       "      <td>-28.821132</td>\n",
       "      <td>-6.029476</td>\n",
       "      <td>0.010453</td>\n",
       "      <td>0.090834</td>\n",
       "      <td>40.369581</td>\n",
       "      <td>2.686075e-04</td>\n",
       "      <td>0.037290</td>\n",
       "    </tr>\n",
       "    <tr>\n",
       "      <th>75%</th>\n",
       "      <td>3084.340000</td>\n",
       "      <td>5.079729</td>\n",
       "      <td>17.224044</td>\n",
       "      <td>5.203863</td>\n",
       "      <td>13.452185</td>\n",
       "      <td>40.960765</td>\n",
       "      <td>25.803648</td>\n",
       "      <td>53.416631</td>\n",
       "      <td>3.607545</td>\n",
       "      <td>1.092348</td>\n",
       "      <td>-4.476986</td>\n",
       "      <td>-1.903312</td>\n",
       "      <td>0.018096</td>\n",
       "      <td>0.135073</td>\n",
       "      <td>59.270148</td>\n",
       "      <td>8.020231e-03</td>\n",
       "      <td>0.074841</td>\n",
       "    </tr>\n",
       "    <tr>\n",
       "      <th>max</th>\n",
       "      <td>3196.123333</td>\n",
       "      <td>7.770700</td>\n",
       "      <td>85.867678</td>\n",
       "      <td>8.487825</td>\n",
       "      <td>28.013512</td>\n",
       "      <td>62.110587</td>\n",
       "      <td>60.383773</td>\n",
       "      <td>85.867678</td>\n",
       "      <td>12.404051</td>\n",
       "      <td>5.063122</td>\n",
       "      <td>85.867678</td>\n",
       "      <td>5.193724</td>\n",
       "      <td>0.078476</td>\n",
       "      <td>0.439207</td>\n",
       "      <td>107.614895</td>\n",
       "      <td>5.827042e-01</td>\n",
       "      <td>0.301467</td>\n",
       "    </tr>\n",
       "  </tbody>\n",
       "</table>\n",
       "</div>"
      ],
      "text/plain": [
       "             Depth         TOC     Calcite    Porosity       Swirr  \\\n",
       "count   192.000000  192.000000  192.000000  190.000000  192.000000   \n",
       "mean   2980.248872    3.869396   13.177719    4.343813   10.772870   \n",
       "std     123.986170    1.700091   20.524541    1.423776    4.917624   \n",
       "min    2773.880000   -0.310000    0.000000    0.695030    2.532676   \n",
       "25%    2874.485000    2.629111    0.000000    3.475589    7.109355   \n",
       "50%    2972.865000    4.020012    2.843514    4.434661   10.223862   \n",
       "75%    3084.340000    5.079729   17.224044    5.203863   13.452185   \n",
       "max    3196.123333    7.770700   85.867678    8.487825   28.013512   \n",
       "\n",
       "           Quartz        TOC1     Mineral     Wat_Per     TOC_Per          QC  \\\n",
       "count  192.000000  192.000000  192.000000  190.000000  190.000000  192.000000   \n",
       "mean    29.441638   17.847483   42.619357    2.997601    0.937791  -16.263920   \n",
       "std     14.812371   13.209178   15.835459    2.184789    0.550717   32.102406   \n",
       "min      0.000000    0.096100    2.364779    0.388097   -0.049041  -62.110587   \n",
       "25%     17.419381    6.912222   31.768091    1.413643    0.640180  -38.408120   \n",
       "50%     30.459449   16.160499   41.635001    2.328337    0.805213  -28.821132   \n",
       "75%     40.960765   25.803648   53.416631    3.607545    1.092348   -4.476986   \n",
       "max     62.110587   60.383773   85.867678   12.404051    5.063122   85.867678   \n",
       "\n",
       "               PS          S2        TOC3         PS2           PS3  \\\n",
       "count  190.000000  192.000000  190.000000  190.000000  1.900000e+02   \n",
       "mean    -6.382774    0.014011    0.099013   44.520906  1.807559e-02   \n",
       "std      5.453302    0.013155    0.066123   21.566029  5.909128e-02   \n",
       "min    -24.171977    0.000641   -0.003989    5.991988  2.463177e-16   \n",
       "25%     -9.771144    0.005054    0.057373   28.066220  2.399025e-06   \n",
       "50%     -6.029476    0.010453    0.090834   40.369581  2.686075e-04   \n",
       "75%     -1.903312    0.018096    0.135073   59.270148  8.020231e-03   \n",
       "max      5.193724    0.078476    0.439207  107.614895  5.827042e-01   \n",
       "\n",
       "              PS4  \n",
       "count  190.000000  \n",
       "mean     0.055359  \n",
       "std      0.049780  \n",
       "min      0.002564  \n",
       "25%      0.022464  \n",
       "50%      0.037290  \n",
       "75%      0.074841  \n",
       "max      0.301467  "
      ]
     },
     "execution_count": 22,
     "metadata": {},
     "output_type": "execute_result"
    }
   ],
   "source": [
    "#describin the data \n",
    "df.describe()"
   ]
  },
  {
   "cell_type": "code",
   "execution_count": 23,
   "id": "7d1d2918",
   "metadata": {},
   "outputs": [
    {
     "data": {
      "text/plain": [
       "Depth       0\n",
       "TOC         0\n",
       "Calcite     0\n",
       "Porosity    2\n",
       "Swirr       0\n",
       "Quartz      0\n",
       "TOC1        0\n",
       "Mineral     0\n",
       "Wat_Per     2\n",
       "TOC_Per     2\n",
       "QC          0\n",
       "PS          2\n",
       "S2          0\n",
       "TOC3        2\n",
       "PS2         2\n",
       "PS3         2\n",
       "PS4         2\n",
       "dtype: int64"
      ]
     },
     "execution_count": 23,
     "metadata": {},
     "output_type": "execute_result"
    }
   ],
   "source": [
    "#searching the null\n",
    "df.isnull().sum()"
   ]
  },
  {
   "cell_type": "code",
   "execution_count": 24,
   "id": "28700f4c",
   "metadata": {},
   "outputs": [],
   "source": [
    "# The null values replaced with mean,median and most frequent values of the data\n",
    "\n",
    "df['Porosity'].fillna(np.mean(df['Porosity']))\n",
    "df['Wat_Per'].fillna(np.mean(df['Wat_Per']))\n",
    "df['TOC_Per'].fillna(np.median(df['TOC_Per']),inplace=True)\n",
    "\n"
   ]
  },
  {
   "cell_type": "code",
   "execution_count": 25,
   "id": "4816139d",
   "metadata": {},
   "outputs": [],
   "source": [
    "# now replacing remaining missing values with bfill method \n",
    "df.fillna(method='bfill', inplace=True)\n"
   ]
  },
  {
   "cell_type": "code",
   "execution_count": 26,
   "id": "14a089ad",
   "metadata": {},
   "outputs": [
    {
     "data": {
      "text/plain": [
       "Depth       0\n",
       "TOC         0\n",
       "Calcite     0\n",
       "Porosity    0\n",
       "Swirr       0\n",
       "Quartz      0\n",
       "TOC1        0\n",
       "Mineral     0\n",
       "Wat_Per     0\n",
       "TOC_Per     0\n",
       "QC          0\n",
       "PS          0\n",
       "S2          0\n",
       "TOC3        0\n",
       "PS2         0\n",
       "PS3         0\n",
       "PS4         0\n",
       "dtype: int64"
      ]
     },
     "execution_count": 26,
     "metadata": {},
     "output_type": "execute_result"
    }
   ],
   "source": [
    "# now checking missing values\n",
    "df.isnull().sum()"
   ]
  },
  {
   "cell_type": "raw",
   "id": "91fa7903",
   "metadata": {},
   "source": [
    " DETECTING THE OUTLIERS"
   ]
  },
  {
   "cell_type": "code",
   "execution_count": 27,
   "id": "58a76f92",
   "metadata": {},
   "outputs": [
    {
     "data": {
      "image/png": "[encoded data removed]",
      "text/plain": [
       "<Figure size 720x576 with 1 Axes>"
      ]
     },
     "metadata": {
      "needs_background": "light"
     },
     "output_type": "display_data"
    }
   ],
   "source": [
    "import seaborn as sns\n",
    "import matplotlib.pyplot as plt\n",
    "\n",
    "columns = ['Depth', 'TOC', 'Calcite', 'Porosity', 'Swirr', 'Quartz', 'TOC1']\n",
    "fig, ax = plt.subplots(figsize=(10, 8))\n",
    "\n",
    "sns.boxplot(data=df[columns], ax=ax)\n",
    "ax.set_xticklabels(columns, rotation=45, ha='right')\n",
    "ax.set_xlabel('Columns')\n",
    "ax.set_ylabel('Values')\n",
    "ax.set_title('Boxplot of Columns')\n",
    "plt.show()\n"
   ]
  },
  {
   "cell_type": "code",
   "execution_count": 28,
   "id": "8438217b",
   "metadata": {},
   "outputs": [],
   "source": [
    "# The columns calcite, Porosity columns, Swirr, TOC1 having outliers"
   ]
  },
  {
   "cell_type": "code",
   "execution_count": 30,
   "id": "d15a46d7",
   "metadata": {},
   "outputs": [
    {
     "data": {
      "image/png": "[encoded data removed]",
      "text/plain": [
       "<Figure size 432x288 with 1 Axes>"
      ]
     },
     "metadata": {
      "needs_background": "light"
     },
     "output_type": "display_data"
    }
   ],
   "source": [
    "# example for the above columns\n",
    "df.boxplot('Calcite')\n",
    "\n",
    "plt.show()\n"
   ]
  },
  {
   "cell_type": "code",
   "execution_count": null,
   "id": "34e1b0e0",
   "metadata": {},
   "outputs": [],
   "source": []
  },
  {
   "cell_type": "code",
   "execution_count": 32,
   "id": "2e5e6cc2",
   "metadata": {},
   "outputs": [
    {
     "data": {
      "image/png": "[encoded data removed]",
      "text/plain": [
       "<Figure size 432x288 with 1 Axes>"
      ]
     },
     "metadata": {
      "needs_background": "light"
     },
     "output_type": "display_data"
    }
   ],
   "source": [
    "df.boxplot(column=['Mineral', 'Wat_Per', 'TOC_Per', 'QC', 'PS', 'S2', 'TOC3', 'PS2', 'PS3',\n",
    "       'PS4'])\n",
    "plt.xlabel('Columns')\n",
    "plt.ylabel('Values')\n",
    "plt.show()\n"
   ]
  },
  {
   "cell_type": "code",
   "execution_count": 15,
   "id": "8777c60e",
   "metadata": {},
   "outputs": [],
   "source": [
    "# The columns Wat_Per, TOC_Per,QC, PS, S2, TOC3, PS2, PS3, PS4 having oultiers "
   ]
  },
  {
   "cell_type": "code",
   "execution_count": 16,
   "id": "6a4cef54",
   "metadata": {},
   "outputs": [
    {
     "data": {
      "image/png": "[encoded data removed]",
      "text/plain": [
       "<Figure size 640x480 with 1 Axes>"
      ]
     },
     "metadata": {},
     "output_type": "display_data"
    }
   ],
   "source": [
    "# example for the above column\n",
    "df.boxplot('QC')\n",
    "plt.show()"
   ]
  },
  {
   "cell_type": "raw",
   "id": "e11d5d78",
   "metadata": {},
   "source": [
    "REPLACING THE OUTLIERS"
   ]
  },
  {
   "cell_type": "code",
   "execution_count": 33,
   "id": "cd739ffc",
   "metadata": {},
   "outputs": [],
   "source": [
    "#replacing outliers \n",
    "for cl in df.columns:\n",
    "  if(df[cl].dtype!='object') : \n",
    "    q_75,q_25 = np.percentile(df.loc[:,cl],[75,25])\n",
    "    intr_qr = q_75-q_25\n",
    " \n",
    "    max = q_75+(1.5*intr_qr)\n",
    "    min = q_25-(1.5*intr_qr)\n",
    " \n",
    "    df.loc[df[cl] < min,cl] = min\n",
    "    df.loc[df[cl] > max,cl] = max\n"
   ]
  },
  {
   "cell_type": "code",
   "execution_count": 34,
   "id": "a371f809",
   "metadata": {},
   "outputs": [
    {
     "data": {
      "image/png": "[encoded data removed]",
      "text/plain": [
       "<Figure size 432x288 with 1 Axes>"
      ]
     },
     "metadata": {
      "needs_background": "light"
     },
     "output_type": "display_data"
    }
   ],
   "source": [
    "# after replacing outliers \n",
    "df.boxplot(column=['Mineral', 'Wat_Per', 'TOC_Per', 'QC', 'PS', 'S2', 'TOC3', 'PS2', 'PS3',\n",
    "       'PS4'])\n",
    "plt.xlabel('Columns')\n",
    "plt.ylabel('Values')\n",
    "plt.show()"
   ]
  },
  {
   "cell_type": "raw",
   "id": "41decd6c",
   "metadata": {},
   "source": [
    "SCALING"
   ]
  },
  {
   "cell_type": "code",
   "execution_count": 35,
   "id": "6ed4e0ef",
   "metadata": {},
   "outputs": [
    {
     "name": "stdout",
     "output_type": "stream",
     "text": [
      "[[0.00000000e+00 5.81610960e-01 0.00000000e+00 ... 4.43298305e-01\n",
      "  1.00000000e+00 2.21226417e-01]\n",
      " [5.02080159e-03 5.81214322e-01 1.47808367e-01 ... 5.34738991e-01\n",
      "  6.57491474e-01 3.53659747e-01]\n",
      " [1.00652862e-02 4.64744008e-01 6.12926333e-02 ... 2.19193667e-01\n",
      "  5.33451429e-01 9.31406161e-02]\n",
      " ...\n",
      " [9.90716254e-01 1.51873362e-01 1.00000000e+00 ... 1.94960338e-01\n",
      "  6.97717445e-09 2.12718961e-01]\n",
      " [9.95358127e-01 1.88848378e-01 1.00000000e+00 ... 1.51805362e-01\n",
      "  1.34690771e-06 1.33884052e-01]\n",
      " [1.00000000e+00 1.95238380e-01 1.00000000e+00 ... 2.33621555e-01\n",
      "  1.20664671e-06 2.22013782e-01]]\n"
     ]
    }
   ],
   "source": [
    "# scaling is done using the Min Max Scalar\n",
    "from sklearn.preprocessing import MinMaxScaler\n",
    "X = df.drop('Swirr',axis=1)\n",
    "y = df['Swirr']\n",
    "scaler = MinMaxScaler()\n",
    "scaled_X = scaler.fit_transform(X)\n",
    "print(scaled_X)"
   ]
  },
  {
   "cell_type": "code",
   "execution_count": 36,
   "id": "4a7b2929",
   "metadata": {},
   "outputs": [],
   "source": [
    "# importing the modules to build the model\n",
    "from sklearn.svm import SVR\n",
    "from sklearn.ensemble import GradientBoostingRegressor\n",
    "from sklearn.ensemble import RandomForestRegressor"
   ]
  },
  {
   "cell_type": "code",
   "execution_count": 37,
   "id": "91dd9367",
   "metadata": {},
   "outputs": [],
   "source": [
    "from sklearn.model_selection import train_test_split\n",
    "# Train and test data split\n",
    "X_train, X_test, y_train, y_test  = train_test_split(scaled_X, y, test_size = 0.3, random_state = 100)"
   ]
  },
  {
   "cell_type": "code",
   "execution_count": 38,
   "id": "8276e195",
   "metadata": {},
   "outputs": [],
   "source": [
    "m1 = SVR(kernel='poly',degree=2)\n",
    "m2 = SVR(kernel='RBF')\n",
    "m3 = GradientBoostingRegressor()\n",
    "m4 = RandomForestRegressor()"
   ]
  },
  {
   "cell_type": "raw",
   "id": "a88c47c4",
   "metadata": {},
   "source": [
    " Hyper parameter validation "
   ]
  },
  {
   "cell_type": "code",
   "execution_count": 39,
   "id": "ae35ce54",
   "metadata": {},
   "outputs": [
    {
     "data": {
      "text/html": [
       "<style>#sk-container-id-1 {color: black;background-color: white;}#sk-container-id-1 pre{padding: 0;}#sk-container-id-1 div.sk-toggleable {background-color: white;}#sk-container-id-1 label.sk-toggleable__label {cursor: pointer;display: block;width: 100%;margin-bottom: 0;padding: 0.3em;box-sizing: border-box;text-align: center;}#sk-container-id-1 label.sk-toggleable__label-arrow:before {content: \"▸\";float: left;margin-right: 0.25em;color: #696969;}#sk-container-id-1 label.sk-toggleable__label-arrow:hover:before {color: black;}#sk-container-id-1 div.sk-estimator:hover label.sk-toggleable__label-arrow:before {color: black;}#sk-container-id-1 div.sk-toggleable__content {max-height: 0;max-width: 0;overflow: hidden;text-align: left;background-color: #f0f8ff;}#sk-container-id-1 div.sk-toggleable__content pre {margin: 0.2em;color: black;border-radius: 0.25em;background-color: #f0f8ff;}#sk-container-id-1 input.sk-toggleable__control:checked~div.sk-toggleable__content {max-height: 200px;max-width: 100%;overflow: auto;}#sk-container-id-1 input.sk-toggleable__control:checked~label.sk-toggleable__label-arrow:before {content: \"▾\";}#sk-container-id-1 div.sk-estimator input.sk-toggleable__control:checked~label.sk-toggleable__label {background-color: #d4ebff;}#sk-container-id-1 div.sk-label input.sk-toggleable__control:checked~label.sk-toggleable__label {background-color: #d4ebff;}#sk-container-id-1 input.sk-hidden--visually {border: 0;clip: rect(1px 1px 1px 1px);clip: rect(1px, 1px, 1px, 1px);height: 1px;margin: -1px;overflow: hidden;padding: 0;position: absolute;width: 1px;}#sk-container-id-1 div.sk-estimator {font-family: monospace;background-color: #f0f8ff;border: 1px dotted black;border-radius: 0.25em;box-sizing: border-box;margin-bottom: 0.5em;}#sk-container-id-1 div.sk-estimator:hover {background-color: #d4ebff;}#sk-container-id-1 div.sk-parallel-item::after {content: \"\";width: 100%;border-bottom: 1px solid gray;flex-grow: 1;}#sk-container-id-1 div.sk-label:hover label.sk-toggleable__label {background-color: #d4ebff;}#sk-container-id-1 div.sk-serial::before {content: \"\";position: absolute;border-left: 1px solid gray;box-sizing: border-box;top: 0;bottom: 0;left: 50%;z-index: 0;}#sk-container-id-1 div.sk-serial {display: flex;flex-direction: column;align-items: center;background-color: white;padding-right: 0.2em;padding-left: 0.2em;position: relative;}#sk-container-id-1 div.sk-item {position: relative;z-index: 1;}#sk-container-id-1 div.sk-parallel {display: flex;align-items: stretch;justify-content: center;background-color: white;position: relative;}#sk-container-id-1 div.sk-item::before, #sk-container-id-1 div.sk-parallel-item::before {content: \"\";position: absolute;border-left: 1px solid gray;box-sizing: border-box;top: 0;bottom: 0;left: 50%;z-index: -1;}#sk-container-id-1 div.sk-parallel-item {display: flex;flex-direction: column;z-index: 1;position: relative;background-color: white;}#sk-container-id-1 div.sk-parallel-item:first-child::after {align-self: flex-end;width: 50%;}#sk-container-id-1 div.sk-parallel-item:last-child::after {align-self: flex-start;width: 50%;}#sk-container-id-1 div.sk-parallel-item:only-child::after {width: 0;}#sk-container-id-1 div.sk-dashed-wrapped {border: 1px dashed gray;margin: 0 0.4em 0.5em 0.4em;box-sizing: border-box;padding-bottom: 0.4em;background-color: white;}#sk-container-id-1 div.sk-label label {font-family: monospace;font-weight: bold;display: inline-block;line-height: 1.2em;}#sk-container-id-1 div.sk-label-container {text-align: center;}#sk-container-id-1 div.sk-container {/* jupyter's `normalize.less` sets `[hidden] { display: none; }` but bootstrap.min.css set `[hidden] { display: none !important; }` so we also need the `!important` here to be able to override the default hidden behavior on the sphinx rendered scikit-learn.org. See: https://github.com/scikit-learn/scikit-learn/issues/21755 */display: inline-block !important;position: relative;}#sk-container-id-1 div.sk-text-repr-fallback {display: none;}</style><div id=\"sk-container-id-1\" class=\"sk-top-container\"><div class=\"sk-text-repr-fallback\"><pre>RandomizedSearchCV(cv=5, estimator=SVR(kernel=&#x27;poly&#x27;),\n",
       "                   param_distributions={&#x27;C&#x27;: [0.1, 1, 10, 100], &#x27;degree&#x27;: [2],\n",
       "                                        &#x27;gamma&#x27;: [1, 0.1, 0.01, 0.001],\n",
       "                                        &#x27;kernel&#x27;: [&#x27;poly&#x27;]},\n",
       "                   random_state=0)</pre><b>In a Jupyter environment, please rerun this cell to show the HTML representation or trust the notebook. <br />On GitHub, the HTML representation is unable to render, please try loading this page with nbviewer.org.</b></div><div class=\"sk-container\" hidden><div class=\"sk-item sk-dashed-wrapped\"><div class=\"sk-label-container\"><div class=\"sk-label sk-toggleable\"><input class=\"sk-toggleable__control sk-hidden--visually\" id=\"sk-estimator-id-1\" type=\"checkbox\" ><label for=\"sk-estimator-id-1\" class=\"sk-toggleable__label sk-toggleable__label-arrow\">RandomizedSearchCV</label><div class=\"sk-toggleable__content\"><pre>RandomizedSearchCV(cv=5, estimator=SVR(kernel=&#x27;poly&#x27;),\n",
       "                   param_distributions={&#x27;C&#x27;: [0.1, 1, 10, 100], &#x27;degree&#x27;: [2],\n",
       "                                        &#x27;gamma&#x27;: [1, 0.1, 0.01, 0.001],\n",
       "                                        &#x27;kernel&#x27;: [&#x27;poly&#x27;]},\n",
       "                   random_state=0)</pre></div></div></div><div class=\"sk-parallel\"><div class=\"sk-parallel-item\"><div class=\"sk-item\"><div class=\"sk-label-container\"><div class=\"sk-label sk-toggleable\"><input class=\"sk-toggleable__control sk-hidden--visually\" id=\"sk-estimator-id-2\" type=\"checkbox\" ><label for=\"sk-estimator-id-2\" class=\"sk-toggleable__label sk-toggleable__label-arrow\">estimator: SVR</label><div class=\"sk-toggleable__content\"><pre>SVR(kernel=&#x27;poly&#x27;)</pre></div></div></div><div class=\"sk-serial\"><div class=\"sk-item\"><div class=\"sk-estimator sk-toggleable\"><input class=\"sk-toggleable__control sk-hidden--visually\" id=\"sk-estimator-id-3\" type=\"checkbox\" ><label for=\"sk-estimator-id-3\" class=\"sk-toggleable__label sk-toggleable__label-arrow\">SVR</label><div class=\"sk-toggleable__content\"><pre>SVR(kernel=&#x27;poly&#x27;)</pre></div></div></div></div></div></div></div></div></div></div>"
      ],
      "text/plain": [
       "RandomizedSearchCV(cv=5, estimator=SVR(kernel='poly'),\n",
       "                   param_distributions={'C': [0.1, 1, 10, 100], 'degree': [2],\n",
       "                                        'gamma': [1, 0.1, 0.01, 0.001],\n",
       "                                        'kernel': ['poly']},\n",
       "                   random_state=0)"
      ]
     },
     "execution_count": 39,
     "metadata": {},
     "output_type": "execute_result"
    }
   ],
   "source": [
    "# Hypere parameter validation for SVM polynomial regressor \n",
    "from sklearn.model_selection import cross_val_score, GridSearchCV, RandomizedSearchCV\n",
    "m1  = SVR(kernel='poly')\n",
    "param_grid = {'C': [0.1, 1, 10, 100], \n",
    "              'gamma': [1, 0.1, 0.01, 0.001],\n",
    "              'kernel': ['poly'],\n",
    "             'degree':[2]}\n",
    "random = RandomizedSearchCV(m1, param_grid,cv=5,random_state=0)\n",
    "random.fit(X_train,y_train)"
   ]
  },
  {
   "cell_type": "code",
   "execution_count": 40,
   "id": "9d24461c",
   "metadata": {},
   "outputs": [
    {
     "data": {
      "text/plain": [
       "{'kernel': 'poly', 'gamma': 1, 'degree': 2, 'C': 10}"
      ]
     },
     "execution_count": 40,
     "metadata": {},
     "output_type": "execute_result"
    }
   ],
   "source": [
    "random.best_params_"
   ]
  },
  {
   "cell_type": "code",
   "execution_count": 41,
   "id": "4c945527",
   "metadata": {},
   "outputs": [
    {
     "data": {
      "text/html": [
       "<style>#sk-container-id-2 {color: black;background-color: white;}#sk-container-id-2 pre{padding: 0;}#sk-container-id-2 div.sk-toggleable {background-color: white;}#sk-container-id-2 label.sk-toggleable__label {cursor: pointer;display: block;width: 100%;margin-bottom: 0;padding: 0.3em;box-sizing: border-box;text-align: center;}#sk-container-id-2 label.sk-toggleable__label-arrow:before {content: \"▸\";float: left;margin-right: 0.25em;color: #696969;}#sk-container-id-2 label.sk-toggleable__label-arrow:hover:before {color: black;}#sk-container-id-2 div.sk-estimator:hover label.sk-toggleable__label-arrow:before {color: black;}#sk-container-id-2 div.sk-toggleable__content {max-height: 0;max-width: 0;overflow: hidden;text-align: left;background-color: #f0f8ff;}#sk-container-id-2 div.sk-toggleable__content pre {margin: 0.2em;color: black;border-radius: 0.25em;background-color: #f0f8ff;}#sk-container-id-2 input.sk-toggleable__control:checked~div.sk-toggleable__content {max-height: 200px;max-width: 100%;overflow: auto;}#sk-container-id-2 input.sk-toggleable__control:checked~label.sk-toggleable__label-arrow:before {content: \"▾\";}#sk-container-id-2 div.sk-estimator input.sk-toggleable__control:checked~label.sk-toggleable__label {background-color: #d4ebff;}#sk-container-id-2 div.sk-label input.sk-toggleable__control:checked~label.sk-toggleable__label {background-color: #d4ebff;}#sk-container-id-2 input.sk-hidden--visually {border: 0;clip: rect(1px 1px 1px 1px);clip: rect(1px, 1px, 1px, 1px);height: 1px;margin: -1px;overflow: hidden;padding: 0;position: absolute;width: 1px;}#sk-container-id-2 div.sk-estimator {font-family: monospace;background-color: #f0f8ff;border: 1px dotted black;border-radius: 0.25em;box-sizing: border-box;margin-bottom: 0.5em;}#sk-container-id-2 div.sk-estimator:hover {background-color: #d4ebff;}#sk-container-id-2 div.sk-parallel-item::after {content: \"\";width: 100%;border-bottom: 1px solid gray;flex-grow: 1;}#sk-container-id-2 div.sk-label:hover label.sk-toggleable__label {background-color: #d4ebff;}#sk-container-id-2 div.sk-serial::before {content: \"\";position: absolute;border-left: 1px solid gray;box-sizing: border-box;top: 0;bottom: 0;left: 50%;z-index: 0;}#sk-container-id-2 div.sk-serial {display: flex;flex-direction: column;align-items: center;background-color: white;padding-right: 0.2em;padding-left: 0.2em;position: relative;}#sk-container-id-2 div.sk-item {position: relative;z-index: 1;}#sk-container-id-2 div.sk-parallel {display: flex;align-items: stretch;justify-content: center;background-color: white;position: relative;}#sk-container-id-2 div.sk-item::before, #sk-container-id-2 div.sk-parallel-item::before {content: \"\";position: absolute;border-left: 1px solid gray;box-sizing: border-box;top: 0;bottom: 0;left: 50%;z-index: -1;}#sk-container-id-2 div.sk-parallel-item {display: flex;flex-direction: column;z-index: 1;position: relative;background-color: white;}#sk-container-id-2 div.sk-parallel-item:first-child::after {align-self: flex-end;width: 50%;}#sk-container-id-2 div.sk-parallel-item:last-child::after {align-self: flex-start;width: 50%;}#sk-container-id-2 div.sk-parallel-item:only-child::after {width: 0;}#sk-container-id-2 div.sk-dashed-wrapped {border: 1px dashed gray;margin: 0 0.4em 0.5em 0.4em;box-sizing: border-box;padding-bottom: 0.4em;background-color: white;}#sk-container-id-2 div.sk-label label {font-family: monospace;font-weight: bold;display: inline-block;line-height: 1.2em;}#sk-container-id-2 div.sk-label-container {text-align: center;}#sk-container-id-2 div.sk-container {/* jupyter's `normalize.less` sets `[hidden] { display: none; }` but bootstrap.min.css set `[hidden] { display: none !important; }` so we also need the `!important` here to be able to override the default hidden behavior on the sphinx rendered scikit-learn.org. See: https://github.com/scikit-learn/scikit-learn/issues/21755 */display: inline-block !important;position: relative;}#sk-container-id-2 div.sk-text-repr-fallback {display: none;}</style><div id=\"sk-container-id-2\" class=\"sk-top-container\"><div class=\"sk-text-repr-fallback\"><pre>SVR(C=10, degree=2, gamma=1, kernel=&#x27;poly&#x27;)</pre><b>In a Jupyter environment, please rerun this cell to show the HTML representation or trust the notebook. <br />On GitHub, the HTML representation is unable to render, please try loading this page with nbviewer.org.</b></div><div class=\"sk-container\" hidden><div class=\"sk-item\"><div class=\"sk-estimator sk-toggleable\"><input class=\"sk-toggleable__control sk-hidden--visually\" id=\"sk-estimator-id-4\" type=\"checkbox\" checked><label for=\"sk-estimator-id-4\" class=\"sk-toggleable__label sk-toggleable__label-arrow\">SVR</label><div class=\"sk-toggleable__content\"><pre>SVR(C=10, degree=2, gamma=1, kernel=&#x27;poly&#x27;)</pre></div></div></div></div></div>"
      ],
      "text/plain": [
       "SVR(C=10, degree=2, gamma=1, kernel='poly')"
      ]
     },
     "execution_count": 41,
     "metadata": {},
     "output_type": "execute_result"
    }
   ],
   "source": [
    "# best SVR poly regression model\n",
    "model_1 = SVR(kernel= 'poly', gamma= 1, degree= 2, C= 10)\n",
    "model_1.fit(X_train,y_train)"
   ]
  },
  {
   "cell_type": "code",
   "execution_count": 42,
   "id": "acc98904",
   "metadata": {},
   "outputs": [
    {
     "name": "stdout",
     "output_type": "stream",
     "text": [
      "The model performance for testing set\n",
      "--------------------------------------\n",
      "MAE is 0.39116186075540865\n",
      "MSE is 2.0455521956276175\n",
      "R2 score is 0.9148252925850076\n"
     ]
    }
   ],
   "source": [
    "# finding the metrics for this model \n",
    "from sklearn import metrics\n",
    "y_pred_test = model_1.predict(X_test)\n",
    "mae = metrics.mean_absolute_error(y_test, y_pred_test)\n",
    "mse = metrics.mean_squared_error(y_test, y_pred_test)\n",
    "r2 = metrics.r2_score(y_test, y_pred_test)\n",
    "\n",
    "print(\"The model performance for testing set\")\n",
    "print(\"--------------------------------------\")\n",
    "print('MAE is {}'.format(mae))\n",
    "print('MSE is {}'.format(mse))\n",
    "print('R2 score is {}'.format(r2))"
   ]
  },
  {
   "cell_type": "code",
   "execution_count": null,
   "id": "f05e0ae8",
   "metadata": {},
   "outputs": [],
   "source": []
  },
  {
   "cell_type": "code",
   "execution_count": 43,
   "id": "fb94d78c",
   "metadata": {},
   "outputs": [
    {
     "data": {
      "text/html": [
       "<style>#sk-container-id-3 {color: black;background-color: white;}#sk-container-id-3 pre{padding: 0;}#sk-container-id-3 div.sk-toggleable {background-color: white;}#sk-container-id-3 label.sk-toggleable__label {cursor: pointer;display: block;width: 100%;margin-bottom: 0;padding: 0.3em;box-sizing: border-box;text-align: center;}#sk-container-id-3 label.sk-toggleable__label-arrow:before {content: \"▸\";float: left;margin-right: 0.25em;color: #696969;}#sk-container-id-3 label.sk-toggleable__label-arrow:hover:before {color: black;}#sk-container-id-3 div.sk-estimator:hover label.sk-toggleable__label-arrow:before {color: black;}#sk-container-id-3 div.sk-toggleable__content {max-height: 0;max-width: 0;overflow: hidden;text-align: left;background-color: #f0f8ff;}#sk-container-id-3 div.sk-toggleable__content pre {margin: 0.2em;color: black;border-radius: 0.25em;background-color: #f0f8ff;}#sk-container-id-3 input.sk-toggleable__control:checked~div.sk-toggleable__content {max-height: 200px;max-width: 100%;overflow: auto;}#sk-container-id-3 input.sk-toggleable__control:checked~label.sk-toggleable__label-arrow:before {content: \"▾\";}#sk-container-id-3 div.sk-estimator input.sk-toggleable__control:checked~label.sk-toggleable__label {background-color: #d4ebff;}#sk-container-id-3 div.sk-label input.sk-toggleable__control:checked~label.sk-toggleable__label {background-color: #d4ebff;}#sk-container-id-3 input.sk-hidden--visually {border: 0;clip: rect(1px 1px 1px 1px);clip: rect(1px, 1px, 1px, 1px);height: 1px;margin: -1px;overflow: hidden;padding: 0;position: absolute;width: 1px;}#sk-container-id-3 div.sk-estimator {font-family: monospace;background-color: #f0f8ff;border: 1px dotted black;border-radius: 0.25em;box-sizing: border-box;margin-bottom: 0.5em;}#sk-container-id-3 div.sk-estimator:hover {background-color: #d4ebff;}#sk-container-id-3 div.sk-parallel-item::after {content: \"\";width: 100%;border-bottom: 1px solid gray;flex-grow: 1;}#sk-container-id-3 div.sk-label:hover label.sk-toggleable__label {background-color: #d4ebff;}#sk-container-id-3 div.sk-serial::before {content: \"\";position: absolute;border-left: 1px solid gray;box-sizing: border-box;top: 0;bottom: 0;left: 50%;z-index: 0;}#sk-container-id-3 div.sk-serial {display: flex;flex-direction: column;align-items: center;background-color: white;padding-right: 0.2em;padding-left: 0.2em;position: relative;}#sk-container-id-3 div.sk-item {position: relative;z-index: 1;}#sk-container-id-3 div.sk-parallel {display: flex;align-items: stretch;justify-content: center;background-color: white;position: relative;}#sk-container-id-3 div.sk-item::before, #sk-container-id-3 div.sk-parallel-item::before {content: \"\";position: absolute;border-left: 1px solid gray;box-sizing: border-box;top: 0;bottom: 0;left: 50%;z-index: -1;}#sk-container-id-3 div.sk-parallel-item {display: flex;flex-direction: column;z-index: 1;position: relative;background-color: white;}#sk-container-id-3 div.sk-parallel-item:first-child::after {align-self: flex-end;width: 50%;}#sk-container-id-3 div.sk-parallel-item:last-child::after {align-self: flex-start;width: 50%;}#sk-container-id-3 div.sk-parallel-item:only-child::after {width: 0;}#sk-container-id-3 div.sk-dashed-wrapped {border: 1px dashed gray;margin: 0 0.4em 0.5em 0.4em;box-sizing: border-box;padding-bottom: 0.4em;background-color: white;}#sk-container-id-3 div.sk-label label {font-family: monospace;font-weight: bold;display: inline-block;line-height: 1.2em;}#sk-container-id-3 div.sk-label-container {text-align: center;}#sk-container-id-3 div.sk-container {/* jupyter's `normalize.less` sets `[hidden] { display: none; }` but bootstrap.min.css set `[hidden] { display: none !important; }` so we also need the `!important` here to be able to override the default hidden behavior on the sphinx rendered scikit-learn.org. See: https://github.com/scikit-learn/scikit-learn/issues/21755 */display: inline-block !important;position: relative;}#sk-container-id-3 div.sk-text-repr-fallback {display: none;}</style><div id=\"sk-container-id-3\" class=\"sk-top-container\"><div class=\"sk-text-repr-fallback\"><pre>RandomizedSearchCV(cv=5, estimator=SVR(),\n",
       "                   param_distributions={&#x27;C&#x27;: [0.1, 1, 10, 100],\n",
       "                                        &#x27;gamma&#x27;: [1, 0.1, 0.01, 0.001],\n",
       "                                        &#x27;kernel&#x27;: [&#x27;rbf&#x27;]},\n",
       "                   random_state=0)</pre><b>In a Jupyter environment, please rerun this cell to show the HTML representation or trust the notebook. <br />On GitHub, the HTML representation is unable to render, please try loading this page with nbviewer.org.</b></div><div class=\"sk-container\" hidden><div class=\"sk-item sk-dashed-wrapped\"><div class=\"sk-label-container\"><div class=\"sk-label sk-toggleable\"><input class=\"sk-toggleable__control sk-hidden--visually\" id=\"sk-estimator-id-5\" type=\"checkbox\" ><label for=\"sk-estimator-id-5\" class=\"sk-toggleable__label sk-toggleable__label-arrow\">RandomizedSearchCV</label><div class=\"sk-toggleable__content\"><pre>RandomizedSearchCV(cv=5, estimator=SVR(),\n",
       "                   param_distributions={&#x27;C&#x27;: [0.1, 1, 10, 100],\n",
       "                                        &#x27;gamma&#x27;: [1, 0.1, 0.01, 0.001],\n",
       "                                        &#x27;kernel&#x27;: [&#x27;rbf&#x27;]},\n",
       "                   random_state=0)</pre></div></div></div><div class=\"sk-parallel\"><div class=\"sk-parallel-item\"><div class=\"sk-item\"><div class=\"sk-label-container\"><div class=\"sk-label sk-toggleable\"><input class=\"sk-toggleable__control sk-hidden--visually\" id=\"sk-estimator-id-6\" type=\"checkbox\" ><label for=\"sk-estimator-id-6\" class=\"sk-toggleable__label sk-toggleable__label-arrow\">estimator: SVR</label><div class=\"sk-toggleable__content\"><pre>SVR()</pre></div></div></div><div class=\"sk-serial\"><div class=\"sk-item\"><div class=\"sk-estimator sk-toggleable\"><input class=\"sk-toggleable__control sk-hidden--visually\" id=\"sk-estimator-id-7\" type=\"checkbox\" ><label for=\"sk-estimator-id-7\" class=\"sk-toggleable__label sk-toggleable__label-arrow\">SVR</label><div class=\"sk-toggleable__content\"><pre>SVR()</pre></div></div></div></div></div></div></div></div></div></div>"
      ],
      "text/plain": [
       "RandomizedSearchCV(cv=5, estimator=SVR(),\n",
       "                   param_distributions={'C': [0.1, 1, 10, 100],\n",
       "                                        'gamma': [1, 0.1, 0.01, 0.001],\n",
       "                                        'kernel': ['rbf']},\n",
       "                   random_state=0)"
      ]
     },
     "execution_count": 43,
     "metadata": {},
     "output_type": "execute_result"
    }
   ],
   "source": [
    "# Hyper parameter tuning for the SVM RBF kernel\n",
    "m2  = SVR(kernel='rbf')\n",
    "param_grid = {'C': [0.1, 1, 10, 100], \n",
    "              'gamma': [1, 0.1, 0.01, 0.001],\n",
    "              'kernel': ['rbf']\n",
    "             }\n",
    "random = RandomizedSearchCV(m2, param_grid,cv=5,random_state=0)\n",
    "random.fit(X_train,y_train)"
   ]
  },
  {
   "cell_type": "code",
   "execution_count": 44,
   "id": "df602dd8",
   "metadata": {},
   "outputs": [
    {
     "data": {
      "text/plain": [
       "{'kernel': 'rbf', 'gamma': 0.1, 'C': 100}"
      ]
     },
     "execution_count": 44,
     "metadata": {},
     "output_type": "execute_result"
    }
   ],
   "source": [
    "random.best_params_"
   ]
  },
  {
   "cell_type": "code",
   "execution_count": 45,
   "id": "5c2215bd",
   "metadata": {},
   "outputs": [
    {
     "data": {
      "text/html": [
       "<style>#sk-container-id-4 {color: black;background-color: white;}#sk-container-id-4 pre{padding: 0;}#sk-container-id-4 div.sk-toggleable {background-color: white;}#sk-container-id-4 label.sk-toggleable__label {cursor: pointer;display: block;width: 100%;margin-bottom: 0;padding: 0.3em;box-sizing: border-box;text-align: center;}#sk-container-id-4 label.sk-toggleable__label-arrow:before {content: \"▸\";float: left;margin-right: 0.25em;color: #696969;}#sk-container-id-4 label.sk-toggleable__label-arrow:hover:before {color: black;}#sk-container-id-4 div.sk-estimator:hover label.sk-toggleable__label-arrow:before {color: black;}#sk-container-id-4 div.sk-toggleable__content {max-height: 0;max-width: 0;overflow: hidden;text-align: left;background-color: #f0f8ff;}#sk-container-id-4 div.sk-toggleable__content pre {margin: 0.2em;color: black;border-radius: 0.25em;background-color: #f0f8ff;}#sk-container-id-4 input.sk-toggleable__control:checked~div.sk-toggleable__content {max-height: 200px;max-width: 100%;overflow: auto;}#sk-container-id-4 input.sk-toggleable__control:checked~label.sk-toggleable__label-arrow:before {content: \"▾\";}#sk-container-id-4 div.sk-estimator input.sk-toggleable__control:checked~label.sk-toggleable__label {background-color: #d4ebff;}#sk-container-id-4 div.sk-label input.sk-toggleable__control:checked~label.sk-toggleable__label {background-color: #d4ebff;}#sk-container-id-4 input.sk-hidden--visually {border: 0;clip: rect(1px 1px 1px 1px);clip: rect(1px, 1px, 1px, 1px);height: 1px;margin: -1px;overflow: hidden;padding: 0;position: absolute;width: 1px;}#sk-container-id-4 div.sk-estimator {font-family: monospace;background-color: #f0f8ff;border: 1px dotted black;border-radius: 0.25em;box-sizing: border-box;margin-bottom: 0.5em;}#sk-container-id-4 div.sk-estimator:hover {background-color: #d4ebff;}#sk-container-id-4 div.sk-parallel-item::after {content: \"\";width: 100%;border-bottom: 1px solid gray;flex-grow: 1;}#sk-container-id-4 div.sk-label:hover label.sk-toggleable__label {background-color: #d4ebff;}#sk-container-id-4 div.sk-serial::before {content: \"\";position: absolute;border-left: 1px solid gray;box-sizing: border-box;top: 0;bottom: 0;left: 50%;z-index: 0;}#sk-container-id-4 div.sk-serial {display: flex;flex-direction: column;align-items: center;background-color: white;padding-right: 0.2em;padding-left: 0.2em;position: relative;}#sk-container-id-4 div.sk-item {position: relative;z-index: 1;}#sk-container-id-4 div.sk-parallel {display: flex;align-items: stretch;justify-content: center;background-color: white;position: relative;}#sk-container-id-4 div.sk-item::before, #sk-container-id-4 div.sk-parallel-item::before {content: \"\";position: absolute;border-left: 1px solid gray;box-sizing: border-box;top: 0;bottom: 0;left: 50%;z-index: -1;}#sk-container-id-4 div.sk-parallel-item {display: flex;flex-direction: column;z-index: 1;position: relative;background-color: white;}#sk-container-id-4 div.sk-parallel-item:first-child::after {align-self: flex-end;width: 50%;}#sk-container-id-4 div.sk-parallel-item:last-child::after {align-self: flex-start;width: 50%;}#sk-container-id-4 div.sk-parallel-item:only-child::after {width: 0;}#sk-container-id-4 div.sk-dashed-wrapped {border: 1px dashed gray;margin: 0 0.4em 0.5em 0.4em;box-sizing: border-box;padding-bottom: 0.4em;background-color: white;}#sk-container-id-4 div.sk-label label {font-family: monospace;font-weight: bold;display: inline-block;line-height: 1.2em;}#sk-container-id-4 div.sk-label-container {text-align: center;}#sk-container-id-4 div.sk-container {/* jupyter's `normalize.less` sets `[hidden] { display: none; }` but bootstrap.min.css set `[hidden] { display: none !important; }` so we also need the `!important` here to be able to override the default hidden behavior on the sphinx rendered scikit-learn.org. See: https://github.com/scikit-learn/scikit-learn/issues/21755 */display: inline-block !important;position: relative;}#sk-container-id-4 div.sk-text-repr-fallback {display: none;}</style><div id=\"sk-container-id-4\" class=\"sk-top-container\"><div class=\"sk-text-repr-fallback\"><pre>SVR(C=100, gamma=0.1)</pre><b>In a Jupyter environment, please rerun this cell to show the HTML representation or trust the notebook. <br />On GitHub, the HTML representation is unable to render, please try loading this page with nbviewer.org.</b></div><div class=\"sk-container\" hidden><div class=\"sk-item\"><div class=\"sk-estimator sk-toggleable\"><input class=\"sk-toggleable__control sk-hidden--visually\" id=\"sk-estimator-id-8\" type=\"checkbox\" checked><label for=\"sk-estimator-id-8\" class=\"sk-toggleable__label sk-toggleable__label-arrow\">SVR</label><div class=\"sk-toggleable__content\"><pre>SVR(C=100, gamma=0.1)</pre></div></div></div></div></div>"
      ],
      "text/plain": [
       "SVR(C=100, gamma=0.1)"
      ]
     },
     "execution_count": 45,
     "metadata": {},
     "output_type": "execute_result"
    }
   ],
   "source": [
    "# best model for the svr rbf kernel\n",
    "model_2 = SVR(kernel= 'rbf', gamma= 0.1, C= 100)\n",
    "model_2.fit(X_train,y_train)"
   ]
  },
  {
   "cell_type": "code",
   "execution_count": 46,
   "id": "72664ab2",
   "metadata": {},
   "outputs": [
    {
     "name": "stdout",
     "output_type": "stream",
     "text": [
      "The model performance for testing set\n",
      "--------------------------------------\n",
      "MAE is 0.3995560781197706\n",
      "MSE is 2.232877231372976\n",
      "R2 score is 0.9070252691266874\n"
     ]
    }
   ],
   "source": [
    "y_pred_test = model_2.predict(X_test)\n",
    "mae = metrics.mean_absolute_error(y_test, y_pred_test)\n",
    "mse = metrics.mean_squared_error(y_test, y_pred_test)\n",
    "r2 = metrics.r2_score(y_test, y_pred_test)\n",
    "\n",
    "print(\"The model performance for testing set\")\n",
    "print(\"--------------------------------------\")\n",
    "print('MAE is {}'.format(mae))\n",
    "print('MSE is {}'.format(mse))\n",
    "print('R2 score is {}'.format(r2))"
   ]
  },
  {
   "cell_type": "code",
   "execution_count": null,
   "id": "1cc7bd2a",
   "metadata": {},
   "outputs": [],
   "source": []
  },
  {
   "cell_type": "code",
   "execution_count": 47,
   "id": "12cea756",
   "metadata": {},
   "outputs": [
    {
     "name": "stdout",
     "output_type": "stream",
     "text": [
      "Fitting 5 folds for each of 18 candidates, totalling 90 fits\n"
     ]
    },
    {
     "name": "stderr",
     "output_type": "stream",
     "text": [
      "/opt/anaconda3/lib/python3.8/site-packages/sklearn/model_selection/_search.py:306: UserWarning: The total space of parameters 18 is smaller than n_iter=100. Running 18 iterations. For exhaustive searches, use GridSearchCV.\n",
      "  warnings.warn(\n"
     ]
    },
    {
     "data": {
      "text/html": [
       "<style>#sk-container-id-5 {color: black;background-color: white;}#sk-container-id-5 pre{padding: 0;}#sk-container-id-5 div.sk-toggleable {background-color: white;}#sk-container-id-5 label.sk-toggleable__label {cursor: pointer;display: block;width: 100%;margin-bottom: 0;padding: 0.3em;box-sizing: border-box;text-align: center;}#sk-container-id-5 label.sk-toggleable__label-arrow:before {content: \"▸\";float: left;margin-right: 0.25em;color: #696969;}#sk-container-id-5 label.sk-toggleable__label-arrow:hover:before {color: black;}#sk-container-id-5 div.sk-estimator:hover label.sk-toggleable__label-arrow:before {color: black;}#sk-container-id-5 div.sk-toggleable__content {max-height: 0;max-width: 0;overflow: hidden;text-align: left;background-color: #f0f8ff;}#sk-container-id-5 div.sk-toggleable__content pre {margin: 0.2em;color: black;border-radius: 0.25em;background-color: #f0f8ff;}#sk-container-id-5 input.sk-toggleable__control:checked~div.sk-toggleable__content {max-height: 200px;max-width: 100%;overflow: auto;}#sk-container-id-5 input.sk-toggleable__control:checked~label.sk-toggleable__label-arrow:before {content: \"▾\";}#sk-container-id-5 div.sk-estimator input.sk-toggleable__control:checked~label.sk-toggleable__label {background-color: #d4ebff;}#sk-container-id-5 div.sk-label input.sk-toggleable__control:checked~label.sk-toggleable__label {background-color: #d4ebff;}#sk-container-id-5 input.sk-hidden--visually {border: 0;clip: rect(1px 1px 1px 1px);clip: rect(1px, 1px, 1px, 1px);height: 1px;margin: -1px;overflow: hidden;padding: 0;position: absolute;width: 1px;}#sk-container-id-5 div.sk-estimator {font-family: monospace;background-color: #f0f8ff;border: 1px dotted black;border-radius: 0.25em;box-sizing: border-box;margin-bottom: 0.5em;}#sk-container-id-5 div.sk-estimator:hover {background-color: #d4ebff;}#sk-container-id-5 div.sk-parallel-item::after {content: \"\";width: 100%;border-bottom: 1px solid gray;flex-grow: 1;}#sk-container-id-5 div.sk-label:hover label.sk-toggleable__label {background-color: #d4ebff;}#sk-container-id-5 div.sk-serial::before {content: \"\";position: absolute;border-left: 1px solid gray;box-sizing: border-box;top: 0;bottom: 0;left: 50%;z-index: 0;}#sk-container-id-5 div.sk-serial {display: flex;flex-direction: column;align-items: center;background-color: white;padding-right: 0.2em;padding-left: 0.2em;position: relative;}#sk-container-id-5 div.sk-item {position: relative;z-index: 1;}#sk-container-id-5 div.sk-parallel {display: flex;align-items: stretch;justify-content: center;background-color: white;position: relative;}#sk-container-id-5 div.sk-item::before, #sk-container-id-5 div.sk-parallel-item::before {content: \"\";position: absolute;border-left: 1px solid gray;box-sizing: border-box;top: 0;bottom: 0;left: 50%;z-index: -1;}#sk-container-id-5 div.sk-parallel-item {display: flex;flex-direction: column;z-index: 1;position: relative;background-color: white;}#sk-container-id-5 div.sk-parallel-item:first-child::after {align-self: flex-end;width: 50%;}#sk-container-id-5 div.sk-parallel-item:last-child::after {align-self: flex-start;width: 50%;}#sk-container-id-5 div.sk-parallel-item:only-child::after {width: 0;}#sk-container-id-5 div.sk-dashed-wrapped {border: 1px dashed gray;margin: 0 0.4em 0.5em 0.4em;box-sizing: border-box;padding-bottom: 0.4em;background-color: white;}#sk-container-id-5 div.sk-label label {font-family: monospace;font-weight: bold;display: inline-block;line-height: 1.2em;}#sk-container-id-5 div.sk-label-container {text-align: center;}#sk-container-id-5 div.sk-container {/* jupyter's `normalize.less` sets `[hidden] { display: none; }` but bootstrap.min.css set `[hidden] { display: none !important; }` so we also need the `!important` here to be able to override the default hidden behavior on the sphinx rendered scikit-learn.org. See: https://github.com/scikit-learn/scikit-learn/issues/21755 */display: inline-block !important;position: relative;}#sk-container-id-5 div.sk-text-repr-fallback {display: none;}</style><div id=\"sk-container-id-5\" class=\"sk-top-container\"><div class=\"sk-text-repr-fallback\"><pre>RandomizedSearchCV(cv=5, estimator=GradientBoostingRegressor(), n_iter=100,\n",
       "                   n_jobs=-1,\n",
       "                   param_distributions={&#x27;learning_rate&#x27;: [0.01, 0.1],\n",
       "                                        &#x27;max_depth&#x27;: [3, 6, 10],\n",
       "                                        &#x27;n_estimators&#x27;: [100, 200, 500]},\n",
       "                   random_state=42, verbose=2)</pre><b>In a Jupyter environment, please rerun this cell to show the HTML representation or trust the notebook. <br />On GitHub, the HTML representation is unable to render, please try loading this page with nbviewer.org.</b></div><div class=\"sk-container\" hidden><div class=\"sk-item sk-dashed-wrapped\"><div class=\"sk-label-container\"><div class=\"sk-label sk-toggleable\"><input class=\"sk-toggleable__control sk-hidden--visually\" id=\"sk-estimator-id-9\" type=\"checkbox\" ><label for=\"sk-estimator-id-9\" class=\"sk-toggleable__label sk-toggleable__label-arrow\">RandomizedSearchCV</label><div class=\"sk-toggleable__content\"><pre>RandomizedSearchCV(cv=5, estimator=GradientBoostingRegressor(), n_iter=100,\n",
       "                   n_jobs=-1,\n",
       "                   param_distributions={&#x27;learning_rate&#x27;: [0.01, 0.1],\n",
       "                                        &#x27;max_depth&#x27;: [3, 6, 10],\n",
       "                                        &#x27;n_estimators&#x27;: [100, 200, 500]},\n",
       "                   random_state=42, verbose=2)</pre></div></div></div><div class=\"sk-parallel\"><div class=\"sk-parallel-item\"><div class=\"sk-item\"><div class=\"sk-label-container\"><div class=\"sk-label sk-toggleable\"><input class=\"sk-toggleable__control sk-hidden--visually\" id=\"sk-estimator-id-10\" type=\"checkbox\" ><label for=\"sk-estimator-id-10\" class=\"sk-toggleable__label sk-toggleable__label-arrow\">estimator: GradientBoostingRegressor</label><div class=\"sk-toggleable__content\"><pre>GradientBoostingRegressor()</pre></div></div></div><div class=\"sk-serial\"><div class=\"sk-item\"><div class=\"sk-estimator sk-toggleable\"><input class=\"sk-toggleable__control sk-hidden--visually\" id=\"sk-estimator-id-11\" type=\"checkbox\" ><label for=\"sk-estimator-id-11\" class=\"sk-toggleable__label sk-toggleable__label-arrow\">GradientBoostingRegressor</label><div class=\"sk-toggleable__content\"><pre>GradientBoostingRegressor()</pre></div></div></div></div></div></div></div></div></div></div>"
      ],
      "text/plain": [
       "RandomizedSearchCV(cv=5, estimator=GradientBoostingRegressor(), n_iter=100,\n",
       "                   n_jobs=-1,\n",
       "                   param_distributions={'learning_rate': [0.01, 0.1],\n",
       "                                        'max_depth': [3, 6, 10],\n",
       "                                        'n_estimators': [100, 200, 500]},\n",
       "                   random_state=42, verbose=2)"
      ]
     },
     "execution_count": 47,
     "metadata": {},
     "output_type": "execute_result"
    }
   ],
   "source": [
    "#Hyper parameter tuning for the Gradient boosting regressor \n",
    "m3 = GradientBoostingRegressor()\n",
    "params = { 'max_depth': [3,6,10],\n",
    "           'learning_rate': [0.01,0.1],\n",
    "           'n_estimators': [100,200,500]\n",
    "           }\n",
    "clf = RandomizedSearchCV(estimator = m3, param_distributions = params, n_iter = 100, \n",
    "                               cv = 5, verbose=2, random_state=42, n_jobs = -1)\n",
    "clf.fit(X_train,y_train)"
   ]
  },
  {
   "cell_type": "code",
   "execution_count": 48,
   "id": "4b766edf",
   "metadata": {},
   "outputs": [
    {
     "data": {
      "text/plain": [
       "{'n_estimators': 500, 'max_depth': 3, 'learning_rate': 0.1}"
      ]
     },
     "execution_count": 48,
     "metadata": {},
     "output_type": "execute_result"
    }
   ],
   "source": [
    "clf.best_params_"
   ]
  },
  {
   "cell_type": "code",
   "execution_count": 49,
   "id": "a9b7c4b0",
   "metadata": {},
   "outputs": [
    {
     "data": {
      "text/html": [
       "<style>#sk-container-id-6 {color: black;background-color: white;}#sk-container-id-6 pre{padding: 0;}#sk-container-id-6 div.sk-toggleable {background-color: white;}#sk-container-id-6 label.sk-toggleable__label {cursor: pointer;display: block;width: 100%;margin-bottom: 0;padding: 0.3em;box-sizing: border-box;text-align: center;}#sk-container-id-6 label.sk-toggleable__label-arrow:before {content: \"▸\";float: left;margin-right: 0.25em;color: #696969;}#sk-container-id-6 label.sk-toggleable__label-arrow:hover:before {color: black;}#sk-container-id-6 div.sk-estimator:hover label.sk-toggleable__label-arrow:before {color: black;}#sk-container-id-6 div.sk-toggleable__content {max-height: 0;max-width: 0;overflow: hidden;text-align: left;background-color: #f0f8ff;}#sk-container-id-6 div.sk-toggleable__content pre {margin: 0.2em;color: black;border-radius: 0.25em;background-color: #f0f8ff;}#sk-container-id-6 input.sk-toggleable__control:checked~div.sk-toggleable__content {max-height: 200px;max-width: 100%;overflow: auto;}#sk-container-id-6 input.sk-toggleable__control:checked~label.sk-toggleable__label-arrow:before {content: \"▾\";}#sk-container-id-6 div.sk-estimator input.sk-toggleable__control:checked~label.sk-toggleable__label {background-color: #d4ebff;}#sk-container-id-6 div.sk-label input.sk-toggleable__control:checked~label.sk-toggleable__label {background-color: #d4ebff;}#sk-container-id-6 input.sk-hidden--visually {border: 0;clip: rect(1px 1px 1px 1px);clip: rect(1px, 1px, 1px, 1px);height: 1px;margin: -1px;overflow: hidden;padding: 0;position: absolute;width: 1px;}#sk-container-id-6 div.sk-estimator {font-family: monospace;background-color: #f0f8ff;border: 1px dotted black;border-radius: 0.25em;box-sizing: border-box;margin-bottom: 0.5em;}#sk-container-id-6 div.sk-estimator:hover {background-color: #d4ebff;}#sk-container-id-6 div.sk-parallel-item::after {content: \"\";width: 100%;border-bottom: 1px solid gray;flex-grow: 1;}#sk-container-id-6 div.sk-label:hover label.sk-toggleable__label {background-color: #d4ebff;}#sk-container-id-6 div.sk-serial::before {content: \"\";position: absolute;border-left: 1px solid gray;box-sizing: border-box;top: 0;bottom: 0;left: 50%;z-index: 0;}#sk-container-id-6 div.sk-serial {display: flex;flex-direction: column;align-items: center;background-color: white;padding-right: 0.2em;padding-left: 0.2em;position: relative;}#sk-container-id-6 div.sk-item {position: relative;z-index: 1;}#sk-container-id-6 div.sk-parallel {display: flex;align-items: stretch;justify-content: center;background-color: white;position: relative;}#sk-container-id-6 div.sk-item::before, #sk-container-id-6 div.sk-parallel-item::before {content: \"\";position: absolute;border-left: 1px solid gray;box-sizing: border-box;top: 0;bottom: 0;left: 50%;z-index: -1;}#sk-container-id-6 div.sk-parallel-item {display: flex;flex-direction: column;z-index: 1;position: relative;background-color: white;}#sk-container-id-6 div.sk-parallel-item:first-child::after {align-self: flex-end;width: 50%;}#sk-container-id-6 div.sk-parallel-item:last-child::after {align-self: flex-start;width: 50%;}#sk-container-id-6 div.sk-parallel-item:only-child::after {width: 0;}#sk-container-id-6 div.sk-dashed-wrapped {border: 1px dashed gray;margin: 0 0.4em 0.5em 0.4em;box-sizing: border-box;padding-bottom: 0.4em;background-color: white;}#sk-container-id-6 div.sk-label label {font-family: monospace;font-weight: bold;display: inline-block;line-height: 1.2em;}#sk-container-id-6 div.sk-label-container {text-align: center;}#sk-container-id-6 div.sk-container {/* jupyter's `normalize.less` sets `[hidden] { display: none; }` but bootstrap.min.css set `[hidden] { display: none !important; }` so we also need the `!important` here to be able to override the default hidden behavior on the sphinx rendered scikit-learn.org. See: https://github.com/scikit-learn/scikit-learn/issues/21755 */display: inline-block !important;position: relative;}#sk-container-id-6 div.sk-text-repr-fallback {display: none;}</style><div id=\"sk-container-id-6\" class=\"sk-top-container\"><div class=\"sk-text-repr-fallback\"><pre>GradientBoostingRegressor(n_estimators=200)</pre><b>In a Jupyter environment, please rerun this cell to show the HTML representation or trust the notebook. <br />On GitHub, the HTML representation is unable to render, please try loading this page with nbviewer.org.</b></div><div class=\"sk-container\" hidden><div class=\"sk-item\"><div class=\"sk-estimator sk-toggleable\"><input class=\"sk-toggleable__control sk-hidden--visually\" id=\"sk-estimator-id-12\" type=\"checkbox\" checked><label for=\"sk-estimator-id-12\" class=\"sk-toggleable__label sk-toggleable__label-arrow\">GradientBoostingRegressor</label><div class=\"sk-toggleable__content\"><pre>GradientBoostingRegressor(n_estimators=200)</pre></div></div></div></div></div>"
      ],
      "text/plain": [
       "GradientBoostingRegressor(n_estimators=200)"
      ]
     },
     "execution_count": 49,
     "metadata": {},
     "output_type": "execute_result"
    }
   ],
   "source": [
    "# best model for gradient boost regressor\n",
    "model_3 = GradientBoostingRegressor(n_estimators= 200, max_depth= 3, learning_rate= 0.1)\n",
    "model_3.fit(X_train,y_train)\n"
   ]
  },
  {
   "cell_type": "code",
   "execution_count": 50,
   "id": "721856c5",
   "metadata": {},
   "outputs": [
    {
     "name": "stdout",
     "output_type": "stream",
     "text": [
      "The model performance for testing set\n",
      "--------------------------------------\n",
      "MAE is 0.11278809700895887\n",
      "MSE is 0.15525858879621987\n",
      "R2 score is 0.9935351906919563\n"
     ]
    }
   ],
   "source": [
    "# Test data results\n",
    "y_pred_test = model_3.predict(X_test)\n",
    "mae = metrics.mean_absolute_error(y_test, y_pred_test)\n",
    "mse = metrics.mean_squared_error(y_test, y_pred_test)\n",
    "r2 = metrics.r2_score(y_test, y_pred_test)\n",
    "\n",
    "print(\"The model performance for testing set\")\n",
    "print(\"--------------------------------------\")\n",
    "print('MAE is {}'.format(mae))\n",
    "print('MSE is {}'.format(mse))\n",
    "print('R2 score is {}'.format(r2))"
   ]
  },
  {
   "cell_type": "code",
   "execution_count": null,
   "id": "26258ae0",
   "metadata": {},
   "outputs": [],
   "source": []
  },
  {
   "cell_type": "code",
   "execution_count": 51,
   "id": "300240b4",
   "metadata": {},
   "outputs": [
    {
     "name": "stdout",
     "output_type": "stream",
     "text": [
      "Fitting 3 folds for each of 100 candidates, totalling 300 fits\n"
     ]
    },
    {
     "data": {
      "text/html": [
       "<style>#sk-container-id-7 {color: black;background-color: white;}#sk-container-id-7 pre{padding: 0;}#sk-container-id-7 div.sk-toggleable {background-color: white;}#sk-container-id-7 label.sk-toggleable__label {cursor: pointer;display: block;width: 100%;margin-bottom: 0;padding: 0.3em;box-sizing: border-box;text-align: center;}#sk-container-id-7 label.sk-toggleable__label-arrow:before {content: \"▸\";float: left;margin-right: 0.25em;color: #696969;}#sk-container-id-7 label.sk-toggleable__label-arrow:hover:before {color: black;}#sk-container-id-7 div.sk-estimator:hover label.sk-toggleable__label-arrow:before {color: black;}#sk-container-id-7 div.sk-toggleable__content {max-height: 0;max-width: 0;overflow: hidden;text-align: left;background-color: #f0f8ff;}#sk-container-id-7 div.sk-toggleable__content pre {margin: 0.2em;color: black;border-radius: 0.25em;background-color: #f0f8ff;}#sk-container-id-7 input.sk-toggleable__control:checked~div.sk-toggleable__content {max-height: 200px;max-width: 100%;overflow: auto;}#sk-container-id-7 input.sk-toggleable__control:checked~label.sk-toggleable__label-arrow:before {content: \"▾\";}#sk-container-id-7 div.sk-estimator input.sk-toggleable__control:checked~label.sk-toggleable__label {background-color: #d4ebff;}#sk-container-id-7 div.sk-label input.sk-toggleable__control:checked~label.sk-toggleable__label {background-color: #d4ebff;}#sk-container-id-7 input.sk-hidden--visually {border: 0;clip: rect(1px 1px 1px 1px);clip: rect(1px, 1px, 1px, 1px);height: 1px;margin: -1px;overflow: hidden;padding: 0;position: absolute;width: 1px;}#sk-container-id-7 div.sk-estimator {font-family: monospace;background-color: #f0f8ff;border: 1px dotted black;border-radius: 0.25em;box-sizing: border-box;margin-bottom: 0.5em;}#sk-container-id-7 div.sk-estimator:hover {background-color: #d4ebff;}#sk-container-id-7 div.sk-parallel-item::after {content: \"\";width: 100%;border-bottom: 1px solid gray;flex-grow: 1;}#sk-container-id-7 div.sk-label:hover label.sk-toggleable__label {background-color: #d4ebff;}#sk-container-id-7 div.sk-serial::before {content: \"\";position: absolute;border-left: 1px solid gray;box-sizing: border-box;top: 0;bottom: 0;left: 50%;z-index: 0;}#sk-container-id-7 div.sk-serial {display: flex;flex-direction: column;align-items: center;background-color: white;padding-right: 0.2em;padding-left: 0.2em;position: relative;}#sk-container-id-7 div.sk-item {position: relative;z-index: 1;}#sk-container-id-7 div.sk-parallel {display: flex;align-items: stretch;justify-content: center;background-color: white;position: relative;}#sk-container-id-7 div.sk-item::before, #sk-container-id-7 div.sk-parallel-item::before {content: \"\";position: absolute;border-left: 1px solid gray;box-sizing: border-box;top: 0;bottom: 0;left: 50%;z-index: -1;}#sk-container-id-7 div.sk-parallel-item {display: flex;flex-direction: column;z-index: 1;position: relative;background-color: white;}#sk-container-id-7 div.sk-parallel-item:first-child::after {align-self: flex-end;width: 50%;}#sk-container-id-7 div.sk-parallel-item:last-child::after {align-self: flex-start;width: 50%;}#sk-container-id-7 div.sk-parallel-item:only-child::after {width: 0;}#sk-container-id-7 div.sk-dashed-wrapped {border: 1px dashed gray;margin: 0 0.4em 0.5em 0.4em;box-sizing: border-box;padding-bottom: 0.4em;background-color: white;}#sk-container-id-7 div.sk-label label {font-family: monospace;font-weight: bold;display: inline-block;line-height: 1.2em;}#sk-container-id-7 div.sk-label-container {text-align: center;}#sk-container-id-7 div.sk-container {/* jupyter's `normalize.less` sets `[hidden] { display: none; }` but bootstrap.min.css set `[hidden] { display: none !important; }` so we also need the `!important` here to be able to override the default hidden behavior on the sphinx rendered scikit-learn.org. See: https://github.com/scikit-learn/scikit-learn/issues/21755 */display: inline-block !important;position: relative;}#sk-container-id-7 div.sk-text-repr-fallback {display: none;}</style><div id=\"sk-container-id-7\" class=\"sk-top-container\"><div class=\"sk-text-repr-fallback\"><pre>RandomizedSearchCV(cv=3, estimator=RandomForestRegressor(), n_iter=100,\n",
       "                   n_jobs=-1,\n",
       "                   param_distributions={&#x27;bootstrap&#x27;: [True],\n",
       "                                        &#x27;max_depth&#x27;: [30, 50, 70],\n",
       "                                        &#x27;max_features&#x27;: [2, 3],\n",
       "                                        &#x27;min_samples_leaf&#x27;: [3, 4, 5],\n",
       "                                        &#x27;min_samples_split&#x27;: [8, 10, 12],\n",
       "                                        &#x27;n_estimators&#x27;: [50, 100, 150, 200]},\n",
       "                   random_state=42, verbose=2)</pre><b>In a Jupyter environment, please rerun this cell to show the HTML representation or trust the notebook. <br />On GitHub, the HTML representation is unable to render, please try loading this page with nbviewer.org.</b></div><div class=\"sk-container\" hidden><div class=\"sk-item sk-dashed-wrapped\"><div class=\"sk-label-container\"><div class=\"sk-label sk-toggleable\"><input class=\"sk-toggleable__control sk-hidden--visually\" id=\"sk-estimator-id-13\" type=\"checkbox\" ><label for=\"sk-estimator-id-13\" class=\"sk-toggleable__label sk-toggleable__label-arrow\">RandomizedSearchCV</label><div class=\"sk-toggleable__content\"><pre>RandomizedSearchCV(cv=3, estimator=RandomForestRegressor(), n_iter=100,\n",
       "                   n_jobs=-1,\n",
       "                   param_distributions={&#x27;bootstrap&#x27;: [True],\n",
       "                                        &#x27;max_depth&#x27;: [30, 50, 70],\n",
       "                                        &#x27;max_features&#x27;: [2, 3],\n",
       "                                        &#x27;min_samples_leaf&#x27;: [3, 4, 5],\n",
       "                                        &#x27;min_samples_split&#x27;: [8, 10, 12],\n",
       "                                        &#x27;n_estimators&#x27;: [50, 100, 150, 200]},\n",
       "                   random_state=42, verbose=2)</pre></div></div></div><div class=\"sk-parallel\"><div class=\"sk-parallel-item\"><div class=\"sk-item\"><div class=\"sk-label-container\"><div class=\"sk-label sk-toggleable\"><input class=\"sk-toggleable__control sk-hidden--visually\" id=\"sk-estimator-id-14\" type=\"checkbox\" ><label for=\"sk-estimator-id-14\" class=\"sk-toggleable__label sk-toggleable__label-arrow\">estimator: RandomForestRegressor</label><div class=\"sk-toggleable__content\"><pre>RandomForestRegressor()</pre></div></div></div><div class=\"sk-serial\"><div class=\"sk-item\"><div class=\"sk-estimator sk-toggleable\"><input class=\"sk-toggleable__control sk-hidden--visually\" id=\"sk-estimator-id-15\" type=\"checkbox\" ><label for=\"sk-estimator-id-15\" class=\"sk-toggleable__label sk-toggleable__label-arrow\">RandomForestRegressor</label><div class=\"sk-toggleable__content\"><pre>RandomForestRegressor()</pre></div></div></div></div></div></div></div></div></div></div>"
      ],
      "text/plain": [
       "RandomizedSearchCV(cv=3, estimator=RandomForestRegressor(), n_iter=100,\n",
       "                   n_jobs=-1,\n",
       "                   param_distributions={'bootstrap': [True],\n",
       "                                        'max_depth': [30, 50, 70],\n",
       "                                        'max_features': [2, 3],\n",
       "                                        'min_samples_leaf': [3, 4, 5],\n",
       "                                        'min_samples_split': [8, 10, 12],\n",
       "                                        'n_estimators': [50, 100, 150, 200]},\n",
       "                   random_state=42, verbose=2)"
      ]
     },
     "execution_count": 51,
     "metadata": {},
     "output_type": "execute_result"
    }
   ],
   "source": [
    "# Hyper parameter tuning for the random forest regressor \n",
    "m4 = RandomForestRegressor()\n",
    "params = { 'bootstrap': [True],\n",
    "    'max_depth': [30,50,70],\n",
    "    'max_features': [2, 3],\n",
    "    'min_samples_leaf': [3, 4, 5],\n",
    "    'min_samples_split': [8, 10, 12],\n",
    "    'n_estimators': [50, 100, 150, 200]}\n",
    "clf = RandomizedSearchCV(estimator = m4, param_distributions = params, n_iter = 100, \n",
    "                               cv = 3, verbose=2, random_state=42, n_jobs = -1)\n",
    "clf.fit(X_train,y_train)"
   ]
  },
  {
   "cell_type": "code",
   "execution_count": 52,
   "id": "9e2931f3",
   "metadata": {},
   "outputs": [
    {
     "data": {
      "text/plain": [
       "{'n_estimators': 150,\n",
       " 'min_samples_split': 8,\n",
       " 'min_samples_leaf': 3,\n",
       " 'max_features': 3,\n",
       " 'max_depth': 70,\n",
       " 'bootstrap': True}"
      ]
     },
     "execution_count": 52,
     "metadata": {},
     "output_type": "execute_result"
    }
   ],
   "source": [
    "clf.best_params_"
   ]
  },
  {
   "cell_type": "code",
   "execution_count": 53,
   "id": "04a93c10",
   "metadata": {},
   "outputs": [
    {
     "data": {
      "text/html": [
       "<style>#sk-container-id-8 {color: black;background-color: white;}#sk-container-id-8 pre{padding: 0;}#sk-container-id-8 div.sk-toggleable {background-color: white;}#sk-container-id-8 label.sk-toggleable__label {cursor: pointer;display: block;width: 100%;margin-bottom: 0;padding: 0.3em;box-sizing: border-box;text-align: center;}#sk-container-id-8 label.sk-toggleable__label-arrow:before {content: \"▸\";float: left;margin-right: 0.25em;color: #696969;}#sk-container-id-8 label.sk-toggleable__label-arrow:hover:before {color: black;}#sk-container-id-8 div.sk-estimator:hover label.sk-toggleable__label-arrow:before {color: black;}#sk-container-id-8 div.sk-toggleable__content {max-height: 0;max-width: 0;overflow: hidden;text-align: left;background-color: #f0f8ff;}#sk-container-id-8 div.sk-toggleable__content pre {margin: 0.2em;color: black;border-radius: 0.25em;background-color: #f0f8ff;}#sk-container-id-8 input.sk-toggleable__control:checked~div.sk-toggleable__content {max-height: 200px;max-width: 100%;overflow: auto;}#sk-container-id-8 input.sk-toggleable__control:checked~label.sk-toggleable__label-arrow:before {content: \"▾\";}#sk-container-id-8 div.sk-estimator input.sk-toggleable__control:checked~label.sk-toggleable__label {background-color: #d4ebff;}#sk-container-id-8 div.sk-label input.sk-toggleable__control:checked~label.sk-toggleable__label {background-color: #d4ebff;}#sk-container-id-8 input.sk-hidden--visually {border: 0;clip: rect(1px 1px 1px 1px);clip: rect(1px, 1px, 1px, 1px);height: 1px;margin: -1px;overflow: hidden;padding: 0;position: absolute;width: 1px;}#sk-container-id-8 div.sk-estimator {font-family: monospace;background-color: #f0f8ff;border: 1px dotted black;border-radius: 0.25em;box-sizing: border-box;margin-bottom: 0.5em;}#sk-container-id-8 div.sk-estimator:hover {background-color: #d4ebff;}#sk-container-id-8 div.sk-parallel-item::after {content: \"\";width: 100%;border-bottom: 1px solid gray;flex-grow: 1;}#sk-container-id-8 div.sk-label:hover label.sk-toggleable__label {background-color: #d4ebff;}#sk-container-id-8 div.sk-serial::before {content: \"\";position: absolute;border-left: 1px solid gray;box-sizing: border-box;top: 0;bottom: 0;left: 50%;z-index: 0;}#sk-container-id-8 div.sk-serial {display: flex;flex-direction: column;align-items: center;background-color: white;padding-right: 0.2em;padding-left: 0.2em;position: relative;}#sk-container-id-8 div.sk-item {position: relative;z-index: 1;}#sk-container-id-8 div.sk-parallel {display: flex;align-items: stretch;justify-content: center;background-color: white;position: relative;}#sk-container-id-8 div.sk-item::before, #sk-container-id-8 div.sk-parallel-item::before {content: \"\";position: absolute;border-left: 1px solid gray;box-sizing: border-box;top: 0;bottom: 0;left: 50%;z-index: -1;}#sk-container-id-8 div.sk-parallel-item {display: flex;flex-direction: column;z-index: 1;position: relative;background-color: white;}#sk-container-id-8 div.sk-parallel-item:first-child::after {align-self: flex-end;width: 50%;}#sk-container-id-8 div.sk-parallel-item:last-child::after {align-self: flex-start;width: 50%;}#sk-container-id-8 div.sk-parallel-item:only-child::after {width: 0;}#sk-container-id-8 div.sk-dashed-wrapped {border: 1px dashed gray;margin: 0 0.4em 0.5em 0.4em;box-sizing: border-box;padding-bottom: 0.4em;background-color: white;}#sk-container-id-8 div.sk-label label {font-family: monospace;font-weight: bold;display: inline-block;line-height: 1.2em;}#sk-container-id-8 div.sk-label-container {text-align: center;}#sk-container-id-8 div.sk-container {/* jupyter's `normalize.less` sets `[hidden] { display: none; }` but bootstrap.min.css set `[hidden] { display: none !important; }` so we also need the `!important` here to be able to override the default hidden behavior on the sphinx rendered scikit-learn.org. See: https://github.com/scikit-learn/scikit-learn/issues/21755 */display: inline-block !important;position: relative;}#sk-container-id-8 div.sk-text-repr-fallback {display: none;}</style><div id=\"sk-container-id-8\" class=\"sk-top-container\"><div class=\"sk-text-repr-fallback\"><pre>RandomForestRegressor(max_depth=30, max_features=3, min_samples_leaf=3,\n",
       "                      min_samples_split=8, n_estimators=50)</pre><b>In a Jupyter environment, please rerun this cell to show the HTML representation or trust the notebook. <br />On GitHub, the HTML representation is unable to render, please try loading this page with nbviewer.org.</b></div><div class=\"sk-container\" hidden><div class=\"sk-item\"><div class=\"sk-estimator sk-toggleable\"><input class=\"sk-toggleable__control sk-hidden--visually\" id=\"sk-estimator-id-16\" type=\"checkbox\" checked><label for=\"sk-estimator-id-16\" class=\"sk-toggleable__label sk-toggleable__label-arrow\">RandomForestRegressor</label><div class=\"sk-toggleable__content\"><pre>RandomForestRegressor(max_depth=30, max_features=3, min_samples_leaf=3,\n",
       "                      min_samples_split=8, n_estimators=50)</pre></div></div></div></div></div>"
      ],
      "text/plain": [
       "RandomForestRegressor(max_depth=30, max_features=3, min_samples_leaf=3,\n",
       "                      min_samples_split=8, n_estimators=50)"
      ]
     },
     "execution_count": 53,
     "metadata": {},
     "output_type": "execute_result"
    }
   ],
   "source": [
    "# best random forest regressor\n",
    "model_4 = RandomForestRegressor(n_estimators= 50,\n",
    " min_samples_split= 8,\n",
    " min_samples_leaf=3,\n",
    " max_features=3,\n",
    " max_depth=30,\n",
    " bootstrap=True)\n",
    "model_4.fit(X_train,y_train)"
   ]
  },
  {
   "cell_type": "code",
   "execution_count": 38,
   "id": "0eae2280",
   "metadata": {},
   "outputs": [
    {
     "name": "stdout",
     "output_type": "stream",
     "text": [
      "The model performance for testing set\n",
      "--------------------------------------\n",
      "MAE is 0.814193473495146\n",
      "MSE is 3.152205483060764\n",
      "R2 score is 0.8687453782379492\n"
     ]
    }
   ],
   "source": [
    "# Test data results\n",
    "y_pred_test = model_4.predict(X_test)\n",
    "mae = metrics.mean_absolute_error(y_test, y_pred_test)\n",
    "mse = metrics.mean_squared_error(y_test, y_pred_test)\n",
    "r2 = metrics.r2_score(y_test, y_pred_test)\n",
    "\n",
    "print(\"The model performance for testing set\")\n",
    "print(\"--------------------------------------\")\n",
    "print('MAE is {}'.format(mae))\n",
    "print('MSE is {}'.format(mse))\n",
    "print('R2 score is {}'.format(r2))"
   ]
  },
  {
   "cell_type": "markdown",
   "id": "1faad7a7",
   "metadata": {},
   "source": [
    "### subplots of actual vs predicted labels without dimensionality reduction "
   ]
  },
  {
   "cell_type": "code",
   "execution_count": 55,
   "id": "d784a5ec",
   "metadata": {},
   "outputs": [
    {
     "data": {
      "image/png": "[encoded data removed]",
      "text/plain": [
       "<Figure size 432x288 with 4 Axes>"
      ]
     },
     "metadata": {
      "needs_background": "light"
     },
     "output_type": "display_data"
    }
   ],
   "source": [
    "y_pred_test_svm_p = model_1.predict(X_test)\n",
    "y_pred_test_svm_rbf = model_2.predict(X_test)\n",
    "y_pred_test_grb  = model_3.predict(X_test)\n",
    "y_pred_test_rf = model_4.predict(X_test)\n",
    "\n",
    "x1 = y_test\n",
    "y1 = y_pred_test_svm_p\n",
    "\n",
    "plt.subplot(4,1,1)\n",
    "plt.scatter(x1,y1)\n",
    "\n",
    "x2 = y_test\n",
    "y2 = y_pred_test_svm_rbf\n",
    "\n",
    "plt.subplot(4,1,2)\n",
    "plt.scatter(x2,y2)\n",
    "\n",
    "x3 = y_test\n",
    "y3 = y_pred_test_grb\n",
    "\n",
    "plt.subplot(4,1,3)\n",
    "plt.scatter(x3,y3)\n",
    "\n",
    "x4 = y_test\n",
    "y4 = y_pred_test_rf\n",
    "plt.subplot(4,1,4)\n",
    "plt.scatter(x4,y4)\n",
    "\n",
    "plt.show()\n",
    "\n",
    "\n",
    "\n"
   ]
  },
  {
   "cell_type": "code",
   "execution_count": null,
   "id": "449a5676",
   "metadata": {},
   "outputs": [],
   "source": []
  },
  {
   "cell_type": "code",
   "execution_count": 40,
   "id": "95180471",
   "metadata": {},
   "outputs": [
    {
     "data": {
      "text/html": [
       "<div>\n",
       "<style scoped>\n",
       "    .dataframe tbody tr th:only-of-type {\n",
       "        vertical-align: middle;\n",
       "    }\n",
       "\n",
       "    .dataframe tbody tr th {\n",
       "        vertical-align: top;\n",
       "    }\n",
       "\n",
       "    .dataframe thead th {\n",
       "        text-align: right;\n",
       "    }\n",
       "</style>\n",
       "<table border=\"1\" class=\"dataframe\">\n",
       "  <thead>\n",
       "    <tr style=\"text-align: right;\">\n",
       "      <th></th>\n",
       "      <th>Depth</th>\n",
       "      <th>TOC</th>\n",
       "      <th>Calcite</th>\n",
       "      <th>Porosity</th>\n",
       "      <th>Quartz</th>\n",
       "      <th>TOC1</th>\n",
       "      <th>Mineral</th>\n",
       "      <th>Wat_Per</th>\n",
       "      <th>TOC_Per</th>\n",
       "      <th>QC</th>\n",
       "      <th>PS</th>\n",
       "      <th>S2</th>\n",
       "      <th>TOC3</th>\n",
       "      <th>PS2</th>\n",
       "      <th>PS3</th>\n",
       "      <th>PS4</th>\n",
       "    </tr>\n",
       "  </thead>\n",
       "  <tbody>\n",
       "    <tr>\n",
       "      <th>Depth</th>\n",
       "      <td>1.000000</td>\n",
       "      <td>0.217064</td>\n",
       "      <td>-0.190753</td>\n",
       "      <td>-0.076517</td>\n",
       "      <td>0.083436</td>\n",
       "      <td>0.200338</td>\n",
       "      <td>-0.194137</td>\n",
       "      <td>0.033945</td>\n",
       "      <td>0.294391</td>\n",
       "      <td>-0.158995</td>\n",
       "      <td>-0.097642</td>\n",
       "      <td>0.105863</td>\n",
       "      <td>0.220525</td>\n",
       "      <td>0.046587</td>\n",
       "      <td>-0.084547</td>\n",
       "      <td>0.093585</td>\n",
       "    </tr>\n",
       "    <tr>\n",
       "      <th>TOC</th>\n",
       "      <td>0.217064</td>\n",
       "      <td>1.000000</td>\n",
       "      <td>-0.775507</td>\n",
       "      <td>0.391036</td>\n",
       "      <td>0.565360</td>\n",
       "      <td>0.968191</td>\n",
       "      <td>-0.458886</td>\n",
       "      <td>0.013070</td>\n",
       "      <td>0.788024</td>\n",
       "      <td>-0.747719</td>\n",
       "      <td>-0.355772</td>\n",
       "      <td>0.541730</td>\n",
       "      <td>0.779773</td>\n",
       "      <td>0.776672</td>\n",
       "      <td>-0.125427</td>\n",
       "      <td>0.726529</td>\n",
       "    </tr>\n",
       "    <tr>\n",
       "      <th>Calcite</th>\n",
       "      <td>-0.190753</td>\n",
       "      <td>-0.775507</td>\n",
       "      <td>1.000000</td>\n",
       "      <td>-0.626263</td>\n",
       "      <td>-0.635366</td>\n",
       "      <td>-0.656298</td>\n",
       "      <td>0.657791</td>\n",
       "      <td>0.467772</td>\n",
       "      <td>-0.449248</td>\n",
       "      <td>0.915402</td>\n",
       "      <td>-0.212836</td>\n",
       "      <td>0.020559</td>\n",
       "      <td>-0.700519</td>\n",
       "      <td>-0.390816</td>\n",
       "      <td>-0.305619</td>\n",
       "      <td>-0.252716</td>\n",
       "    </tr>\n",
       "    <tr>\n",
       "      <th>Porosity</th>\n",
       "      <td>-0.076517</td>\n",
       "      <td>0.391036</td>\n",
       "      <td>-0.626263</td>\n",
       "      <td>1.000000</td>\n",
       "      <td>0.652501</td>\n",
       "      <td>0.276244</td>\n",
       "      <td>-0.184142</td>\n",
       "      <td>-0.752706</td>\n",
       "      <td>-0.198131</td>\n",
       "      <td>-0.704549</td>\n",
       "      <td>0.535198</td>\n",
       "      <td>-0.272651</td>\n",
       "      <td>0.203751</td>\n",
       "      <td>0.377836</td>\n",
       "      <td>0.613432</td>\n",
       "      <td>0.087859</td>\n",
       "    </tr>\n",
       "    <tr>\n",
       "      <th>Quartz</th>\n",
       "      <td>0.083436</td>\n",
       "      <td>0.565360</td>\n",
       "      <td>-0.635366</td>\n",
       "      <td>0.652501</td>\n",
       "      <td>1.000000</td>\n",
       "      <td>0.450072</td>\n",
       "      <td>0.104261</td>\n",
       "      <td>-0.435400</td>\n",
       "      <td>0.194660</td>\n",
       "      <td>-0.887440</td>\n",
       "      <td>0.225863</td>\n",
       "      <td>-0.058928</td>\n",
       "      <td>0.073644</td>\n",
       "      <td>0.417673</td>\n",
       "      <td>0.268838</td>\n",
       "      <td>0.202764</td>\n",
       "    </tr>\n",
       "    <tr>\n",
       "      <th>TOC1</th>\n",
       "      <td>0.200338</td>\n",
       "      <td>0.968191</td>\n",
       "      <td>-0.656298</td>\n",
       "      <td>0.276244</td>\n",
       "      <td>0.450072</td>\n",
       "      <td>1.000000</td>\n",
       "      <td>-0.387768</td>\n",
       "      <td>0.186852</td>\n",
       "      <td>0.799676</td>\n",
       "      <td>-0.613648</td>\n",
       "      <td>-0.518639</td>\n",
       "      <td>0.703429</td>\n",
       "      <td>0.765571</td>\n",
       "      <td>0.831877</td>\n",
       "      <td>-0.206592</td>\n",
       "      <td>0.832011</td>\n",
       "    </tr>\n",
       "    <tr>\n",
       "      <th>Mineral</th>\n",
       "      <td>-0.194137</td>\n",
       "      <td>-0.458886</td>\n",
       "      <td>0.657791</td>\n",
       "      <td>-0.184142</td>\n",
       "      <td>0.104261</td>\n",
       "      <td>-0.387768</td>\n",
       "      <td>1.000000</td>\n",
       "      <td>0.277885</td>\n",
       "      <td>-0.414446</td>\n",
       "      <td>0.348374</td>\n",
       "      <td>-0.132296</td>\n",
       "      <td>0.065091</td>\n",
       "      <td>-0.807808</td>\n",
       "      <td>-0.060145</td>\n",
       "      <td>-0.127977</td>\n",
       "      <td>-0.074976</td>\n",
       "    </tr>\n",
       "    <tr>\n",
       "      <th>Wat_Per</th>\n",
       "      <td>0.033945</td>\n",
       "      <td>0.013070</td>\n",
       "      <td>0.467772</td>\n",
       "      <td>-0.752706</td>\n",
       "      <td>-0.435400</td>\n",
       "      <td>0.186852</td>\n",
       "      <td>0.277885</td>\n",
       "      <td>1.000000</td>\n",
       "      <td>0.449125</td>\n",
       "      <td>0.516479</td>\n",
       "      <td>-0.894066</td>\n",
       "      <td>0.742032</td>\n",
       "      <td>0.047675</td>\n",
       "      <td>0.179264</td>\n",
       "      <td>-0.638448</td>\n",
       "      <td>0.443259</td>\n",
       "    </tr>\n",
       "    <tr>\n",
       "      <th>TOC_Per</th>\n",
       "      <td>0.294391</td>\n",
       "      <td>0.788024</td>\n",
       "      <td>-0.449248</td>\n",
       "      <td>-0.198131</td>\n",
       "      <td>0.194660</td>\n",
       "      <td>0.799676</td>\n",
       "      <td>-0.414446</td>\n",
       "      <td>0.449125</td>\n",
       "      <td>1.000000</td>\n",
       "      <td>-0.368874</td>\n",
       "      <td>-0.656765</td>\n",
       "      <td>0.657544</td>\n",
       "      <td>0.711618</td>\n",
       "      <td>0.532752</td>\n",
       "      <td>-0.478832</td>\n",
       "      <td>0.658716</td>\n",
       "    </tr>\n",
       "    <tr>\n",
       "      <th>QC</th>\n",
       "      <td>-0.158995</td>\n",
       "      <td>-0.747719</td>\n",
       "      <td>0.915402</td>\n",
       "      <td>-0.704549</td>\n",
       "      <td>-0.887440</td>\n",
       "      <td>-0.613648</td>\n",
       "      <td>0.348374</td>\n",
       "      <td>0.516479</td>\n",
       "      <td>-0.368874</td>\n",
       "      <td>1.000000</td>\n",
       "      <td>-0.253477</td>\n",
       "      <td>0.056054</td>\n",
       "      <td>-0.451085</td>\n",
       "      <td>-0.437309</td>\n",
       "      <td>-0.317168</td>\n",
       "      <td>-0.244771</td>\n",
       "    </tr>\n",
       "    <tr>\n",
       "      <th>PS</th>\n",
       "      <td>-0.097642</td>\n",
       "      <td>-0.355772</td>\n",
       "      <td>-0.212836</td>\n",
       "      <td>0.535198</td>\n",
       "      <td>0.225863</td>\n",
       "      <td>-0.518639</td>\n",
       "      <td>-0.132296</td>\n",
       "      <td>-0.894066</td>\n",
       "      <td>-0.656765</td>\n",
       "      <td>-0.253477</td>\n",
       "      <td>1.000000</td>\n",
       "      <td>-0.916217</td>\n",
       "      <td>-0.293993</td>\n",
       "      <td>-0.547535</td>\n",
       "      <td>0.729105</td>\n",
       "      <td>-0.764596</td>\n",
       "    </tr>\n",
       "    <tr>\n",
       "      <th>S2</th>\n",
       "      <td>0.105863</td>\n",
       "      <td>0.541730</td>\n",
       "      <td>0.020559</td>\n",
       "      <td>-0.272651</td>\n",
       "      <td>-0.058928</td>\n",
       "      <td>0.703429</td>\n",
       "      <td>0.065091</td>\n",
       "      <td>0.742032</td>\n",
       "      <td>0.657544</td>\n",
       "      <td>0.056054</td>\n",
       "      <td>-0.916217</td>\n",
       "      <td>1.000000</td>\n",
       "      <td>0.406396</td>\n",
       "      <td>0.692298</td>\n",
       "      <td>-0.537513</td>\n",
       "      <td>0.867827</td>\n",
       "    </tr>\n",
       "    <tr>\n",
       "      <th>TOC3</th>\n",
       "      <td>0.220525</td>\n",
       "      <td>0.779773</td>\n",
       "      <td>-0.700519</td>\n",
       "      <td>0.203751</td>\n",
       "      <td>0.073644</td>\n",
       "      <td>0.765571</td>\n",
       "      <td>-0.807808</td>\n",
       "      <td>0.047675</td>\n",
       "      <td>0.711618</td>\n",
       "      <td>-0.451085</td>\n",
       "      <td>-0.293993</td>\n",
       "      <td>0.406396</td>\n",
       "      <td>1.000000</td>\n",
       "      <td>0.495375</td>\n",
       "      <td>-0.088306</td>\n",
       "      <td>0.533705</td>\n",
       "    </tr>\n",
       "    <tr>\n",
       "      <th>PS2</th>\n",
       "      <td>0.046587</td>\n",
       "      <td>0.776672</td>\n",
       "      <td>-0.390816</td>\n",
       "      <td>0.377836</td>\n",
       "      <td>0.417673</td>\n",
       "      <td>0.831877</td>\n",
       "      <td>-0.060145</td>\n",
       "      <td>0.179264</td>\n",
       "      <td>0.532752</td>\n",
       "      <td>-0.437309</td>\n",
       "      <td>-0.547535</td>\n",
       "      <td>0.692298</td>\n",
       "      <td>0.495375</td>\n",
       "      <td>1.000000</td>\n",
       "      <td>-0.294769</td>\n",
       "      <td>0.935284</td>\n",
       "    </tr>\n",
       "    <tr>\n",
       "      <th>PS3</th>\n",
       "      <td>-0.084547</td>\n",
       "      <td>-0.125427</td>\n",
       "      <td>-0.305619</td>\n",
       "      <td>0.613432</td>\n",
       "      <td>0.268838</td>\n",
       "      <td>-0.206592</td>\n",
       "      <td>-0.127977</td>\n",
       "      <td>-0.638448</td>\n",
       "      <td>-0.478832</td>\n",
       "      <td>-0.317168</td>\n",
       "      <td>0.729105</td>\n",
       "      <td>-0.537513</td>\n",
       "      <td>-0.088306</td>\n",
       "      <td>-0.294769</td>\n",
       "      <td>1.000000</td>\n",
       "      <td>-0.454603</td>\n",
       "    </tr>\n",
       "    <tr>\n",
       "      <th>PS4</th>\n",
       "      <td>0.093585</td>\n",
       "      <td>0.726529</td>\n",
       "      <td>-0.252716</td>\n",
       "      <td>0.087859</td>\n",
       "      <td>0.202764</td>\n",
       "      <td>0.832011</td>\n",
       "      <td>-0.074976</td>\n",
       "      <td>0.443259</td>\n",
       "      <td>0.658716</td>\n",
       "      <td>-0.244771</td>\n",
       "      <td>-0.764596</td>\n",
       "      <td>0.867827</td>\n",
       "      <td>0.533705</td>\n",
       "      <td>0.935284</td>\n",
       "      <td>-0.454603</td>\n",
       "      <td>1.000000</td>\n",
       "    </tr>\n",
       "  </tbody>\n",
       "</table>\n",
       "</div>"
      ],
      "text/plain": [
       "             Depth       TOC   Calcite  Porosity    Quartz      TOC1  \\\n",
       "Depth     1.000000  0.217064 -0.190753 -0.076517  0.083436  0.200338   \n",
       "TOC       0.217064  1.000000 -0.775507  0.391036  0.565360  0.968191   \n",
       "Calcite  -0.190753 -0.775507  1.000000 -0.626263 -0.635366 -0.656298   \n",
       "Porosity -0.076517  0.391036 -0.626263  1.000000  0.652501  0.276244   \n",
       "Quartz    0.083436  0.565360 -0.635366  0.652501  1.000000  0.450072   \n",
       "TOC1      0.200338  0.968191 -0.656298  0.276244  0.450072  1.000000   \n",
       "Mineral  -0.194137 -0.458886  0.657791 -0.184142  0.104261 -0.387768   \n",
       "Wat_Per   0.033945  0.013070  0.467772 -0.752706 -0.435400  0.186852   \n",
       "TOC_Per   0.294391  0.788024 -0.449248 -0.198131  0.194660  0.799676   \n",
       "QC       -0.158995 -0.747719  0.915402 -0.704549 -0.887440 -0.613648   \n",
       "PS       -0.097642 -0.355772 -0.212836  0.535198  0.225863 -0.518639   \n",
       "S2        0.105863  0.541730  0.020559 -0.272651 -0.058928  0.703429   \n",
       "TOC3      0.220525  0.779773 -0.700519  0.203751  0.073644  0.765571   \n",
       "PS2       0.046587  0.776672 -0.390816  0.377836  0.417673  0.831877   \n",
       "PS3      -0.084547 -0.125427 -0.305619  0.613432  0.268838 -0.206592   \n",
       "PS4       0.093585  0.726529 -0.252716  0.087859  0.202764  0.832011   \n",
       "\n",
       "           Mineral   Wat_Per   TOC_Per        QC        PS        S2  \\\n",
       "Depth    -0.194137  0.033945  0.294391 -0.158995 -0.097642  0.105863   \n",
       "TOC      -0.458886  0.013070  0.788024 -0.747719 -0.355772  0.541730   \n",
       "Calcite   0.657791  0.467772 -0.449248  0.915402 -0.212836  0.020559   \n",
       "Porosity -0.184142 -0.752706 -0.198131 -0.704549  0.535198 -0.272651   \n",
       "Quartz    0.104261 -0.435400  0.194660 -0.887440  0.225863 -0.058928   \n",
       "TOC1     -0.387768  0.186852  0.799676 -0.613648 -0.518639  0.703429   \n",
       "Mineral   1.000000  0.277885 -0.414446  0.348374 -0.132296  0.065091   \n",
       "Wat_Per   0.277885  1.000000  0.449125  0.516479 -0.894066  0.742032   \n",
       "TOC_Per  -0.414446  0.449125  1.000000 -0.368874 -0.656765  0.657544   \n",
       "QC        0.348374  0.516479 -0.368874  1.000000 -0.253477  0.056054   \n",
       "PS       -0.132296 -0.894066 -0.656765 -0.253477  1.000000 -0.916217   \n",
       "S2        0.065091  0.742032  0.657544  0.056054 -0.916217  1.000000   \n",
       "TOC3     -0.807808  0.047675  0.711618 -0.451085 -0.293993  0.406396   \n",
       "PS2      -0.060145  0.179264  0.532752 -0.437309 -0.547535  0.692298   \n",
       "PS3      -0.127977 -0.638448 -0.478832 -0.317168  0.729105 -0.537513   \n",
       "PS4      -0.074976  0.443259  0.658716 -0.244771 -0.764596  0.867827   \n",
       "\n",
       "              TOC3       PS2       PS3       PS4  \n",
       "Depth     0.220525  0.046587 -0.084547  0.093585  \n",
       "TOC       0.779773  0.776672 -0.125427  0.726529  \n",
       "Calcite  -0.700519 -0.390816 -0.305619 -0.252716  \n",
       "Porosity  0.203751  0.377836  0.613432  0.087859  \n",
       "Quartz    0.073644  0.417673  0.268838  0.202764  \n",
       "TOC1      0.765571  0.831877 -0.206592  0.832011  \n",
       "Mineral  -0.807808 -0.060145 -0.127977 -0.074976  \n",
       "Wat_Per   0.047675  0.179264 -0.638448  0.443259  \n",
       "TOC_Per   0.711618  0.532752 -0.478832  0.658716  \n",
       "QC       -0.451085 -0.437309 -0.317168 -0.244771  \n",
       "PS       -0.293993 -0.547535  0.729105 -0.764596  \n",
       "S2        0.406396  0.692298 -0.537513  0.867827  \n",
       "TOC3      1.000000  0.495375 -0.088306  0.533705  \n",
       "PS2       0.495375  1.000000 -0.294769  0.935284  \n",
       "PS3      -0.088306 -0.294769  1.000000 -0.454603  \n",
       "PS4       0.533705  0.935284 -0.454603  1.000000  "
      ]
     },
     "execution_count": 40,
     "metadata": {},
     "output_type": "execute_result"
    }
   ],
   "source": [
    "# correlation coefficients\n",
    "df_1 = df.drop('Swirr',axis=1)\n",
    "df_1.corr()"
   ]
  },
  {
   "cell_type": "code",
   "execution_count": 41,
   "id": "eaf4056f",
   "metadata": {},
   "outputs": [
    {
     "data": {
      "image/png": "[encoded data removed]",
      "text/plain": [
       "<Figure size 640x480 with 2 Axes>"
      ]
     },
     "metadata": {},
     "output_type": "display_data"
    }
   ],
   "source": [
    "sns.heatmap(df_1.corr(), cmap=\"YlGnBu\")\n",
    "plt.show()"
   ]
  },
  {
   "cell_type": "markdown",
   "id": "a1689c0b",
   "metadata": {},
   "source": [
    "#### considering features which are very highly correalted with r >=0.9 "
   ]
  },
  {
   "cell_type": "code",
   "execution_count": 42,
   "id": "b7123ff0",
   "metadata": {},
   "outputs": [],
   "source": [
    "\n",
    "# TOC,TOC1 are very highly correlated with coefficient 0.96\n",
    "# Calcite , QC are very highly correlated with coefficeint 0.93\n",
    "# PS2, PS4 are  very highly correlated with coefficient 0.90\n"
   ]
  },
  {
   "cell_type": "code",
   "execution_count": 43,
   "id": "a4a199c8",
   "metadata": {},
   "outputs": [],
   "source": [
    "# representing all those columns by dropping very highly correlated columns\n",
    "X = df_1.drop(['TOC1','QC','PS2'],axis=1)\n",
    "y = df['Swirr']"
   ]
  },
  {
   "cell_type": "markdown",
   "id": "a7959e83",
   "metadata": {},
   "source": [
    "### dimensionality reduction "
   ]
  },
  {
   "cell_type": "code",
   "execution_count": 44,
   "id": "06999b21",
   "metadata": {},
   "outputs": [],
   "source": [
    "from sklearn.decomposition import PCA\n",
    "from sklearn.metrics import silhouette_samples, silhouette_score"
   ]
  },
  {
   "cell_type": "code",
   "execution_count": 45,
   "id": "086912ba",
   "metadata": {},
   "outputs": [
    {
     "data": {
      "text/html": [
       "<div>\n",
       "<style scoped>\n",
       "    .dataframe tbody tr th:only-of-type {\n",
       "        vertical-align: middle;\n",
       "    }\n",
       "\n",
       "    .dataframe tbody tr th {\n",
       "        vertical-align: top;\n",
       "    }\n",
       "\n",
       "    .dataframe thead th {\n",
       "        text-align: right;\n",
       "    }\n",
       "</style>\n",
       "<table border=\"1\" class=\"dataframe\">\n",
       "  <thead>\n",
       "    <tr style=\"text-align: right;\">\n",
       "      <th></th>\n",
       "      <th>Depth</th>\n",
       "      <th>TOC</th>\n",
       "      <th>Calcite</th>\n",
       "      <th>Porosity</th>\n",
       "      <th>Quartz</th>\n",
       "      <th>Mineral</th>\n",
       "      <th>Wat_Per</th>\n",
       "      <th>TOC_Per</th>\n",
       "      <th>PS</th>\n",
       "      <th>S2</th>\n",
       "      <th>TOC3</th>\n",
       "      <th>PS3</th>\n",
       "      <th>PS4</th>\n",
       "    </tr>\n",
       "  </thead>\n",
       "  <tbody>\n",
       "    <tr>\n",
       "      <th>0</th>\n",
       "      <td>-1.668802</td>\n",
       "      <td>0.306918</td>\n",
       "      <td>-0.724543</td>\n",
       "      <td>1.934373</td>\n",
       "      <td>0.757029</td>\n",
       "      <td>-0.126222</td>\n",
       "      <td>-1.015665</td>\n",
       "      <td>-0.716769</td>\n",
       "      <td>1.171821</td>\n",
       "      <td>-0.796455</td>\n",
       "      <td>-0.072303</td>\n",
       "      <td>2.024652</td>\n",
       "      <td>-0.406894</td>\n",
       "    </tr>\n",
       "    <tr>\n",
       "      <th>1</th>\n",
       "      <td>-1.651659</td>\n",
       "      <td>0.305027</td>\n",
       "      <td>-0.305459</td>\n",
       "      <td>1.419276</td>\n",
       "      <td>1.500313</td>\n",
       "      <td>0.972016</td>\n",
       "      <td>-0.757551</td>\n",
       "      <td>-0.529498</td>\n",
       "      <td>0.616673</td>\n",
       "      <td>-0.424499</td>\n",
       "      <td>-0.490488</td>\n",
       "      <td>1.106589</td>\n",
       "      <td>0.077276</td>\n",
       "    </tr>\n",
       "    <tr>\n",
       "      <th>2</th>\n",
       "      <td>-1.634435</td>\n",
       "      <td>-0.250015</td>\n",
       "      <td>-0.550759</td>\n",
       "      <td>0.251443</td>\n",
       "      <td>0.813650</td>\n",
       "      <td>0.093845</td>\n",
       "      <td>-0.875655</td>\n",
       "      <td>-0.419869</td>\n",
       "      <td>0.951536</td>\n",
       "      <td>-0.951067</td>\n",
       "      <td>-0.448523</td>\n",
       "      <td>0.774111</td>\n",
       "      <td>-0.875171</td>\n",
       "    </tr>\n",
       "    <tr>\n",
       "      <th>3</th>\n",
       "      <td>-1.617291</td>\n",
       "      <td>-2.464763</td>\n",
       "      <td>2.110780</td>\n",
       "      <td>1.408377</td>\n",
       "      <td>-1.717402</td>\n",
       "      <td>1.822361</td>\n",
       "      <td>-0.546184</td>\n",
       "      <td>-2.455047</td>\n",
       "      <td>0.163694</td>\n",
       "      <td>0.086708</td>\n",
       "      <td>-1.756703</td>\n",
       "      <td>-0.085786</td>\n",
       "      <td>0.860191</td>\n",
       "    </tr>\n",
       "    <tr>\n",
       "      <th>4</th>\n",
       "      <td>-1.599258</td>\n",
       "      <td>0.112362</td>\n",
       "      <td>-0.683810</td>\n",
       "      <td>0.955981</td>\n",
       "      <td>0.585460</td>\n",
       "      <td>-0.247538</td>\n",
       "      <td>-0.856092</td>\n",
       "      <td>-0.471751</td>\n",
       "      <td>0.865219</td>\n",
       "      <td>-0.757312</td>\n",
       "      <td>-0.082997</td>\n",
       "      <td>1.301336</td>\n",
       "      <td>-0.522261</td>\n",
       "    </tr>\n",
       "    <tr>\n",
       "      <th>...</th>\n",
       "      <td>...</td>\n",
       "      <td>...</td>\n",
       "      <td>...</td>\n",
       "      <td>...</td>\n",
       "      <td>...</td>\n",
       "      <td>...</td>\n",
       "      <td>...</td>\n",
       "      <td>...</td>\n",
       "      <td>...</td>\n",
       "      <td>...</td>\n",
       "      <td>...</td>\n",
       "      <td>...</td>\n",
       "      <td>...</td>\n",
       "    </tr>\n",
       "    <tr>\n",
       "      <th>187</th>\n",
       "      <td>1.682271</td>\n",
       "      <td>-1.350870</td>\n",
       "      <td>1.245099</td>\n",
       "      <td>-1.343558</td>\n",
       "      <td>-1.771019</td>\n",
       "      <td>-0.597012</td>\n",
       "      <td>0.107936</td>\n",
       "      <td>-0.662449</td>\n",
       "      <td>0.239119</td>\n",
       "      <td>-0.738412</td>\n",
       "      <td>-0.910064</td>\n",
       "      <td>-0.652403</td>\n",
       "      <td>-0.940121</td>\n",
       "    </tr>\n",
       "    <tr>\n",
       "      <th>188</th>\n",
       "      <td>1.698121</td>\n",
       "      <td>-1.210834</td>\n",
       "      <td>1.873890</td>\n",
       "      <td>-1.163740</td>\n",
       "      <td>-1.303832</td>\n",
       "      <td>0.444611</td>\n",
       "      <td>0.346523</td>\n",
       "      <td>-0.588573</td>\n",
       "      <td>-0.077602</td>\n",
       "      <td>-0.406773</td>\n",
       "      <td>-1.078338</td>\n",
       "      <td>-0.655209</td>\n",
       "      <td>-0.686696</td>\n",
       "    </tr>\n",
       "    <tr>\n",
       "      <th>189</th>\n",
       "      <td>1.713970</td>\n",
       "      <td>-1.741007</td>\n",
       "      <td>2.110780</td>\n",
       "      <td>-1.756033</td>\n",
       "      <td>-1.446222</td>\n",
       "      <td>1.727665</td>\n",
       "      <td>2.218979</td>\n",
       "      <td>-1.072188</td>\n",
       "      <td>-0.994343</td>\n",
       "      <td>0.534088</td>\n",
       "      <td>-1.462671</td>\n",
       "      <td>-0.655758</td>\n",
       "      <td>-0.437997</td>\n",
       "    </tr>\n",
       "    <tr>\n",
       "      <th>190</th>\n",
       "      <td>1.729820</td>\n",
       "      <td>-1.564802</td>\n",
       "      <td>2.110780</td>\n",
       "      <td>-1.688363</td>\n",
       "      <td>-1.165260</td>\n",
       "      <td>1.166302</td>\n",
       "      <td>1.407977</td>\n",
       "      <td>-0.732314</td>\n",
       "      <td>-0.447995</td>\n",
       "      <td>-0.154429</td>\n",
       "      <td>-1.348325</td>\n",
       "      <td>-0.655754</td>\n",
       "      <td>-0.726214</td>\n",
       "    </tr>\n",
       "    <tr>\n",
       "      <th>191</th>\n",
       "      <td>1.745669</td>\n",
       "      <td>-1.534350</td>\n",
       "      <td>2.110780</td>\n",
       "      <td>-1.388393</td>\n",
       "      <td>-1.258119</td>\n",
       "      <td>1.487170</td>\n",
       "      <td>1.234225</td>\n",
       "      <td>-0.962859</td>\n",
       "      <td>-0.654114</td>\n",
       "      <td>0.196415</td>\n",
       "      <td>-1.362224</td>\n",
       "      <td>-0.655755</td>\n",
       "      <td>-0.404016</td>\n",
       "    </tr>\n",
       "  </tbody>\n",
       "</table>\n",
       "<p>192 rows × 13 columns</p>\n",
       "</div>"
      ],
      "text/plain": [
       "        Depth       TOC   Calcite  Porosity    Quartz   Mineral   Wat_Per  \\\n",
       "0   -1.668802  0.306918 -0.724543  1.934373  0.757029 -0.126222 -1.015665   \n",
       "1   -1.651659  0.305027 -0.305459  1.419276  1.500313  0.972016 -0.757551   \n",
       "2   -1.634435 -0.250015 -0.550759  0.251443  0.813650  0.093845 -0.875655   \n",
       "3   -1.617291 -2.464763  2.110780  1.408377 -1.717402  1.822361 -0.546184   \n",
       "4   -1.599258  0.112362 -0.683810  0.955981  0.585460 -0.247538 -0.856092   \n",
       "..        ...       ...       ...       ...       ...       ...       ...   \n",
       "187  1.682271 -1.350870  1.245099 -1.343558 -1.771019 -0.597012  0.107936   \n",
       "188  1.698121 -1.210834  1.873890 -1.163740 -1.303832  0.444611  0.346523   \n",
       "189  1.713970 -1.741007  2.110780 -1.756033 -1.446222  1.727665  2.218979   \n",
       "190  1.729820 -1.564802  2.110780 -1.688363 -1.165260  1.166302  1.407977   \n",
       "191  1.745669 -1.534350  2.110780 -1.388393 -1.258119  1.487170  1.234225   \n",
       "\n",
       "      TOC_Per        PS        S2      TOC3       PS3       PS4  \n",
       "0   -0.716769  1.171821 -0.796455 -0.072303  2.024652 -0.406894  \n",
       "1   -0.529498  0.616673 -0.424499 -0.490488  1.106589  0.077276  \n",
       "2   -0.419869  0.951536 -0.951067 -0.448523  0.774111 -0.875171  \n",
       "3   -2.455047  0.163694  0.086708 -1.756703 -0.085786  0.860191  \n",
       "4   -0.471751  0.865219 -0.757312 -0.082997  1.301336 -0.522261  \n",
       "..        ...       ...       ...       ...       ...       ...  \n",
       "187 -0.662449  0.239119 -0.738412 -0.910064 -0.652403 -0.940121  \n",
       "188 -0.588573 -0.077602 -0.406773 -1.078338 -0.655209 -0.686696  \n",
       "189 -1.072188 -0.994343  0.534088 -1.462671 -0.655758 -0.437997  \n",
       "190 -0.732314 -0.447995 -0.154429 -1.348325 -0.655754 -0.726214  \n",
       "191 -0.962859 -0.654114  0.196415 -1.362224 -0.655755 -0.404016  \n",
       "\n",
       "[192 rows x 13 columns]"
      ]
     },
     "execution_count": 45,
     "metadata": {},
     "output_type": "execute_result"
    }
   ],
   "source": [
    "from sklearn.preprocessing import StandardScaler\n",
    "scaler = StandardScaler()\n",
    "df_scaled = scaler.fit_transform(X)\n",
    "df_scaled = pd.DataFrame(df_scaled, columns = X.columns)\n",
    "df_scaled"
   ]
  },
  {
   "cell_type": "code",
   "execution_count": 46,
   "id": "c3200f1c",
   "metadata": {},
   "outputs": [],
   "source": [
    "# Initializing the PCA object\n",
    "pca = PCA()\n",
    "pca.fit(df_scaled)\n",
    "pca_data = pca.transform(df_scaled)"
   ]
  },
  {
   "cell_type": "code",
   "execution_count": 47,
   "id": "c1bab9a7",
   "metadata": {},
   "outputs": [
    {
     "data": {
      "image/png": "[encoded data removed]",
      "text/plain": [
       "<Figure size 2000x1000 with 1 Axes>"
      ]
     },
     "metadata": {},
     "output_type": "display_data"
    }
   ],
   "source": [
    "percentage_variance = np.round(pca.explained_variance_ratio_* 100, decimals=1)\n",
    "labels = ['PC' + str(x) for x in range(1, len(percentage_variance)+1)]\n",
    " \n",
    "plt.figure(figsize=(20, 10))\n",
    "plt.bar(x=range(1,len(percentage_variance)+1), height=percentage_variance, tick_label=labels)\n",
    "plt.ylabel('Percentage of Explained Variance')\n",
    "plt.xlabel('Principal Component')\n",
    "plt.title('Scree Plot')\n",
    "plt.show()"
   ]
  },
  {
   "cell_type": "code",
   "execution_count": 48,
   "id": "3ae52694",
   "metadata": {},
   "outputs": [
    {
     "data": {
      "text/plain": [
       "array([39.5, 32.1, 11.7,  7.4,  4.3,  2.9,  0.6,  0.5,  0.4,  0.2,  0.1,\n",
       "        0.1,  0. ])"
      ]
     },
     "execution_count": 48,
     "metadata": {},
     "output_type": "execute_result"
    }
   ],
   "source": [
    "percentage_variance"
   ]
  },
  {
   "cell_type": "code",
   "execution_count": 49,
   "id": "217fa85e",
   "metadata": {},
   "outputs": [],
   "source": [
    "# Total percentage variance should be minimum 85 \n",
    "# so by considering pc1,pc2,pc3,pc4 the percentage of variance is 90.7"
   ]
  },
  {
   "cell_type": "code",
   "execution_count": 50,
   "id": "e0f81dfe",
   "metadata": {},
   "outputs": [
    {
     "name": "stderr",
     "output_type": "stream",
     "text": [
      "C:\\Users\\vasuk\\AppData\\Local\\Temp\\ipykernel_26416\\290579096.py:5: SettingWithCopyWarning: \n",
      "A value is trying to be set on a copy of a slice from a DataFrame.\n",
      "Try using .loc[row_indexer,col_indexer] = value instead\n",
      "\n",
      "See the caveats in the documentation: https://pandas.pydata.org/pandas-docs/stable/user_guide/indexing.html#returning-a-view-versus-a-copy\n",
      "  pca_df['Swirr'] = df['Swirr']\n"
     ]
    }
   ],
   "source": [
    "pc_1 = pd.DataFrame(pca_data, columns = labels)\n",
    "# Selecting the top 4 pca columns for the analysis\n",
    "pca_df = pc_1[['PC1','PC2','PC3','PC4']]\n",
    "# adding output label to the data\n",
    "pca_df['Swirr'] = df['Swirr']"
   ]
  },
  {
   "cell_type": "code",
   "execution_count": 51,
   "id": "93380f68",
   "metadata": {},
   "outputs": [
    {
     "data": {
      "text/html": [
       "<div>\n",
       "<style scoped>\n",
       "    .dataframe tbody tr th:only-of-type {\n",
       "        vertical-align: middle;\n",
       "    }\n",
       "\n",
       "    .dataframe tbody tr th {\n",
       "        vertical-align: top;\n",
       "    }\n",
       "\n",
       "    .dataframe thead th {\n",
       "        text-align: right;\n",
       "    }\n",
       "</style>\n",
       "<table border=\"1\" class=\"dataframe\">\n",
       "  <thead>\n",
       "    <tr style=\"text-align: right;\">\n",
       "      <th></th>\n",
       "      <th>PC1</th>\n",
       "      <th>PC2</th>\n",
       "      <th>PC3</th>\n",
       "      <th>PC4</th>\n",
       "      <th>Swirr</th>\n",
       "    </tr>\n",
       "  </thead>\n",
       "  <tbody>\n",
       "    <tr>\n",
       "      <th>0</th>\n",
       "      <td>-2.275224</td>\n",
       "      <td>-2.440792</td>\n",
       "      <td>1.040603</td>\n",
       "      <td>1.615321</td>\n",
       "      <td>7.113304</td>\n",
       "    </tr>\n",
       "    <tr>\n",
       "      <th>1</th>\n",
       "      <td>-1.551864</td>\n",
       "      <td>-1.408908</td>\n",
       "      <td>2.277682</td>\n",
       "      <td>1.075112</td>\n",
       "      <td>9.364680</td>\n",
       "    </tr>\n",
       "    <tr>\n",
       "      <th>2</th>\n",
       "      <td>-2.064952</td>\n",
       "      <td>-0.973259</td>\n",
       "      <td>0.544281</td>\n",
       "      <td>1.037283</td>\n",
       "      <td>5.931133</td>\n",
       "    </tr>\n",
       "    <tr>\n",
       "      <th>3</th>\n",
       "      <td>-2.891093</td>\n",
       "      <td>2.915411</td>\n",
       "      <td>1.759817</td>\n",
       "      <td>1.754274</td>\n",
       "      <td>11.776418</td>\n",
       "    </tr>\n",
       "    <tr>\n",
       "      <th>4</th>\n",
       "      <td>-1.783707</td>\n",
       "      <td>-1.662594</td>\n",
       "      <td>0.516143</td>\n",
       "      <td>1.407179</td>\n",
       "      <td>7.382626</td>\n",
       "    </tr>\n",
       "  </tbody>\n",
       "</table>\n",
       "</div>"
      ],
      "text/plain": [
       "        PC1       PC2       PC3       PC4      Swirr\n",
       "0 -2.275224 -2.440792  1.040603  1.615321   7.113304\n",
       "1 -1.551864 -1.408908  2.277682  1.075112   9.364680\n",
       "2 -2.064952 -0.973259  0.544281  1.037283   5.931133\n",
       "3 -2.891093  2.915411  1.759817  1.754274  11.776418\n",
       "4 -1.783707 -1.662594  0.516143  1.407179   7.382626"
      ]
     },
     "execution_count": 51,
     "metadata": {},
     "output_type": "execute_result"
    }
   ],
   "source": [
    "pca_df.head()"
   ]
  },
  {
   "cell_type": "code",
   "execution_count": 52,
   "id": "21eb54ce",
   "metadata": {},
   "outputs": [],
   "source": [
    "X = pca_df.drop('Swirr',axis=1)\n",
    "y = pca_df['Swirr']"
   ]
  },
  {
   "cell_type": "markdown",
   "id": "cf355f6a",
   "metadata": {},
   "source": [
    "### Hyper parameter tuning for PCA components"
   ]
  },
  {
   "cell_type": "code",
   "execution_count": 53,
   "id": "93a2c0da",
   "metadata": {},
   "outputs": [],
   "source": [
    "from sklearn.model_selection import train_test_split\n",
    "# Train and test data split\n",
    "X_train_pc, X_test_pc, y_train_pc, y_test_pc  = train_test_split(scaled_X, y, test_size = 0.3, random_state = 100)"
   ]
  },
  {
   "cell_type": "markdown",
   "id": "2362641e",
   "metadata": {},
   "source": [
    "### For SVR model"
   ]
  },
  {
   "cell_type": "code",
   "execution_count": 54,
   "id": "9b5b5980",
   "metadata": {},
   "outputs": [],
   "source": [
    "m1 = SVR(kernel='poly',degree=2)\n",
    "m2 = SVR(kernel='RBF')\n",
    "m3 = GradientBoostingRegressor()\n",
    "m4 = RandomForestRegressor()"
   ]
  },
  {
   "cell_type": "code",
   "execution_count": 55,
   "id": "705c24ed",
   "metadata": {},
   "outputs": [
    {
     "data": {
      "text/html": [
       "<style>#sk-container-id-9 {color: black;background-color: white;}#sk-container-id-9 pre{padding: 0;}#sk-container-id-9 div.sk-toggleable {background-color: white;}#sk-container-id-9 label.sk-toggleable__label {cursor: pointer;display: block;width: 100%;margin-bottom: 0;padding: 0.3em;box-sizing: border-box;text-align: center;}#sk-container-id-9 label.sk-toggleable__label-arrow:before {content: \"▸\";float: left;margin-right: 0.25em;color: #696969;}#sk-container-id-9 label.sk-toggleable__label-arrow:hover:before {color: black;}#sk-container-id-9 div.sk-estimator:hover label.sk-toggleable__label-arrow:before {color: black;}#sk-container-id-9 div.sk-toggleable__content {max-height: 0;max-width: 0;overflow: hidden;text-align: left;background-color: #f0f8ff;}#sk-container-id-9 div.sk-toggleable__content pre {margin: 0.2em;color: black;border-radius: 0.25em;background-color: #f0f8ff;}#sk-container-id-9 input.sk-toggleable__control:checked~div.sk-toggleable__content {max-height: 200px;max-width: 100%;overflow: auto;}#sk-container-id-9 input.sk-toggleable__control:checked~label.sk-toggleable__label-arrow:before {content: \"▾\";}#sk-container-id-9 div.sk-estimator input.sk-toggleable__control:checked~label.sk-toggleable__label {background-color: #d4ebff;}#sk-container-id-9 div.sk-label input.sk-toggleable__control:checked~label.sk-toggleable__label {background-color: #d4ebff;}#sk-container-id-9 input.sk-hidden--visually {border: 0;clip: rect(1px 1px 1px 1px);clip: rect(1px, 1px, 1px, 1px);height: 1px;margin: -1px;overflow: hidden;padding: 0;position: absolute;width: 1px;}#sk-container-id-9 div.sk-estimator {font-family: monospace;background-color: #f0f8ff;border: 1px dotted black;border-radius: 0.25em;box-sizing: border-box;margin-bottom: 0.5em;}#sk-container-id-9 div.sk-estimator:hover {background-color: #d4ebff;}#sk-container-id-9 div.sk-parallel-item::after {content: \"\";width: 100%;border-bottom: 1px solid gray;flex-grow: 1;}#sk-container-id-9 div.sk-label:hover label.sk-toggleable__label {background-color: #d4ebff;}#sk-container-id-9 div.sk-serial::before {content: \"\";position: absolute;border-left: 1px solid gray;box-sizing: border-box;top: 0;bottom: 0;left: 50%;z-index: 0;}#sk-container-id-9 div.sk-serial {display: flex;flex-direction: column;align-items: center;background-color: white;padding-right: 0.2em;padding-left: 0.2em;position: relative;}#sk-container-id-9 div.sk-item {position: relative;z-index: 1;}#sk-container-id-9 div.sk-parallel {display: flex;align-items: stretch;justify-content: center;background-color: white;position: relative;}#sk-container-id-9 div.sk-item::before, #sk-container-id-9 div.sk-parallel-item::before {content: \"\";position: absolute;border-left: 1px solid gray;box-sizing: border-box;top: 0;bottom: 0;left: 50%;z-index: -1;}#sk-container-id-9 div.sk-parallel-item {display: flex;flex-direction: column;z-index: 1;position: relative;background-color: white;}#sk-container-id-9 div.sk-parallel-item:first-child::after {align-self: flex-end;width: 50%;}#sk-container-id-9 div.sk-parallel-item:last-child::after {align-self: flex-start;width: 50%;}#sk-container-id-9 div.sk-parallel-item:only-child::after {width: 0;}#sk-container-id-9 div.sk-dashed-wrapped {border: 1px dashed gray;margin: 0 0.4em 0.5em 0.4em;box-sizing: border-box;padding-bottom: 0.4em;background-color: white;}#sk-container-id-9 div.sk-label label {font-family: monospace;font-weight: bold;display: inline-block;line-height: 1.2em;}#sk-container-id-9 div.sk-label-container {text-align: center;}#sk-container-id-9 div.sk-container {/* jupyter's `normalize.less` sets `[hidden] { display: none; }` but bootstrap.min.css set `[hidden] { display: none !important; }` so we also need the `!important` here to be able to override the default hidden behavior on the sphinx rendered scikit-learn.org. See: https://github.com/scikit-learn/scikit-learn/issues/21755 */display: inline-block !important;position: relative;}#sk-container-id-9 div.sk-text-repr-fallback {display: none;}</style><div id=\"sk-container-id-9\" class=\"sk-top-container\"><div class=\"sk-text-repr-fallback\"><pre>RandomizedSearchCV(cv=5, estimator=SVR(kernel=&#x27;poly&#x27;),\n",
       "                   param_distributions={&#x27;C&#x27;: [0.1, 1, 10, 100], &#x27;degree&#x27;: [2],\n",
       "                                        &#x27;gamma&#x27;: [1, 0.1, 0.01, 0.001],\n",
       "                                        &#x27;kernel&#x27;: [&#x27;poly&#x27;]},\n",
       "                   random_state=0)</pre><b>In a Jupyter environment, please rerun this cell to show the HTML representation or trust the notebook. <br />On GitHub, the HTML representation is unable to render, please try loading this page with nbviewer.org.</b></div><div class=\"sk-container\" hidden><div class=\"sk-item sk-dashed-wrapped\"><div class=\"sk-label-container\"><div class=\"sk-label sk-toggleable\"><input class=\"sk-toggleable__control sk-hidden--visually\" id=\"sk-estimator-id-17\" type=\"checkbox\" ><label for=\"sk-estimator-id-17\" class=\"sk-toggleable__label sk-toggleable__label-arrow\">RandomizedSearchCV</label><div class=\"sk-toggleable__content\"><pre>RandomizedSearchCV(cv=5, estimator=SVR(kernel=&#x27;poly&#x27;),\n",
       "                   param_distributions={&#x27;C&#x27;: [0.1, 1, 10, 100], &#x27;degree&#x27;: [2],\n",
       "                                        &#x27;gamma&#x27;: [1, 0.1, 0.01, 0.001],\n",
       "                                        &#x27;kernel&#x27;: [&#x27;poly&#x27;]},\n",
       "                   random_state=0)</pre></div></div></div><div class=\"sk-parallel\"><div class=\"sk-parallel-item\"><div class=\"sk-item\"><div class=\"sk-label-container\"><div class=\"sk-label sk-toggleable\"><input class=\"sk-toggleable__control sk-hidden--visually\" id=\"sk-estimator-id-18\" type=\"checkbox\" ><label for=\"sk-estimator-id-18\" class=\"sk-toggleable__label sk-toggleable__label-arrow\">estimator: SVR</label><div class=\"sk-toggleable__content\"><pre>SVR(kernel=&#x27;poly&#x27;)</pre></div></div></div><div class=\"sk-serial\"><div class=\"sk-item\"><div class=\"sk-estimator sk-toggleable\"><input class=\"sk-toggleable__control sk-hidden--visually\" id=\"sk-estimator-id-19\" type=\"checkbox\" ><label for=\"sk-estimator-id-19\" class=\"sk-toggleable__label sk-toggleable__label-arrow\">SVR</label><div class=\"sk-toggleable__content\"><pre>SVR(kernel=&#x27;poly&#x27;)</pre></div></div></div></div></div></div></div></div></div></div>"
      ],
      "text/plain": [
       "RandomizedSearchCV(cv=5, estimator=SVR(kernel='poly'),\n",
       "                   param_distributions={'C': [0.1, 1, 10, 100], 'degree': [2],\n",
       "                                        'gamma': [1, 0.1, 0.01, 0.001],\n",
       "                                        'kernel': ['poly']},\n",
       "                   random_state=0)"
      ]
     },
     "execution_count": 55,
     "metadata": {},
     "output_type": "execute_result"
    }
   ],
   "source": [
    "# Hypere parameter validation for SVM polynomial regressor \n",
    "from sklearn.model_selection import cross_val_score, GridSearchCV, RandomizedSearchCV\n",
    "m1  = SVR(kernel='poly')\n",
    "param_grid = {'C': [0.1, 1, 10, 100], \n",
    "              'gamma': [1, 0.1, 0.01, 0.001],\n",
    "              'kernel': ['poly'],\n",
    "             'degree':[2]}\n",
    "random = RandomizedSearchCV(m1, param_grid,cv=5,random_state=0)\n",
    "random.fit(X_train_pc,y_train_pc)"
   ]
  },
  {
   "cell_type": "code",
   "execution_count": 56,
   "id": "b807dbb2",
   "metadata": {},
   "outputs": [
    {
     "data": {
      "text/plain": [
       "{'kernel': 'poly', 'gamma': 1, 'degree': 2, 'C': 10}"
      ]
     },
     "execution_count": 56,
     "metadata": {},
     "output_type": "execute_result"
    }
   ],
   "source": [
    "random.best_params_"
   ]
  },
  {
   "cell_type": "code",
   "execution_count": 57,
   "id": "8086ec13",
   "metadata": {},
   "outputs": [
    {
     "data": {
      "text/html": [
       "<style>#sk-container-id-10 {color: black;background-color: white;}#sk-container-id-10 pre{padding: 0;}#sk-container-id-10 div.sk-toggleable {background-color: white;}#sk-container-id-10 label.sk-toggleable__label {cursor: pointer;display: block;width: 100%;margin-bottom: 0;padding: 0.3em;box-sizing: border-box;text-align: center;}#sk-container-id-10 label.sk-toggleable__label-arrow:before {content: \"▸\";float: left;margin-right: 0.25em;color: #696969;}#sk-container-id-10 label.sk-toggleable__label-arrow:hover:before {color: black;}#sk-container-id-10 div.sk-estimator:hover label.sk-toggleable__label-arrow:before {color: black;}#sk-container-id-10 div.sk-toggleable__content {max-height: 0;max-width: 0;overflow: hidden;text-align: left;background-color: #f0f8ff;}#sk-container-id-10 div.sk-toggleable__content pre {margin: 0.2em;color: black;border-radius: 0.25em;background-color: #f0f8ff;}#sk-container-id-10 input.sk-toggleable__control:checked~div.sk-toggleable__content {max-height: 200px;max-width: 100%;overflow: auto;}#sk-container-id-10 input.sk-toggleable__control:checked~label.sk-toggleable__label-arrow:before {content: \"▾\";}#sk-container-id-10 div.sk-estimator input.sk-toggleable__control:checked~label.sk-toggleable__label {background-color: #d4ebff;}#sk-container-id-10 div.sk-label input.sk-toggleable__control:checked~label.sk-toggleable__label {background-color: #d4ebff;}#sk-container-id-10 input.sk-hidden--visually {border: 0;clip: rect(1px 1px 1px 1px);clip: rect(1px, 1px, 1px, 1px);height: 1px;margin: -1px;overflow: hidden;padding: 0;position: absolute;width: 1px;}#sk-container-id-10 div.sk-estimator {font-family: monospace;background-color: #f0f8ff;border: 1px dotted black;border-radius: 0.25em;box-sizing: border-box;margin-bottom: 0.5em;}#sk-container-id-10 div.sk-estimator:hover {background-color: #d4ebff;}#sk-container-id-10 div.sk-parallel-item::after {content: \"\";width: 100%;border-bottom: 1px solid gray;flex-grow: 1;}#sk-container-id-10 div.sk-label:hover label.sk-toggleable__label {background-color: #d4ebff;}#sk-container-id-10 div.sk-serial::before {content: \"\";position: absolute;border-left: 1px solid gray;box-sizing: border-box;top: 0;bottom: 0;left: 50%;z-index: 0;}#sk-container-id-10 div.sk-serial {display: flex;flex-direction: column;align-items: center;background-color: white;padding-right: 0.2em;padding-left: 0.2em;position: relative;}#sk-container-id-10 div.sk-item {position: relative;z-index: 1;}#sk-container-id-10 div.sk-parallel {display: flex;align-items: stretch;justify-content: center;background-color: white;position: relative;}#sk-container-id-10 div.sk-item::before, #sk-container-id-10 div.sk-parallel-item::before {content: \"\";position: absolute;border-left: 1px solid gray;box-sizing: border-box;top: 0;bottom: 0;left: 50%;z-index: -1;}#sk-container-id-10 div.sk-parallel-item {display: flex;flex-direction: column;z-index: 1;position: relative;background-color: white;}#sk-container-id-10 div.sk-parallel-item:first-child::after {align-self: flex-end;width: 50%;}#sk-container-id-10 div.sk-parallel-item:last-child::after {align-self: flex-start;width: 50%;}#sk-container-id-10 div.sk-parallel-item:only-child::after {width: 0;}#sk-container-id-10 div.sk-dashed-wrapped {border: 1px dashed gray;margin: 0 0.4em 0.5em 0.4em;box-sizing: border-box;padding-bottom: 0.4em;background-color: white;}#sk-container-id-10 div.sk-label label {font-family: monospace;font-weight: bold;display: inline-block;line-height: 1.2em;}#sk-container-id-10 div.sk-label-container {text-align: center;}#sk-container-id-10 div.sk-container {/* jupyter's `normalize.less` sets `[hidden] { display: none; }` but bootstrap.min.css set `[hidden] { display: none !important; }` so we also need the `!important` here to be able to override the default hidden behavior on the sphinx rendered scikit-learn.org. See: https://github.com/scikit-learn/scikit-learn/issues/21755 */display: inline-block !important;position: relative;}#sk-container-id-10 div.sk-text-repr-fallback {display: none;}</style><div id=\"sk-container-id-10\" class=\"sk-top-container\"><div class=\"sk-text-repr-fallback\"><pre>SVR(C=10, degree=2, gamma=1, kernel=&#x27;poly&#x27;)</pre><b>In a Jupyter environment, please rerun this cell to show the HTML representation or trust the notebook. <br />On GitHub, the HTML representation is unable to render, please try loading this page with nbviewer.org.</b></div><div class=\"sk-container\" hidden><div class=\"sk-item\"><div class=\"sk-estimator sk-toggleable\"><input class=\"sk-toggleable__control sk-hidden--visually\" id=\"sk-estimator-id-20\" type=\"checkbox\" checked><label for=\"sk-estimator-id-20\" class=\"sk-toggleable__label sk-toggleable__label-arrow\">SVR</label><div class=\"sk-toggleable__content\"><pre>SVR(C=10, degree=2, gamma=1, kernel=&#x27;poly&#x27;)</pre></div></div></div></div></div>"
      ],
      "text/plain": [
       "SVR(C=10, degree=2, gamma=1, kernel='poly')"
      ]
     },
     "execution_count": 57,
     "metadata": {},
     "output_type": "execute_result"
    }
   ],
   "source": [
    "# best model for the svr rbf kernel\n",
    "model_1 = SVR(kernel= 'poly', gamma= 1, C= 10, degree= 2)\n",
    "model_1.fit(X_train_pc,y_train_pc)"
   ]
  },
  {
   "cell_type": "code",
   "execution_count": 58,
   "id": "2ff391ee",
   "metadata": {},
   "outputs": [
    {
     "name": "stdout",
     "output_type": "stream",
     "text": [
      "The model performance for testing set\n",
      "--------------------------------------\n",
      "MAE is 0.3911618607553747\n",
      "MSE is 2.045552195627409\n",
      "R2 score is 0.9148252925850162\n"
     ]
    }
   ],
   "source": [
    "# finding the metrics for this model \n",
    "from sklearn import metrics\n",
    "y_pred_test = model_1.predict(X_test_pc)\n",
    "mae = metrics.mean_absolute_error(y_test_pc, y_pred_test)\n",
    "mse = metrics.mean_squared_error(y_test_pc, y_pred_test)\n",
    "r2 = metrics.r2_score(y_test_pc, y_pred_test)\n",
    "\n",
    "print(\"The model performance for testing set\")\n",
    "print(\"--------------------------------------\")\n",
    "print('MAE is {}'.format(mae))\n",
    "print('MSE is {}'.format(mse))\n",
    "print('R2 score is {}'.format(r2))"
   ]
  },
  {
   "cell_type": "code",
   "execution_count": 59,
   "id": "8ffb2fb8",
   "metadata": {},
   "outputs": [
    {
     "data": {
      "text/html": [
       "<style>#sk-container-id-11 {color: black;background-color: white;}#sk-container-id-11 pre{padding: 0;}#sk-container-id-11 div.sk-toggleable {background-color: white;}#sk-container-id-11 label.sk-toggleable__label {cursor: pointer;display: block;width: 100%;margin-bottom: 0;padding: 0.3em;box-sizing: border-box;text-align: center;}#sk-container-id-11 label.sk-toggleable__label-arrow:before {content: \"▸\";float: left;margin-right: 0.25em;color: #696969;}#sk-container-id-11 label.sk-toggleable__label-arrow:hover:before {color: black;}#sk-container-id-11 div.sk-estimator:hover label.sk-toggleable__label-arrow:before {color: black;}#sk-container-id-11 div.sk-toggleable__content {max-height: 0;max-width: 0;overflow: hidden;text-align: left;background-color: #f0f8ff;}#sk-container-id-11 div.sk-toggleable__content pre {margin: 0.2em;color: black;border-radius: 0.25em;background-color: #f0f8ff;}#sk-container-id-11 input.sk-toggleable__control:checked~div.sk-toggleable__content {max-height: 200px;max-width: 100%;overflow: auto;}#sk-container-id-11 input.sk-toggleable__control:checked~label.sk-toggleable__label-arrow:before {content: \"▾\";}#sk-container-id-11 div.sk-estimator input.sk-toggleable__control:checked~label.sk-toggleable__label {background-color: #d4ebff;}#sk-container-id-11 div.sk-label input.sk-toggleable__control:checked~label.sk-toggleable__label {background-color: #d4ebff;}#sk-container-id-11 input.sk-hidden--visually {border: 0;clip: rect(1px 1px 1px 1px);clip: rect(1px, 1px, 1px, 1px);height: 1px;margin: -1px;overflow: hidden;padding: 0;position: absolute;width: 1px;}#sk-container-id-11 div.sk-estimator {font-family: monospace;background-color: #f0f8ff;border: 1px dotted black;border-radius: 0.25em;box-sizing: border-box;margin-bottom: 0.5em;}#sk-container-id-11 div.sk-estimator:hover {background-color: #d4ebff;}#sk-container-id-11 div.sk-parallel-item::after {content: \"\";width: 100%;border-bottom: 1px solid gray;flex-grow: 1;}#sk-container-id-11 div.sk-label:hover label.sk-toggleable__label {background-color: #d4ebff;}#sk-container-id-11 div.sk-serial::before {content: \"\";position: absolute;border-left: 1px solid gray;box-sizing: border-box;top: 0;bottom: 0;left: 50%;z-index: 0;}#sk-container-id-11 div.sk-serial {display: flex;flex-direction: column;align-items: center;background-color: white;padding-right: 0.2em;padding-left: 0.2em;position: relative;}#sk-container-id-11 div.sk-item {position: relative;z-index: 1;}#sk-container-id-11 div.sk-parallel {display: flex;align-items: stretch;justify-content: center;background-color: white;position: relative;}#sk-container-id-11 div.sk-item::before, #sk-container-id-11 div.sk-parallel-item::before {content: \"\";position: absolute;border-left: 1px solid gray;box-sizing: border-box;top: 0;bottom: 0;left: 50%;z-index: -1;}#sk-container-id-11 div.sk-parallel-item {display: flex;flex-direction: column;z-index: 1;position: relative;background-color: white;}#sk-container-id-11 div.sk-parallel-item:first-child::after {align-self: flex-end;width: 50%;}#sk-container-id-11 div.sk-parallel-item:last-child::after {align-self: flex-start;width: 50%;}#sk-container-id-11 div.sk-parallel-item:only-child::after {width: 0;}#sk-container-id-11 div.sk-dashed-wrapped {border: 1px dashed gray;margin: 0 0.4em 0.5em 0.4em;box-sizing: border-box;padding-bottom: 0.4em;background-color: white;}#sk-container-id-11 div.sk-label label {font-family: monospace;font-weight: bold;display: inline-block;line-height: 1.2em;}#sk-container-id-11 div.sk-label-container {text-align: center;}#sk-container-id-11 div.sk-container {/* jupyter's `normalize.less` sets `[hidden] { display: none; }` but bootstrap.min.css set `[hidden] { display: none !important; }` so we also need the `!important` here to be able to override the default hidden behavior on the sphinx rendered scikit-learn.org. See: https://github.com/scikit-learn/scikit-learn/issues/21755 */display: inline-block !important;position: relative;}#sk-container-id-11 div.sk-text-repr-fallback {display: none;}</style><div id=\"sk-container-id-11\" class=\"sk-top-container\"><div class=\"sk-text-repr-fallback\"><pre>RandomizedSearchCV(cv=5, estimator=SVR(),\n",
       "                   param_distributions={&#x27;C&#x27;: [0.1, 1, 10, 100],\n",
       "                                        &#x27;gamma&#x27;: [1, 0.1, 0.01, 0.001],\n",
       "                                        &#x27;kernel&#x27;: [&#x27;rbf&#x27;]},\n",
       "                   random_state=0)</pre><b>In a Jupyter environment, please rerun this cell to show the HTML representation or trust the notebook. <br />On GitHub, the HTML representation is unable to render, please try loading this page with nbviewer.org.</b></div><div class=\"sk-container\" hidden><div class=\"sk-item sk-dashed-wrapped\"><div class=\"sk-label-container\"><div class=\"sk-label sk-toggleable\"><input class=\"sk-toggleable__control sk-hidden--visually\" id=\"sk-estimator-id-21\" type=\"checkbox\" ><label for=\"sk-estimator-id-21\" class=\"sk-toggleable__label sk-toggleable__label-arrow\">RandomizedSearchCV</label><div class=\"sk-toggleable__content\"><pre>RandomizedSearchCV(cv=5, estimator=SVR(),\n",
       "                   param_distributions={&#x27;C&#x27;: [0.1, 1, 10, 100],\n",
       "                                        &#x27;gamma&#x27;: [1, 0.1, 0.01, 0.001],\n",
       "                                        &#x27;kernel&#x27;: [&#x27;rbf&#x27;]},\n",
       "                   random_state=0)</pre></div></div></div><div class=\"sk-parallel\"><div class=\"sk-parallel-item\"><div class=\"sk-item\"><div class=\"sk-label-container\"><div class=\"sk-label sk-toggleable\"><input class=\"sk-toggleable__control sk-hidden--visually\" id=\"sk-estimator-id-22\" type=\"checkbox\" ><label for=\"sk-estimator-id-22\" class=\"sk-toggleable__label sk-toggleable__label-arrow\">estimator: SVR</label><div class=\"sk-toggleable__content\"><pre>SVR()</pre></div></div></div><div class=\"sk-serial\"><div class=\"sk-item\"><div class=\"sk-estimator sk-toggleable\"><input class=\"sk-toggleable__control sk-hidden--visually\" id=\"sk-estimator-id-23\" type=\"checkbox\" ><label for=\"sk-estimator-id-23\" class=\"sk-toggleable__label sk-toggleable__label-arrow\">SVR</label><div class=\"sk-toggleable__content\"><pre>SVR()</pre></div></div></div></div></div></div></div></div></div></div>"
      ],
      "text/plain": [
       "RandomizedSearchCV(cv=5, estimator=SVR(),\n",
       "                   param_distributions={'C': [0.1, 1, 10, 100],\n",
       "                                        'gamma': [1, 0.1, 0.01, 0.001],\n",
       "                                        'kernel': ['rbf']},\n",
       "                   random_state=0)"
      ]
     },
     "execution_count": 59,
     "metadata": {},
     "output_type": "execute_result"
    }
   ],
   "source": [
    "# Hyper parameter tuning for the SVM RBF kernel\n",
    "m2  = SVR(kernel='rbf')\n",
    "param_grid = {'C': [0.1, 1, 10, 100], \n",
    "              'gamma': [1, 0.1, 0.01, 0.001],\n",
    "              'kernel': ['rbf']\n",
    "             }\n",
    "random = RandomizedSearchCV(m2, param_grid,cv=5,random_state=0)\n",
    "random.fit(X_train_pc,y_train_pc)"
   ]
  },
  {
   "cell_type": "code",
   "execution_count": 60,
   "id": "8ae5a445",
   "metadata": {},
   "outputs": [
    {
     "data": {
      "text/plain": [
       "{'kernel': 'rbf', 'gamma': 0.1, 'C': 100}"
      ]
     },
     "execution_count": 60,
     "metadata": {},
     "output_type": "execute_result"
    }
   ],
   "source": [
    "random.best_params_"
   ]
  },
  {
   "cell_type": "code",
   "execution_count": 61,
   "id": "6d3d6569",
   "metadata": {},
   "outputs": [
    {
     "data": {
      "text/html": [
       "<style>#sk-container-id-12 {color: black;background-color: white;}#sk-container-id-12 pre{padding: 0;}#sk-container-id-12 div.sk-toggleable {background-color: white;}#sk-container-id-12 label.sk-toggleable__label {cursor: pointer;display: block;width: 100%;margin-bottom: 0;padding: 0.3em;box-sizing: border-box;text-align: center;}#sk-container-id-12 label.sk-toggleable__label-arrow:before {content: \"▸\";float: left;margin-right: 0.25em;color: #696969;}#sk-container-id-12 label.sk-toggleable__label-arrow:hover:before {color: black;}#sk-container-id-12 div.sk-estimator:hover label.sk-toggleable__label-arrow:before {color: black;}#sk-container-id-12 div.sk-toggleable__content {max-height: 0;max-width: 0;overflow: hidden;text-align: left;background-color: #f0f8ff;}#sk-container-id-12 div.sk-toggleable__content pre {margin: 0.2em;color: black;border-radius: 0.25em;background-color: #f0f8ff;}#sk-container-id-12 input.sk-toggleable__control:checked~div.sk-toggleable__content {max-height: 200px;max-width: 100%;overflow: auto;}#sk-container-id-12 input.sk-toggleable__control:checked~label.sk-toggleable__label-arrow:before {content: \"▾\";}#sk-container-id-12 div.sk-estimator input.sk-toggleable__control:checked~label.sk-toggleable__label {background-color: #d4ebff;}#sk-container-id-12 div.sk-label input.sk-toggleable__control:checked~label.sk-toggleable__label {background-color: #d4ebff;}#sk-container-id-12 input.sk-hidden--visually {border: 0;clip: rect(1px 1px 1px 1px);clip: rect(1px, 1px, 1px, 1px);height: 1px;margin: -1px;overflow: hidden;padding: 0;position: absolute;width: 1px;}#sk-container-id-12 div.sk-estimator {font-family: monospace;background-color: #f0f8ff;border: 1px dotted black;border-radius: 0.25em;box-sizing: border-box;margin-bottom: 0.5em;}#sk-container-id-12 div.sk-estimator:hover {background-color: #d4ebff;}#sk-container-id-12 div.sk-parallel-item::after {content: \"\";width: 100%;border-bottom: 1px solid gray;flex-grow: 1;}#sk-container-id-12 div.sk-label:hover label.sk-toggleable__label {background-color: #d4ebff;}#sk-container-id-12 div.sk-serial::before {content: \"\";position: absolute;border-left: 1px solid gray;box-sizing: border-box;top: 0;bottom: 0;left: 50%;z-index: 0;}#sk-container-id-12 div.sk-serial {display: flex;flex-direction: column;align-items: center;background-color: white;padding-right: 0.2em;padding-left: 0.2em;position: relative;}#sk-container-id-12 div.sk-item {position: relative;z-index: 1;}#sk-container-id-12 div.sk-parallel {display: flex;align-items: stretch;justify-content: center;background-color: white;position: relative;}#sk-container-id-12 div.sk-item::before, #sk-container-id-12 div.sk-parallel-item::before {content: \"\";position: absolute;border-left: 1px solid gray;box-sizing: border-box;top: 0;bottom: 0;left: 50%;z-index: -1;}#sk-container-id-12 div.sk-parallel-item {display: flex;flex-direction: column;z-index: 1;position: relative;background-color: white;}#sk-container-id-12 div.sk-parallel-item:first-child::after {align-self: flex-end;width: 50%;}#sk-container-id-12 div.sk-parallel-item:last-child::after {align-self: flex-start;width: 50%;}#sk-container-id-12 div.sk-parallel-item:only-child::after {width: 0;}#sk-container-id-12 div.sk-dashed-wrapped {border: 1px dashed gray;margin: 0 0.4em 0.5em 0.4em;box-sizing: border-box;padding-bottom: 0.4em;background-color: white;}#sk-container-id-12 div.sk-label label {font-family: monospace;font-weight: bold;display: inline-block;line-height: 1.2em;}#sk-container-id-12 div.sk-label-container {text-align: center;}#sk-container-id-12 div.sk-container {/* jupyter's `normalize.less` sets `[hidden] { display: none; }` but bootstrap.min.css set `[hidden] { display: none !important; }` so we also need the `!important` here to be able to override the default hidden behavior on the sphinx rendered scikit-learn.org. See: https://github.com/scikit-learn/scikit-learn/issues/21755 */display: inline-block !important;position: relative;}#sk-container-id-12 div.sk-text-repr-fallback {display: none;}</style><div id=\"sk-container-id-12\" class=\"sk-top-container\"><div class=\"sk-text-repr-fallback\"><pre>SVR(C=100, gamma=0.1)</pre><b>In a Jupyter environment, please rerun this cell to show the HTML representation or trust the notebook. <br />On GitHub, the HTML representation is unable to render, please try loading this page with nbviewer.org.</b></div><div class=\"sk-container\" hidden><div class=\"sk-item\"><div class=\"sk-estimator sk-toggleable\"><input class=\"sk-toggleable__control sk-hidden--visually\" id=\"sk-estimator-id-24\" type=\"checkbox\" checked><label for=\"sk-estimator-id-24\" class=\"sk-toggleable__label sk-toggleable__label-arrow\">SVR</label><div class=\"sk-toggleable__content\"><pre>SVR(C=100, gamma=0.1)</pre></div></div></div></div></div>"
      ],
      "text/plain": [
       "SVR(C=100, gamma=0.1)"
      ]
     },
     "execution_count": 61,
     "metadata": {},
     "output_type": "execute_result"
    }
   ],
   "source": [
    "# best model for the svr rbf kernel\n",
    "model_2 = SVR(kernel= 'rbf', gamma= 0.1, C= 100)\n",
    "model_2.fit(X_train_pc,y_train_pc)"
   ]
  },
  {
   "cell_type": "code",
   "execution_count": 62,
   "id": "01efbd6b",
   "metadata": {},
   "outputs": [
    {
     "name": "stdout",
     "output_type": "stream",
     "text": [
      "The model performance for testing set\n",
      "--------------------------------------\n",
      "MAE is 0.3995560781197685\n",
      "MSE is 2.232877231372954\n",
      "R2 score is 0.9070252691266882\n"
     ]
    }
   ],
   "source": [
    "y_pred_test = model_2.predict(X_test_pc)\n",
    "mae = metrics.mean_absolute_error(y_test_pc, y_pred_test)\n",
    "mse = metrics.mean_squared_error(y_test_pc, y_pred_test)\n",
    "r2 = metrics.r2_score(y_test_pc, y_pred_test)\n",
    "\n",
    "print(\"The model performance for testing set\")\n",
    "print(\"--------------------------------------\")\n",
    "print('MAE is {}'.format(mae))\n",
    "print('MSE is {}'.format(mse))\n",
    "print('R2 score is {}'.format(r2))"
   ]
  },
  {
   "cell_type": "code",
   "execution_count": 63,
   "id": "f151cab7",
   "metadata": {},
   "outputs": [
    {
     "name": "stdout",
     "output_type": "stream",
     "text": [
      "Fitting 5 folds for each of 18 candidates, totalling 90 fits\n"
     ]
    },
    {
     "name": "stderr",
     "output_type": "stream",
     "text": [
      "C:\\Users\\vasuk\\AppData\\Local\\Programs\\Python\\Python310\\lib\\site-packages\\sklearn\\model_selection\\_search.py:305: UserWarning: The total space of parameters 18 is smaller than n_iter=100. Running 18 iterations. For exhaustive searches, use GridSearchCV.\n",
      "  warnings.warn(\n"
     ]
    },
    {
     "data": {
      "text/html": [
       "<style>#sk-container-id-13 {color: black;background-color: white;}#sk-container-id-13 pre{padding: 0;}#sk-container-id-13 div.sk-toggleable {background-color: white;}#sk-container-id-13 label.sk-toggleable__label {cursor: pointer;display: block;width: 100%;margin-bottom: 0;padding: 0.3em;box-sizing: border-box;text-align: center;}#sk-container-id-13 label.sk-toggleable__label-arrow:before {content: \"▸\";float: left;margin-right: 0.25em;color: #696969;}#sk-container-id-13 label.sk-toggleable__label-arrow:hover:before {color: black;}#sk-container-id-13 div.sk-estimator:hover label.sk-toggleable__label-arrow:before {color: black;}#sk-container-id-13 div.sk-toggleable__content {max-height: 0;max-width: 0;overflow: hidden;text-align: left;background-color: #f0f8ff;}#sk-container-id-13 div.sk-toggleable__content pre {margin: 0.2em;color: black;border-radius: 0.25em;background-color: #f0f8ff;}#sk-container-id-13 input.sk-toggleable__control:checked~div.sk-toggleable__content {max-height: 200px;max-width: 100%;overflow: auto;}#sk-container-id-13 input.sk-toggleable__control:checked~label.sk-toggleable__label-arrow:before {content: \"▾\";}#sk-container-id-13 div.sk-estimator input.sk-toggleable__control:checked~label.sk-toggleable__label {background-color: #d4ebff;}#sk-container-id-13 div.sk-label input.sk-toggleable__control:checked~label.sk-toggleable__label {background-color: #d4ebff;}#sk-container-id-13 input.sk-hidden--visually {border: 0;clip: rect(1px 1px 1px 1px);clip: rect(1px, 1px, 1px, 1px);height: 1px;margin: -1px;overflow: hidden;padding: 0;position: absolute;width: 1px;}#sk-container-id-13 div.sk-estimator {font-family: monospace;background-color: #f0f8ff;border: 1px dotted black;border-radius: 0.25em;box-sizing: border-box;margin-bottom: 0.5em;}#sk-container-id-13 div.sk-estimator:hover {background-color: #d4ebff;}#sk-container-id-13 div.sk-parallel-item::after {content: \"\";width: 100%;border-bottom: 1px solid gray;flex-grow: 1;}#sk-container-id-13 div.sk-label:hover label.sk-toggleable__label {background-color: #d4ebff;}#sk-container-id-13 div.sk-serial::before {content: \"\";position: absolute;border-left: 1px solid gray;box-sizing: border-box;top: 0;bottom: 0;left: 50%;z-index: 0;}#sk-container-id-13 div.sk-serial {display: flex;flex-direction: column;align-items: center;background-color: white;padding-right: 0.2em;padding-left: 0.2em;position: relative;}#sk-container-id-13 div.sk-item {position: relative;z-index: 1;}#sk-container-id-13 div.sk-parallel {display: flex;align-items: stretch;justify-content: center;background-color: white;position: relative;}#sk-container-id-13 div.sk-item::before, #sk-container-id-13 div.sk-parallel-item::before {content: \"\";position: absolute;border-left: 1px solid gray;box-sizing: border-box;top: 0;bottom: 0;left: 50%;z-index: -1;}#sk-container-id-13 div.sk-parallel-item {display: flex;flex-direction: column;z-index: 1;position: relative;background-color: white;}#sk-container-id-13 div.sk-parallel-item:first-child::after {align-self: flex-end;width: 50%;}#sk-container-id-13 div.sk-parallel-item:last-child::after {align-self: flex-start;width: 50%;}#sk-container-id-13 div.sk-parallel-item:only-child::after {width: 0;}#sk-container-id-13 div.sk-dashed-wrapped {border: 1px dashed gray;margin: 0 0.4em 0.5em 0.4em;box-sizing: border-box;padding-bottom: 0.4em;background-color: white;}#sk-container-id-13 div.sk-label label {font-family: monospace;font-weight: bold;display: inline-block;line-height: 1.2em;}#sk-container-id-13 div.sk-label-container {text-align: center;}#sk-container-id-13 div.sk-container {/* jupyter's `normalize.less` sets `[hidden] { display: none; }` but bootstrap.min.css set `[hidden] { display: none !important; }` so we also need the `!important` here to be able to override the default hidden behavior on the sphinx rendered scikit-learn.org. See: https://github.com/scikit-learn/scikit-learn/issues/21755 */display: inline-block !important;position: relative;}#sk-container-id-13 div.sk-text-repr-fallback {display: none;}</style><div id=\"sk-container-id-13\" class=\"sk-top-container\"><div class=\"sk-text-repr-fallback\"><pre>RandomizedSearchCV(cv=5, estimator=GradientBoostingRegressor(), n_iter=100,\n",
       "                   n_jobs=-1,\n",
       "                   param_distributions={&#x27;learning_rate&#x27;: [0.01, 0.1],\n",
       "                                        &#x27;max_depth&#x27;: [3, 6, 10],\n",
       "                                        &#x27;n_estimators&#x27;: [100, 200, 500]},\n",
       "                   random_state=42, verbose=2)</pre><b>In a Jupyter environment, please rerun this cell to show the HTML representation or trust the notebook. <br />On GitHub, the HTML representation is unable to render, please try loading this page with nbviewer.org.</b></div><div class=\"sk-container\" hidden><div class=\"sk-item sk-dashed-wrapped\"><div class=\"sk-label-container\"><div class=\"sk-label sk-toggleable\"><input class=\"sk-toggleable__control sk-hidden--visually\" id=\"sk-estimator-id-25\" type=\"checkbox\" ><label for=\"sk-estimator-id-25\" class=\"sk-toggleable__label sk-toggleable__label-arrow\">RandomizedSearchCV</label><div class=\"sk-toggleable__content\"><pre>RandomizedSearchCV(cv=5, estimator=GradientBoostingRegressor(), n_iter=100,\n",
       "                   n_jobs=-1,\n",
       "                   param_distributions={&#x27;learning_rate&#x27;: [0.01, 0.1],\n",
       "                                        &#x27;max_depth&#x27;: [3, 6, 10],\n",
       "                                        &#x27;n_estimators&#x27;: [100, 200, 500]},\n",
       "                   random_state=42, verbose=2)</pre></div></div></div><div class=\"sk-parallel\"><div class=\"sk-parallel-item\"><div class=\"sk-item\"><div class=\"sk-label-container\"><div class=\"sk-label sk-toggleable\"><input class=\"sk-toggleable__control sk-hidden--visually\" id=\"sk-estimator-id-26\" type=\"checkbox\" ><label for=\"sk-estimator-id-26\" class=\"sk-toggleable__label sk-toggleable__label-arrow\">estimator: GradientBoostingRegressor</label><div class=\"sk-toggleable__content\"><pre>GradientBoostingRegressor()</pre></div></div></div><div class=\"sk-serial\"><div class=\"sk-item\"><div class=\"sk-estimator sk-toggleable\"><input class=\"sk-toggleable__control sk-hidden--visually\" id=\"sk-estimator-id-27\" type=\"checkbox\" ><label for=\"sk-estimator-id-27\" class=\"sk-toggleable__label sk-toggleable__label-arrow\">GradientBoostingRegressor</label><div class=\"sk-toggleable__content\"><pre>GradientBoostingRegressor()</pre></div></div></div></div></div></div></div></div></div></div>"
      ],
      "text/plain": [
       "RandomizedSearchCV(cv=5, estimator=GradientBoostingRegressor(), n_iter=100,\n",
       "                   n_jobs=-1,\n",
       "                   param_distributions={'learning_rate': [0.01, 0.1],\n",
       "                                        'max_depth': [3, 6, 10],\n",
       "                                        'n_estimators': [100, 200, 500]},\n",
       "                   random_state=42, verbose=2)"
      ]
     },
     "execution_count": 63,
     "metadata": {},
     "output_type": "execute_result"
    }
   ],
   "source": [
    "#Hyper parameter tuning for the Gradient boosting regressor \n",
    "m3 = GradientBoostingRegressor()\n",
    "params = { 'max_depth': [3,6,10],\n",
    "           'learning_rate': [0.01,0.1],\n",
    "           'n_estimators': [100,200,500]\n",
    "           }\n",
    "clf = RandomizedSearchCV(estimator = m3, param_distributions = params, n_iter = 100, \n",
    "                               cv = 5, verbose=2, random_state=42, n_jobs = -1)\n",
    "clf.fit(X_train_pc,y_train_pc)"
   ]
  },
  {
   "cell_type": "code",
   "execution_count": 64,
   "id": "c6bda166",
   "metadata": {},
   "outputs": [
    {
     "data": {
      "text/plain": [
       "{'n_estimators': 500, 'max_depth': 3, 'learning_rate': 0.1}"
      ]
     },
     "execution_count": 64,
     "metadata": {},
     "output_type": "execute_result"
    }
   ],
   "source": [
    "clf.best_params_"
   ]
  },
  {
   "cell_type": "code",
   "execution_count": 65,
   "id": "93e970b5",
   "metadata": {},
   "outputs": [
    {
     "data": {
      "text/html": [
       "<style>#sk-container-id-14 {color: black;background-color: white;}#sk-container-id-14 pre{padding: 0;}#sk-container-id-14 div.sk-toggleable {background-color: white;}#sk-container-id-14 label.sk-toggleable__label {cursor: pointer;display: block;width: 100%;margin-bottom: 0;padding: 0.3em;box-sizing: border-box;text-align: center;}#sk-container-id-14 label.sk-toggleable__label-arrow:before {content: \"▸\";float: left;margin-right: 0.25em;color: #696969;}#sk-container-id-14 label.sk-toggleable__label-arrow:hover:before {color: black;}#sk-container-id-14 div.sk-estimator:hover label.sk-toggleable__label-arrow:before {color: black;}#sk-container-id-14 div.sk-toggleable__content {max-height: 0;max-width: 0;overflow: hidden;text-align: left;background-color: #f0f8ff;}#sk-container-id-14 div.sk-toggleable__content pre {margin: 0.2em;color: black;border-radius: 0.25em;background-color: #f0f8ff;}#sk-container-id-14 input.sk-toggleable__control:checked~div.sk-toggleable__content {max-height: 200px;max-width: 100%;overflow: auto;}#sk-container-id-14 input.sk-toggleable__control:checked~label.sk-toggleable__label-arrow:before {content: \"▾\";}#sk-container-id-14 div.sk-estimator input.sk-toggleable__control:checked~label.sk-toggleable__label {background-color: #d4ebff;}#sk-container-id-14 div.sk-label input.sk-toggleable__control:checked~label.sk-toggleable__label {background-color: #d4ebff;}#sk-container-id-14 input.sk-hidden--visually {border: 0;clip: rect(1px 1px 1px 1px);clip: rect(1px, 1px, 1px, 1px);height: 1px;margin: -1px;overflow: hidden;padding: 0;position: absolute;width: 1px;}#sk-container-id-14 div.sk-estimator {font-family: monospace;background-color: #f0f8ff;border: 1px dotted black;border-radius: 0.25em;box-sizing: border-box;margin-bottom: 0.5em;}#sk-container-id-14 div.sk-estimator:hover {background-color: #d4ebff;}#sk-container-id-14 div.sk-parallel-item::after {content: \"\";width: 100%;border-bottom: 1px solid gray;flex-grow: 1;}#sk-container-id-14 div.sk-label:hover label.sk-toggleable__label {background-color: #d4ebff;}#sk-container-id-14 div.sk-serial::before {content: \"\";position: absolute;border-left: 1px solid gray;box-sizing: border-box;top: 0;bottom: 0;left: 50%;z-index: 0;}#sk-container-id-14 div.sk-serial {display: flex;flex-direction: column;align-items: center;background-color: white;padding-right: 0.2em;padding-left: 0.2em;position: relative;}#sk-container-id-14 div.sk-item {position: relative;z-index: 1;}#sk-container-id-14 div.sk-parallel {display: flex;align-items: stretch;justify-content: center;background-color: white;position: relative;}#sk-container-id-14 div.sk-item::before, #sk-container-id-14 div.sk-parallel-item::before {content: \"\";position: absolute;border-left: 1px solid gray;box-sizing: border-box;top: 0;bottom: 0;left: 50%;z-index: -1;}#sk-container-id-14 div.sk-parallel-item {display: flex;flex-direction: column;z-index: 1;position: relative;background-color: white;}#sk-container-id-14 div.sk-parallel-item:first-child::after {align-self: flex-end;width: 50%;}#sk-container-id-14 div.sk-parallel-item:last-child::after {align-self: flex-start;width: 50%;}#sk-container-id-14 div.sk-parallel-item:only-child::after {width: 0;}#sk-container-id-14 div.sk-dashed-wrapped {border: 1px dashed gray;margin: 0 0.4em 0.5em 0.4em;box-sizing: border-box;padding-bottom: 0.4em;background-color: white;}#sk-container-id-14 div.sk-label label {font-family: monospace;font-weight: bold;display: inline-block;line-height: 1.2em;}#sk-container-id-14 div.sk-label-container {text-align: center;}#sk-container-id-14 div.sk-container {/* jupyter's `normalize.less` sets `[hidden] { display: none; }` but bootstrap.min.css set `[hidden] { display: none !important; }` so we also need the `!important` here to be able to override the default hidden behavior on the sphinx rendered scikit-learn.org. See: https://github.com/scikit-learn/scikit-learn/issues/21755 */display: inline-block !important;position: relative;}#sk-container-id-14 div.sk-text-repr-fallback {display: none;}</style><div id=\"sk-container-id-14\" class=\"sk-top-container\"><div class=\"sk-text-repr-fallback\"><pre>GradientBoostingRegressor(n_estimators=200)</pre><b>In a Jupyter environment, please rerun this cell to show the HTML representation or trust the notebook. <br />On GitHub, the HTML representation is unable to render, please try loading this page with nbviewer.org.</b></div><div class=\"sk-container\" hidden><div class=\"sk-item\"><div class=\"sk-estimator sk-toggleable\"><input class=\"sk-toggleable__control sk-hidden--visually\" id=\"sk-estimator-id-28\" type=\"checkbox\" checked><label for=\"sk-estimator-id-28\" class=\"sk-toggleable__label sk-toggleable__label-arrow\">GradientBoostingRegressor</label><div class=\"sk-toggleable__content\"><pre>GradientBoostingRegressor(n_estimators=200)</pre></div></div></div></div></div>"
      ],
      "text/plain": [
       "GradientBoostingRegressor(n_estimators=200)"
      ]
     },
     "execution_count": 65,
     "metadata": {},
     "output_type": "execute_result"
    }
   ],
   "source": [
    "# Get feature importances\n",
    "# Get the names of the features\n",
    "\n",
    "model_3 = GradientBoostingRegressor(n_estimators= 200, max_depth= 3, learning_rate= 0.1)\n",
    "\n",
    "model_3.fit(X_train_pc,y_train_pc)"
   ]
  },
  {
   "cell_type": "code",
   "execution_count": 66,
   "id": "efd4b035",
   "metadata": {},
   "outputs": [
    {
     "name": "stdout",
     "output_type": "stream",
     "text": [
      "The model performance for testing set\n",
      "--------------------------------------\n",
      "MAE is 0.13405417930242294\n",
      "MSE is 0.2113901399643649\n",
      "R2 score is 0.9911979301430855\n"
     ]
    }
   ],
   "source": [
    "# testin the data \n",
    "y_pred_test = model_3.predict(X_test_pc)\n",
    "mae = metrics.mean_absolute_error(y_test_pc, y_pred_test)\n",
    "mse = metrics.mean_squared_error(y_test_pc, y_pred_test)\n",
    "r2 = metrics.r2_score(y_test_pc, y_pred_test)\n",
    "\n",
    "print(\"The model performance for testing set\")\n",
    "print(\"--------------------------------------\")\n",
    "print('MAE is {}'.format(mae))\n",
    "print('MSE is {}'.format(mse))\n",
    "print('R2 score is {}'.format(r2))"
   ]
  },
  {
   "cell_type": "code",
   "execution_count": null,
   "id": "38719dca",
   "metadata": {},
   "outputs": [],
   "source": [
    "'''This is the information on the model performance for the testing set after hyperparameter tuning using RandomizedSearchCV with a Random Forest Regressor:\n",
    "\n",
    "Mean Absolute Error (MAE) is 0.13405417930242294.\n",
    "Mean Squared Error (MSE) is 0.2113901399643649.\n",
    "R-squared (R2) score is 0.9911979301430855.\n",
    "These metrics are used to evaluate the performance of the model. A lower MAE and MSE indicates better performance, while a higher R2 score indicates a better fit of the model to the data. These values \n",
    "suggest that the model is performing well on the testing set after hyperparameter tuning.\n",
    "'''"
   ]
  },
  {
   "cell_type": "code",
   "execution_count": 67,
   "id": "8d6969bb",
   "metadata": {},
   "outputs": [
    {
     "name": "stdout",
     "output_type": "stream",
     "text": [
      "Fitting 3 folds for each of 100 candidates, totalling 300 fits\n"
     ]
    },
    {
     "data": {
      "text/html": [
       "<style>#sk-container-id-15 {color: black;background-color: white;}#sk-container-id-15 pre{padding: 0;}#sk-container-id-15 div.sk-toggleable {background-color: white;}#sk-container-id-15 label.sk-toggleable__label {cursor: pointer;display: block;width: 100%;margin-bottom: 0;padding: 0.3em;box-sizing: border-box;text-align: center;}#sk-container-id-15 label.sk-toggleable__label-arrow:before {content: \"▸\";float: left;margin-right: 0.25em;color: #696969;}#sk-container-id-15 label.sk-toggleable__label-arrow:hover:before {color: black;}#sk-container-id-15 div.sk-estimator:hover label.sk-toggleable__label-arrow:before {color: black;}#sk-container-id-15 div.sk-toggleable__content {max-height: 0;max-width: 0;overflow: hidden;text-align: left;background-color: #f0f8ff;}#sk-container-id-15 div.sk-toggleable__content pre {margin: 0.2em;color: black;border-radius: 0.25em;background-color: #f0f8ff;}#sk-container-id-15 input.sk-toggleable__control:checked~div.sk-toggleable__content {max-height: 200px;max-width: 100%;overflow: auto;}#sk-container-id-15 input.sk-toggleable__control:checked~label.sk-toggleable__label-arrow:before {content: \"▾\";}#sk-container-id-15 div.sk-estimator input.sk-toggleable__control:checked~label.sk-toggleable__label {background-color: #d4ebff;}#sk-container-id-15 div.sk-label input.sk-toggleable__control:checked~label.sk-toggleable__label {background-color: #d4ebff;}#sk-container-id-15 input.sk-hidden--visually {border: 0;clip: rect(1px 1px 1px 1px);clip: rect(1px, 1px, 1px, 1px);height: 1px;margin: -1px;overflow: hidden;padding: 0;position: absolute;width: 1px;}#sk-container-id-15 div.sk-estimator {font-family: monospace;background-color: #f0f8ff;border: 1px dotted black;border-radius: 0.25em;box-sizing: border-box;margin-bottom: 0.5em;}#sk-container-id-15 div.sk-estimator:hover {background-color: #d4ebff;}#sk-container-id-15 div.sk-parallel-item::after {content: \"\";width: 100%;border-bottom: 1px solid gray;flex-grow: 1;}#sk-container-id-15 div.sk-label:hover label.sk-toggleable__label {background-color: #d4ebff;}#sk-container-id-15 div.sk-serial::before {content: \"\";position: absolute;border-left: 1px solid gray;box-sizing: border-box;top: 0;bottom: 0;left: 50%;z-index: 0;}#sk-container-id-15 div.sk-serial {display: flex;flex-direction: column;align-items: center;background-color: white;padding-right: 0.2em;padding-left: 0.2em;position: relative;}#sk-container-id-15 div.sk-item {position: relative;z-index: 1;}#sk-container-id-15 div.sk-parallel {display: flex;align-items: stretch;justify-content: center;background-color: white;position: relative;}#sk-container-id-15 div.sk-item::before, #sk-container-id-15 div.sk-parallel-item::before {content: \"\";position: absolute;border-left: 1px solid gray;box-sizing: border-box;top: 0;bottom: 0;left: 50%;z-index: -1;}#sk-container-id-15 div.sk-parallel-item {display: flex;flex-direction: column;z-index: 1;position: relative;background-color: white;}#sk-container-id-15 div.sk-parallel-item:first-child::after {align-self: flex-end;width: 50%;}#sk-container-id-15 div.sk-parallel-item:last-child::after {align-self: flex-start;width: 50%;}#sk-container-id-15 div.sk-parallel-item:only-child::after {width: 0;}#sk-container-id-15 div.sk-dashed-wrapped {border: 1px dashed gray;margin: 0 0.4em 0.5em 0.4em;box-sizing: border-box;padding-bottom: 0.4em;background-color: white;}#sk-container-id-15 div.sk-label label {font-family: monospace;font-weight: bold;display: inline-block;line-height: 1.2em;}#sk-container-id-15 div.sk-label-container {text-align: center;}#sk-container-id-15 div.sk-container {/* jupyter's `normalize.less` sets `[hidden] { display: none; }` but bootstrap.min.css set `[hidden] { display: none !important; }` so we also need the `!important` here to be able to override the default hidden behavior on the sphinx rendered scikit-learn.org. See: https://github.com/scikit-learn/scikit-learn/issues/21755 */display: inline-block !important;position: relative;}#sk-container-id-15 div.sk-text-repr-fallback {display: none;}</style><div id=\"sk-container-id-15\" class=\"sk-top-container\"><div class=\"sk-text-repr-fallback\"><pre>RandomizedSearchCV(cv=3, estimator=RandomForestRegressor(), n_iter=100,\n",
       "                   n_jobs=-1,\n",
       "                   param_distributions={&#x27;bootstrap&#x27;: [True],\n",
       "                                        &#x27;max_depth&#x27;: [30, 50, 70],\n",
       "                                        &#x27;max_features&#x27;: [2, 3],\n",
       "                                        &#x27;min_samples_leaf&#x27;: [3, 4, 5],\n",
       "                                        &#x27;min_samples_split&#x27;: [8, 10, 12],\n",
       "                                        &#x27;n_estimators&#x27;: [50, 100, 150, 200]},\n",
       "                   random_state=42, verbose=2)</pre><b>In a Jupyter environment, please rerun this cell to show the HTML representation or trust the notebook. <br />On GitHub, the HTML representation is unable to render, please try loading this page with nbviewer.org.</b></div><div class=\"sk-container\" hidden><div class=\"sk-item sk-dashed-wrapped\"><div class=\"sk-label-container\"><div class=\"sk-label sk-toggleable\"><input class=\"sk-toggleable__control sk-hidden--visually\" id=\"sk-estimator-id-29\" type=\"checkbox\" ><label for=\"sk-estimator-id-29\" class=\"sk-toggleable__label sk-toggleable__label-arrow\">RandomizedSearchCV</label><div class=\"sk-toggleable__content\"><pre>RandomizedSearchCV(cv=3, estimator=RandomForestRegressor(), n_iter=100,\n",
       "                   n_jobs=-1,\n",
       "                   param_distributions={&#x27;bootstrap&#x27;: [True],\n",
       "                                        &#x27;max_depth&#x27;: [30, 50, 70],\n",
       "                                        &#x27;max_features&#x27;: [2, 3],\n",
       "                                        &#x27;min_samples_leaf&#x27;: [3, 4, 5],\n",
       "                                        &#x27;min_samples_split&#x27;: [8, 10, 12],\n",
       "                                        &#x27;n_estimators&#x27;: [50, 100, 150, 200]},\n",
       "                   random_state=42, verbose=2)</pre></div></div></div><div class=\"sk-parallel\"><div class=\"sk-parallel-item\"><div class=\"sk-item\"><div class=\"sk-label-container\"><div class=\"sk-label sk-toggleable\"><input class=\"sk-toggleable__control sk-hidden--visually\" id=\"sk-estimator-id-30\" type=\"checkbox\" ><label for=\"sk-estimator-id-30\" class=\"sk-toggleable__label sk-toggleable__label-arrow\">estimator: RandomForestRegressor</label><div class=\"sk-toggleable__content\"><pre>RandomForestRegressor()</pre></div></div></div><div class=\"sk-serial\"><div class=\"sk-item\"><div class=\"sk-estimator sk-toggleable\"><input class=\"sk-toggleable__control sk-hidden--visually\" id=\"sk-estimator-id-31\" type=\"checkbox\" ><label for=\"sk-estimator-id-31\" class=\"sk-toggleable__label sk-toggleable__label-arrow\">RandomForestRegressor</label><div class=\"sk-toggleable__content\"><pre>RandomForestRegressor()</pre></div></div></div></div></div></div></div></div></div></div>"
      ],
      "text/plain": [
       "RandomizedSearchCV(cv=3, estimator=RandomForestRegressor(), n_iter=100,\n",
       "                   n_jobs=-1,\n",
       "                   param_distributions={'bootstrap': [True],\n",
       "                                        'max_depth': [30, 50, 70],\n",
       "                                        'max_features': [2, 3],\n",
       "                                        'min_samples_leaf': [3, 4, 5],\n",
       "                                        'min_samples_split': [8, 10, 12],\n",
       "                                        'n_estimators': [50, 100, 150, 200]},\n",
       "                   random_state=42, verbose=2)"
      ]
     },
     "execution_count": 67,
     "metadata": {},
     "output_type": "execute_result"
    }
   ],
   "source": [
    "# Create a random forest regressor object\n",
    "m4 = RandomForestRegressor()\n",
    "# Define the hyperparameter grid\n",
    "\n",
    "params = { 'bootstrap': [True],\n",
    "    'max_depth': [30,50,70],\n",
    "    'max_features': [2, 3],\n",
    "    'min_samples_leaf': [3, 4, 5],\n",
    "    'min_samples_split': [8, 10, 12],\n",
    "    'n_estimators': [50, 100, 150, 200]}\n",
    "# Perform randomized search cross-validation\n",
    "\n",
    "clf = RandomizedSearchCV(estimator = m4, param_distributions = params, n_iter = 100, \n",
    "                               cv = 3, verbose=2, random_state=42, n_jobs = -1)\n",
    "clf.fit(X_train_pc,y_train_pc)"
   ]
  },
  {
   "cell_type": "code",
   "execution_count": null,
   "id": "4d96bd59",
   "metadata": {},
   "outputs": [],
   "source": [
    "'''The code snippet performs hyperparameter tuning for a random forest regressor model\n",
    "using RandomizedSearchCV. The RandomForestRegressor() function is used to create a random forest \n",
    "regressor object. A hyperparameter grid is defined using a dictionary containing the hyperparameters and their corresponding values. The RandomizedSearchCV() function is then used to perform randomized search cross-validation with 100 iterations, 3-fold cross-validation, and parallel processing with -1 number of jobs. The best set of hyperparameters is selected based on the highest mean cross-validation score, which is evaluated using the score()\n",
    "method of the RandomizedSearchCV() object.\n",
    "'''"
   ]
  },
  {
   "cell_type": "code",
   "execution_count": 68,
   "id": "13e9c805",
   "metadata": {},
   "outputs": [
    {
     "data": {
      "text/plain": [
       "{'n_estimators': 50,\n",
       " 'min_samples_split': 8,\n",
       " 'min_samples_leaf': 3,\n",
       " 'max_features': 3,\n",
       " 'max_depth': 50,\n",
       " 'bootstrap': True}"
      ]
     },
     "execution_count": 68,
     "metadata": {},
     "output_type": "execute_result"
    }
   ],
   "source": [
    "clf.best_params_\n",
    "#Assuming clf is an instance of GridSearchCV or RandomizedSearchCV, the best_params_"
   ]
  },
  {
   "cell_type": "code",
   "execution_count": 69,
   "id": "86ffcad0",
   "metadata": {},
   "outputs": [
    {
     "data": {
      "text/html": [
       "<style>#sk-container-id-16 {color: black;background-color: white;}#sk-container-id-16 pre{padding: 0;}#sk-container-id-16 div.sk-toggleable {background-color: white;}#sk-container-id-16 label.sk-toggleable__label {cursor: pointer;display: block;width: 100%;margin-bottom: 0;padding: 0.3em;box-sizing: border-box;text-align: center;}#sk-container-id-16 label.sk-toggleable__label-arrow:before {content: \"▸\";float: left;margin-right: 0.25em;color: #696969;}#sk-container-id-16 label.sk-toggleable__label-arrow:hover:before {color: black;}#sk-container-id-16 div.sk-estimator:hover label.sk-toggleable__label-arrow:before {color: black;}#sk-container-id-16 div.sk-toggleable__content {max-height: 0;max-width: 0;overflow: hidden;text-align: left;background-color: #f0f8ff;}#sk-container-id-16 div.sk-toggleable__content pre {margin: 0.2em;color: black;border-radius: 0.25em;background-color: #f0f8ff;}#sk-container-id-16 input.sk-toggleable__control:checked~div.sk-toggleable__content {max-height: 200px;max-width: 100%;overflow: auto;}#sk-container-id-16 input.sk-toggleable__control:checked~label.sk-toggleable__label-arrow:before {content: \"▾\";}#sk-container-id-16 div.sk-estimator input.sk-toggleable__control:checked~label.sk-toggleable__label {background-color: #d4ebff;}#sk-container-id-16 div.sk-label input.sk-toggleable__control:checked~label.sk-toggleable__label {background-color: #d4ebff;}#sk-container-id-16 input.sk-hidden--visually {border: 0;clip: rect(1px 1px 1px 1px);clip: rect(1px, 1px, 1px, 1px);height: 1px;margin: -1px;overflow: hidden;padding: 0;position: absolute;width: 1px;}#sk-container-id-16 div.sk-estimator {font-family: monospace;background-color: #f0f8ff;border: 1px dotted black;border-radius: 0.25em;box-sizing: border-box;margin-bottom: 0.5em;}#sk-container-id-16 div.sk-estimator:hover {background-color: #d4ebff;}#sk-container-id-16 div.sk-parallel-item::after {content: \"\";width: 100%;border-bottom: 1px solid gray;flex-grow: 1;}#sk-container-id-16 div.sk-label:hover label.sk-toggleable__label {background-color: #d4ebff;}#sk-container-id-16 div.sk-serial::before {content: \"\";position: absolute;border-left: 1px solid gray;box-sizing: border-box;top: 0;bottom: 0;left: 50%;z-index: 0;}#sk-container-id-16 div.sk-serial {display: flex;flex-direction: column;align-items: center;background-color: white;padding-right: 0.2em;padding-left: 0.2em;position: relative;}#sk-container-id-16 div.sk-item {position: relative;z-index: 1;}#sk-container-id-16 div.sk-parallel {display: flex;align-items: stretch;justify-content: center;background-color: white;position: relative;}#sk-container-id-16 div.sk-item::before, #sk-container-id-16 div.sk-parallel-item::before {content: \"\";position: absolute;border-left: 1px solid gray;box-sizing: border-box;top: 0;bottom: 0;left: 50%;z-index: -1;}#sk-container-id-16 div.sk-parallel-item {display: flex;flex-direction: column;z-index: 1;position: relative;background-color: white;}#sk-container-id-16 div.sk-parallel-item:first-child::after {align-self: flex-end;width: 50%;}#sk-container-id-16 div.sk-parallel-item:last-child::after {align-self: flex-start;width: 50%;}#sk-container-id-16 div.sk-parallel-item:only-child::after {width: 0;}#sk-container-id-16 div.sk-dashed-wrapped {border: 1px dashed gray;margin: 0 0.4em 0.5em 0.4em;box-sizing: border-box;padding-bottom: 0.4em;background-color: white;}#sk-container-id-16 div.sk-label label {font-family: monospace;font-weight: bold;display: inline-block;line-height: 1.2em;}#sk-container-id-16 div.sk-label-container {text-align: center;}#sk-container-id-16 div.sk-container {/* jupyter's `normalize.less` sets `[hidden] { display: none; }` but bootstrap.min.css set `[hidden] { display: none !important; }` so we also need the `!important` here to be able to override the default hidden behavior on the sphinx rendered scikit-learn.org. See: https://github.com/scikit-learn/scikit-learn/issues/21755 */display: inline-block !important;position: relative;}#sk-container-id-16 div.sk-text-repr-fallback {display: none;}</style><div id=\"sk-container-id-16\" class=\"sk-top-container\"><div class=\"sk-text-repr-fallback\"><pre>RandomForestRegressor(max_depth=50, max_features=3, min_samples_leaf=3,\n",
       "                      min_samples_split=8, n_estimators=200)</pre><b>In a Jupyter environment, please rerun this cell to show the HTML representation or trust the notebook. <br />On GitHub, the HTML representation is unable to render, please try loading this page with nbviewer.org.</b></div><div class=\"sk-container\" hidden><div class=\"sk-item\"><div class=\"sk-estimator sk-toggleable\"><input class=\"sk-toggleable__control sk-hidden--visually\" id=\"sk-estimator-id-32\" type=\"checkbox\" checked><label for=\"sk-estimator-id-32\" class=\"sk-toggleable__label sk-toggleable__label-arrow\">RandomForestRegressor</label><div class=\"sk-toggleable__content\"><pre>RandomForestRegressor(max_depth=50, max_features=3, min_samples_leaf=3,\n",
       "                      min_samples_split=8, n_estimators=200)</pre></div></div></div></div></div>"
      ],
      "text/plain": [
       "RandomForestRegressor(max_depth=50, max_features=3, min_samples_leaf=3,\n",
       "                      min_samples_split=8, n_estimators=200)"
      ]
     },
     "execution_count": 69,
     "metadata": {},
     "output_type": "execute_result"
    }
   ],
   "source": [
    "# Best random forest regressormodel_4 = RandomForestRegressor(n_estimators= 200,\n",
    " min_samples_split= 8,\n",
    " min_samples_leaf=3,\n",
    " max_features=3,\n",
    " max_depth=50,\n",
    " bootstrap=True)\n",
    "model_4.fit(X_train_pc,y_train_pc)"
   ]
  },
  {
   "cell_type": "code",
   "execution_count": 70,
   "id": "78fe558e",
   "metadata": {},
   "outputs": [
    {
     "name": "stdout",
     "output_type": "stream",
     "text": [
      "The model performance for testing set\n",
      "--------------------------------------\n",
      "MAE is 0.74356138337278\n",
      "MSE is 2.858946835053689\n",
      "R2 score is 0.8809563692819862\n"
     ]
    }
   ],
   "source": [
    "# Test data results\n",
    "y_pred_test = model_4.predict(X_test_pc)\n",
    "mae = metrics.mean_absolute_error(y_test_pc, y_pred_test)\n",
    "mse = metrics.mean_squared_error(y_test_pc, y_pred_test)\n",
    "r2 = metrics.r2_score(y_test_pc, y_pred_test)\n",
    "\n",
    "print(\"The model performance for testing set\")\n",
    "print(\"--------------------------------------\")\n",
    "print('MAE is {}'.format(mae))\n",
    "print('MSE is {}'.format(mse))\n",
    "print('R2 score is {}'.format(r2))"
   ]
  },
  {
   "cell_type": "code",
   "execution_count": 57,
   "id": "cdf508f4",
   "metadata": {},
   "outputs": [
    {
     "data": {
      "image/png": "[encoded data removed]",
      "text/plain": [
       "<Figure size 720x576 with 1 Axes>"
      ]
     },
     "metadata": {},
     "output_type": "display_data"
    }
   ],
   "source": [
    "import matplotlib.pyplot as plt\n",
    "import numpy as np\n",
    "\n",
    "# MSE and MAE values for four models\n",
    "mae = [0.391, 0.399, 0.097, 0.726]\n",
    "mse = [2.045, 2.233, 0.096, 2.983]\n",
    "rmse = np.sqrt(mse)\n",
    "model_names = ['SVR Linear', 'SVR Non-Linear', 'Gradient Boosting Regressor', 'Random Forest Regressor']\n",
    "\n",
    "# Set the plot style\n",
    "plt.style.use('ggplot')\n",
    "\n",
    "# Set up the figure and axes\n",
    "fig, ax = plt.subplots(figsize=(10, 8))\n",
    "\n",
    "# Define the bar widths and positions\n",
    "bar_width = 0.35\n",
    "r1 = np.arange(len(mae))\n",
    "r2 = [x + bar_width for x in r1]\n",
    "\n",
    "# Plot the RMSE and MAE bars\n",
    "ax.bar(r1, rmse, color='cornflowerblue', width=bar_width, label='RMSE')\n",
    "ax.bar(r2, mae, color='lightcoral', width=bar_width, label='MAE')\n",
    "\n",
    "# Add x-axis tick labels and legend\n",
    "ax.set_xticks([r + bar_width/2 for r in range(len(model_names))])\n",
    "ax.set_xticklabels(model_names)\n",
    "ax.legend()\n",
    "\n",
    "# Add labels to the bars\n",
    "def add_labels(bars):\n",
    "    for bar in bars:\n",
    "        height = bar.get_height()\n",
    "        ax.text(bar.get_x() + bar.get_width() / 2., 1.05 * height,\n",
    "                '%.3f' % height, ha='center', va='bottom', fontsize=12)\n",
    "\n",
    "add_labels(ax.containers[0]) # RMSE bars\n",
    "add_labels(ax.containers[1]) # MAE bars\n",
    "\n",
    "# Set the y-axis label\n",
    "ax.set_ylabel('Error')\n",
    "\n",
    "# Add a title\n",
    "ax.set_title('Comparison of Models in terms of RMSE and MAE')\n",
    "\n",
    "# Show the plot\n",
    "plt.show()\n"
   ]
  },
  {
   "cell_type": "code",
   "execution_count": 56,
   "id": "79cb6cca",
   "metadata": {},
   "outputs": [
    {
     "data": {
      "image/png": "[encoded data removed]",
      "text/plain": [
       "<Figure size 720x576 with 1 Axes>"
      ]
     },
     "metadata": {},
     "output_type": "display_data"
    }
   ],
   "source": [
    "\n",
    "#It has been noted that SVR Non-linear and Gradient Boost Regressor \n",
    "#had the lowest RMSE and MAE, respectively. The maximum RMSE and MAE were obtained using Random Forest.\n",
    "\n",
    "import matplotlib.pyplot as plt\n",
    "import numpy as np\n",
    "\n",
    "# R-squared scores with and without dimensionality reduction\n",
    "with_dim_red = [0.914, 0.907, 0.991, 0.889]\n",
    "without_dim_red = [0.914, 0.907, 0.996, 0.875]\n",
    "\n",
    "model_names = ['SVR-Poly', 'SVR-RBF', 'GBR', 'Random Forest']\n",
    "\n",
    "# Set the plot style\n",
    "plt.style.use('ggplot')\n",
    "\n",
    "# Create a grouped bar plot\n",
    "fig, ax = plt.subplots(figsize=(10, 8))\n",
    "bar_width = 0.35\n",
    "opacity = 0.8\n",
    "index = np.arange(len(model_names))\n",
    "\n",
    "with_dim_red_bars = ax.bar(index, with_dim_red, bar_width, alpha=opacity, color='cornflowerblue', label='With Dim. Red.')\n",
    "without_dim_red_bars = ax.bar(index + bar_width, without_dim_red, bar_width, alpha=opacity, color='lightcoral', label='Without Dim. Red.')\n",
    "\n",
    "ax.set_xlabel('Models')\n",
    "ax.set_ylabel('R-squared')\n",
    "ax.set_title('Comparison of Models with and without Dim. Red. in terms of R-squared')\n",
    "ax.set_xticks(index + bar_width / 2)\n",
    "ax.set_xticklabels(model_names)\n",
    "ax.legend()\n",
    "\n",
    "# Add labels to the bars\n",
    "def add_labels(bars):\n",
    "    for bar in bars:\n",
    "        height = bar.get_height()\n",
    "        ax.text(bar.get_x() + bar.get_width() / 2., 1.05 * height,\n",
    "                '%.2f' % height, ha='center', va='bottom')\n",
    "\n"
   ]
  },
  {
   "cell_type": "code",
   "execution_count": null,
   "id": "be96ef6d",
   "metadata": {},
   "outputs": [],
   "source": []
  }
 ],
 "metadata": {
  "kernelspec": {
   "display_name": "Python 3",
   "language": "python",
   "name": "python3"
  },
  "language_info": {
   "codemirror_mode": {
    "name": "ipython",
    "version": 3
   },
   "file_extension": ".py",
   "mimetype": "text/x-python",
   "name": "python",
   "nbconvert_exporter": "python",
   "pygments_lexer": "ipython3",
   "version": "3.8.8"
  }
 },
 "nbformat": 4,
 "nbformat_minor": 5
}
